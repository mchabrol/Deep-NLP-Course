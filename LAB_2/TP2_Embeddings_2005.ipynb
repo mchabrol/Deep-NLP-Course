{
  "cells": [
    {
      "cell_type": "markdown",
      "metadata": {
        "id": "cUUsJZ__OdFb"
      },
      "source": [
        "#  NLP-lab :  Word embeddings\n",
        "\n",
        "In this series of exercises, we will explore three word embeddings:\n",
        "\n",
        "* [Collobert & Weston](http://www.jmlr.org/papers/volume12/collobert11a/collobert11a.pdf) https://ronan.collobert.com/senna/\n",
        "* [Word2Vec](https://arxiv.org/abs/1301.3781)\n",
        "* [BERT](https://huggingface.co/bert-base-uncased)\n",
        "\n",
        "\n",
        "In the code already provided, add your code to the place indicated by `YOUR CODE HERE`.\n",
        "\n",
        "**Important** : do NOT commit the data and embedding files in your repository git : it is a waste of resources and it takes more time to clone.\n",
        "> Use https://docs.github.com/en/get-started/getting-started-with-git/ignoring-files\n"
      ]
    },
    {
      "cell_type": "code",
      "execution_count": null,
      "metadata": {
        "id": "UrMBNrOeOdFd"
      },
      "outputs": [],
      "source": [
        "# !pip install seaborn\n",
        "# !pip install scikit-learn"
      ]
    },
    {
      "cell_type": "code",
      "execution_count": null,
      "metadata": {
        "id": "lUyn1DzWOdFf"
      },
      "outputs": [],
      "source": [
        "# basic imports\n",
        "import os\n",
        "import matplotlib.pyplot as plt\n",
        "# display matplotlib graphics in notebook\n",
        "%matplotlib inline\n",
        "import seaborn as sns\n",
        "\n",
        "# disable warnings for libraries\n",
        "import warnings\n",
        "warnings.filterwarnings(\"ignore\")\n",
        "\n",
        "# configure logger\n",
        "import logging\n",
        "logging.basicConfig(format='%(asctime)s %(levelname)s:%(message)s', level=logging.INFO, datefmt='%I:%M:%S')\n",
        "logger = logging.getLogger(__name__)\n"
      ]
    },
    {
      "cell_type": "markdown",
      "metadata": {
        "id": "lE4UhSsLOdFf"
      },
      "source": [
        "###  Embeddings exploration with Collobert's embeddings\n",
        "\n",
        "Upload the files containing the embeddings to `data`:\n",
        "* Collobert (size 50): [collobert_embeddings.txt.zip](https://storage.teklia.com/shared/deepnlp-labs/collobert_embeddings.txt.zip) which contains the embedding vectors and [collobert_words.lst](https://storage.teklia.com/shared/deepnlp-labs/collobert_words.lst) which contains the associated words;\n",
        "\n",
        "You need to unzip the files to load them.\n",
        "\n",
        "Feel free to open the files to see what they contain (it's sometimes surprising).\n",
        "\n",
        "#### Question:\n",
        ">* Add the files to your .gitignore\n",
        ">* Give the size in Mb of the embeddings files before unzipping.\n",
        ">* By exploring the content of the embedding files, give the number of words for which these files provide embeddings.\n",
        "\n"
      ]
    },
    {
      "cell_type": "markdown",
      "metadata": {
        "id": "TxdrHTm1OdFf"
      },
      "source": [
        "### List of closest words\n",
        "\n",
        "The aim of this exercise is to list the closest words to a given word for the Collobert embedding. First, we'll load the vectors of the Collobert embedding into a numpy array and the associated words into a python list. Then we'll use the [scipy KDTree](https://docs.scipy.org/doc/scipy/reference/generated/scipy.spatial.KDTree.html) data structure to quickly search for the vectors closest to a series of words.\n",
        "\n",
        "\n",
        "#### Question:\n",
        ">* load embedding vectors from the file `data/collobert_embeddings.txt` using the numpy function [genfromtxt](https://numpy.org/doc/stable/reference/generated/numpy.genfromtxt.html)\n",
        ">* load the words associated with the vectors from the `data/collobert_words.lst` file into a python list (using `open()` and `readlines()`)\n",
        ">* check that the sizes are correct\n"
      ]
    },
    {
      "cell_type": "code",
      "source": [
        "import zipfile\n",
        "import os\n",
        "\n",
        "#load data\n",
        "zip_path = \"/content/collobert_embeddings.txt.zip\"\n",
        "extract_path = \"/content/data\"\n",
        "\n",
        "if os.path.exists(zip_path):\n",
        "    with zipfile.ZipFile(zip_path, 'r') as zip_ref:\n",
        "        zip_ref.extractall(extract_path)\n",
        "    print(\"Fichier décompressé avec succès dans :\", extract_path)\n",
        "else:\n",
        "    print(\"Le fichier zip n'existe pas.\")\n"
      ],
      "metadata": {
        "colab": {
          "base_uri": "https://localhost:8080/"
        },
        "id": "szpytlqZ25bV",
        "outputId": "fdeb61ff-79ee-4ff2-cf99-cdb1500d5c81"
      },
      "execution_count": null,
      "outputs": [
        {
          "output_type": "stream",
          "name": "stdout",
          "text": [
            "Fichier décompressé avec succès dans : /content/data\n"
          ]
        }
      ]
    },
    {
      "cell_type": "code",
      "execution_count": null,
      "metadata": {
        "id": "mwVhwu3bOdFg",
        "outputId": "df590ee4-93a3-41a9-9389-3ccae3531aa3",
        "colab": {
          "base_uri": "https://localhost:8080/"
        }
      },
      "outputs": [
        {
          "output_type": "stream",
          "name": "stdout",
          "text": [
            "Nombre de mots chargés : 130000\n",
            "Dimensions des embeddings : (130000, 50)\n",
            "ok : nb de mots = nb d'embedding, chaque mot a un embedding associé\n"
          ]
        }
      ],
      "source": [
        "import numpy as np\n",
        "\n",
        "#embeddings\n",
        "embedding_file = \"data/collobert_embeddings.txt\"\n",
        "embeddings = np.genfromtxt(embedding_file, delimiter=\" \")\n",
        "\n",
        "#mots associés\n",
        "words_file = \"data/collobert_words.lst\"\n",
        "with open(words_file, \"r\") as f:\n",
        "    words = f.readlines()\n",
        "\n",
        "# Nettoyer la liste des mots (supprimer les espaces et les sauts de ligne)\n",
        "words = [word.strip() for word in words]\n",
        "\n",
        "# tailles\n",
        "print(f\"Nombre de mots chargés : {len(words)}\")\n",
        "print(f\"Dimensions des embeddings : {embeddings.shape}\")\n",
        "\n",
        "# Verification\n",
        "if embeddings.shape[0] == len(words):\n",
        "    print(\"ok : nb de mots = nb d'embedding, chaque mot a un embedding associé\")\n",
        "else:\n",
        "    print(\"probleme : les dimensions ne correspondent pas.\")\n",
        "\n"
      ]
    },
    {
      "cell_type": "markdown",
      "metadata": {
        "id": "aPN_od2gOdFg"
      },
      "source": [
        "KD trees are a very efficient data structure for storing large sets of points in a multi-dimensional space and performing very efficient nearest-neighbour searches.\n",
        "\n",
        "#### Question\n",
        "> * Initialise the [KDTree](https://docs.scipy.org/doc/scipy/reference/generated/scipy.spatial.KDTree.html) structure with Collobert's embedding vectors.\n",
        "> * Using the [tree.query](https://docs.scipy.org/doc/scipy/reference/generated/scipy.spatial.KDTree.query.html#scipy.spatial.KDTree.query) function, display the 5 nearest words for the following words: ‘mother’, ‘computer’, ‘dentist’, ‘war’, ‘president’, ‘secretary’, ‘nurse’.  *Hint: you can use the function `collobert_words.index(w)` to obtain the index of a word in the list of words*.\n",
        "> * Create a `words_plus_neighbors` list containing the words and all their neighbours (for the next question)"
      ]
    },
    {
      "cell_type": "code",
      "execution_count": null,
      "metadata": {
        "id": "HBRmXXJfOdFh",
        "outputId": "a2bf262b-bf61-4e88-f877-1ba3bc74eaa0",
        "colab": {
          "base_uri": "https://localhost:8080/"
        }
      },
      "outputs": [
        {
          "output_type": "stream",
          "name": "stdout",
          "text": [
            "Les 5 mots les plus proches de 'mother' sont : ['mother', 'daughter', 'wife', 'father', 'husband']\n",
            "Les 5 mots les plus proches de 'computer' sont : ['computer', 'laptop', 'multimedia', 'desktop', 'software']\n",
            "Les 5 mots les plus proches de 'dentist' sont : ['dentist', 'pharmacist', 'midwife', 'physician', 'housekeeper']\n",
            "Les 5 mots les plus proches de 'war' sont : ['war', 'revolution', 'death', 'court', 'independence']\n",
            "Les 5 mots les plus proches de 'president' sont : ['president', 'governor', 'chairman', 'mayor', 'secretary']\n",
            "Les 5 mots les plus proches de 'secretary' sont : ['secretary', 'minister', 'treasurer', 'chairman', 'commissioner']\n",
            "Les 5 mots les plus proches de 'nurse' sont : ['nurse', 'physician', 'veterinarian', 'dentist', 'surgeon']\n"
          ]
        }
      ],
      "source": [
        "from scipy import spatial\n",
        "from scipy.spatial import KDTree\n",
        "\n",
        "tree = KDTree(embeddings)\n",
        "\n",
        "#words\n",
        "query_words = ['mother', 'computer', 'dentist', 'war', 'president', 'secretary', 'nurse']\n",
        "\n",
        "# 5 nearest neighbors for each\n",
        "words_plus_neighbors = []\n",
        "for word in query_words:\n",
        "    words_plus_neighbors.append(word)\n",
        "    if word in words:\n",
        "        index = words.index(word)  # index du mot dans la liste words\n",
        "        _, neighbor_indices = tree.query(embeddings[index], k=5)  #5 nearest neighbors\n",
        "        neighbors = [words[i] for i in neighbor_indices]\n",
        "        words_plus_neighbors.extend(neighbors)\n",
        "\n",
        "        print(f\"Les 5 mots les plus proches de '{word}' sont : {neighbors}\")\n",
        "    else:\n",
        "        print(f\"Le mot '{word}' n'est pas dans le dictionnaire.\")\n"
      ]
    },
    {
      "cell_type": "code",
      "execution_count": null,
      "metadata": {
        "id": "gLo3X32aOdFh"
      },
      "outputs": [],
      "source": [
        "words_plus_neighbors = np.unique(words_plus_neighbors)\n"
      ]
    },
    {
      "cell_type": "markdown",
      "metadata": {
        "id": "h_kR2k6mOdFh"
      },
      "source": [
        "### Visualisation with T-SNE\n",
        "\n",
        "Embeddings are vectors with several hundred dimensions. It is therefore not possible to display them in their original space. However, it is possible to apply dimension reduction algorithms to display them in 2 or 3 dimensions. One of the dimension reduction algorithms allowing 2D visualisation is [tSNE](https://en.wikipedia.org/wiki/T-distributed_stochastic_neighbor_embedding).\n",
        "\n",
        "#### Question\n",
        "> * Create a `word_vectors` object of type `np.array` from a list containing all the embeddings of the words in the `words_plus_neighbors` list.\n",
        "> * Create a tSNE object from the `from sklearn.manifold import TSNE` library with the parameters `random_state=0`, `n_iter=2000` and `perplexity=15.0` for a 2-dimensional view.\n",
        "> * Calculate *T* the tSNE transformation of the `word_vectors` by applying function `.fit_transform(word_vectors)` to the tSNE object. This function estimates the parameters of the tSNE transformation and returns the reduced-dimension representation of the vectors used for estimation.\n",
        "> * Use the `scatterplot` function from [seaborn](https://seaborn.pydata.org/generated/seaborn.scatterplot.html) to represent points in 2 dimensions and add word labels using the `plt.annotate` function."
      ]
    },
    {
      "cell_type": "code",
      "execution_count": null,
      "metadata": {
        "id": "_C_ynQnjOdFh",
        "outputId": "22957682-6ac3-4e5d-df04-e004770838c7",
        "colab": {
          "base_uri": "https://localhost:8080/",
          "height": 641
        }
      },
      "outputs": [
        {
          "output_type": "display_data",
          "data": {
            "text/plain": [
              "<Figure size 1400x800 with 1 Axes>"
            ],
            "image/png": "[encoded data removed]"
          },
          "metadata": {}
        }
      ],
      "source": [
        "from sklearn.manifold import TSNE\n",
        "import matplotlib.pyplot as plt\n",
        "%matplotlib inline\n",
        "import seaborn as sns\n",
        "\n",
        "#word embeddings of words_plus_neighbors\n",
        "word_vectors = np.array([embeddings[words.index(word)] for word in words_plus_neighbors if word in words])\n",
        "\n",
        "# create the tSNE transform\n",
        "tsne = TSNE(n_components=2, random_state=0, n_iter=2000, perplexity=15.0)\n",
        "\n",
        "\n",
        "# fit and transform the word vectors, store in T\n",
        "T = tsne.fit_transform(word_vectors)\n",
        "\n",
        "\n",
        "fig = plt.figure(figsize=(14, 8))\n",
        "fig.patch.set_facecolor('#f9f9f9')\n",
        "\n",
        "sns.set(rc={'figure.figsize':(14, 8)})\n",
        "sns.set(font_scale=1)\n",
        "\n",
        "sns.scatterplot(x=T[:, 0], y=T[:, 1], s=100)\n",
        "\n",
        "for i, word in enumerate(words_plus_neighbors):\n",
        "    if word in words:\n",
        "        plt.annotate(word, (T[i, 0], T[i, 1]), fontsize=12, alpha=0.75)\n",
        "\n",
        "\n"
      ]
    },
    {
      "cell_type": "markdown",
      "metadata": {
        "id": "JEwToqL_OdFi"
      },
      "source": [
        "### Semantic arithmetic with Word2Vec\n",
        "\n",
        "One of the most original properties of Word2Vec embeddings is that the semantic relationships between vectors can be modelled by arithmetic operations. Given vectors representing the words `king`, `man` and `woman`, it is possible to compute the vector `v` as :  \n",
        "\n",
        "`v = vector(king)-vector(man)+vector(woman)`\n",
        "\n",
        "This operation corresponds to the following semantic relationship: *The king is to the man what the queen is to the woman*, which translates into the following arithmetic: *the concept of king, minus the concept of man plus the concept of woman gives the concept of queen*.\n",
        "\n",
        "In fact, if we look in the embedding for the word whose closest vector is `v`, we find `reine`.\n",
        "\n",
        "\n",
        "We will use a Word2Vec model pre-trained on the French Wac corpus.  This model has been trained on a corpus of 1 billion French words.\n",
        "\n",
        "This embedding is available in 2 formats:\n",
        "- a text format for easy exploration of the model :\n",
        "    - frWac_non_lem_no_postag_no_phrase_200_cbow_cut100.txt](https://storage.teklia.com/shared/deepnlp-labs/frWac_non_lem_no_postag_no_phrase_200_cbow_cut100.txt)\n",
        "- a binary format that can be loaded using the Gensim library:\n",
        "    - [enWac_non_lem_no_postag_no_phrase_200_cbow_cut100.bin](https://storage.teklia.com/shared/deepnlp-labs/frWac_non_lem_no_postag_no_phrase_200_cbow_cut100.bin)\n",
        "\n",
        "Download the text file onto your machine to analyse it.\n",
        "\n",
        "#### Question:\n",
        ">* Add the file to your .gitignore\n",
        ">* Give the size in Mb of the embedding files\n",
        ">* By exploring the contents of the embedding file in text format, give the number of words for which this model provides embeddings and the size of the embedding for each word.\n",
        "\n"
      ]
    },
    {
      "cell_type": "markdown",
      "metadata": {
        "id": "2VyyqJ2XOdFi"
      },
      "source": [
        "YOUR ANSWER HERE"
      ]
    },
    {
      "cell_type": "code",
      "execution_count": null,
      "metadata": {
        "colab": {
          "base_uri": "https://localhost:8080/"
        },
        "id": "7uH7KyU_OdFi",
        "outputId": "e8465db4-571b-4790-8860-e77e20a6f0dd"
      },
      "outputs": [
        {
          "output_type": "stream",
          "name": "stdout",
          "text": [
            "--2025-02-21 10:01:19--  https://storage.teklia.com/shared/deepnlp-labs/frWac_non_lem_no_postag_no_phrase_200_cbow_cut100.txt\n",
            "Resolving storage.teklia.com (storage.teklia.com)... 167.233.8.58\n",
            "Connecting to storage.teklia.com (storage.teklia.com)|167.233.8.58|:443... connected.\n",
            "HTTP request sent, awaiting response... 200 OK\n",
            "Length: 614381407 (586M) [text/plain]\n",
            "Saving to: ‘frWac_non_lem_no_postag_no_phrase_200_cbow_cut100.txt’\n",
            "\n",
            "frWac_non_lem_no_po 100%[===================>] 585.92M  19.0MB/s    in 29s     \n",
            "\n",
            "2025-02-21 10:01:49 (20.3 MB/s) - ‘frWac_non_lem_no_postag_no_phrase_200_cbow_cut100.txt’ saved [614381407/614381407]\n",
            "\n"
          ]
        }
      ],
      "source": [
        "!wget https://storage.teklia.com/shared/deepnlp-labs/frWac_non_lem_no_postag_no_phrase_200_cbow_cut100.txt"
      ]
    },
    {
      "cell_type": "code",
      "source": [
        "embedding_file = \"frWac_non_lem_no_postag_no_phrase_200_cbow_cut100.txt\"\n",
        "\n",
        "#10 premieres lignes\n",
        "with open(embedding_file, 'r', encoding='utf-8') as f:\n",
        "    for i in range(10):\n",
        "        line = f.readline().strip()\n",
        "        if not line:  #si on atteint la fin du fichier\n",
        "            break\n",
        "        print(line)\n"
      ],
      "metadata": {
        "colab": {
          "base_uri": "https://localhost:8080/"
        },
        "id": "C7UajC_a9_AG",
        "outputId": "9acc5ec3-2335-4e60-9c8c-c6bf26b5ab62"
      },
      "execution_count": null,
      "outputs": [
        {
          "output_type": "stream",
          "name": "stdout",
          "text": [
            "</s> 0.0020013428293168545 0.0022097015753388405 -0.0019151306478306651 -0.0016390228411182761 0.0006832885555922985 0.0015105438651517034 0.0004704284656327218 0.00010566711716819555 -0.0018017578404396772 0.0011092376662418246 -0.002178192138671875 0.0006247711135074496 -0.0003756713995244354 -0.00047859191545285285 -0.0016578674549236894 -0.0009410858037881553 0.0012896728003397584 0.0015126800863072276 0.0014845276018604636 0.000798721332103014 0.0007723998860456049 -0.001901321462355554 -0.002047882182523608 0.002484817523509264 0.001900634728372097 0.0015450286446139216 -0.0003019714495167136 0.0020078278612345457 -0.00024749754811637104 0.0003673553583212197 -7.461547647835687e-05 -0.0014916228828951716 0.0006561279296875 -0.0006687164423055947 -0.0019126891857013106 0.002377090509980917 0.00218963623046875 -0.0005475616198964417 -0.00011306762462481856 0.00025459288735873997 -0.0018188476096838713 -0.0020035551860928535 0.002277374267578125 3.1509400287177414e-05 -0.0012911987723782659 -0.0015210723504424095 -0.001538238488137722 0.0008484649588353932 0.00010070800635730848 0.0006655121105723083 -0.002106781117618084 -0.0019039154285565019 -6.500244489870965e-05 0.0005718230968341231 0.0012748718727380037 -0.0015850067138671875 0.002039794810116291 0.0004634857177734375 0.0005598449497483671 -0.00030418395181186497 0.0014932251069694757 -0.001143875066190958 -0.0010487366234883666 0.0010791778331622481 -0.0003765869187191129 0.0005153656238690019 0.0009022522135637701 -0.002044296357780695 -0.0009915161645039916 0.0014568328624591231 0.0021159362513571978 0.001966018695384264 -0.0015234374441206455 -0.0010538483038544655 -0.0004545593401417136 0.0010007476666942239 -0.0018942260649055243 0.0014989471528679132 0.0013938903575763106 -0.0007994842599146068 -0.0007757568382658064 -0.001119155902415514 0.002114410512149334 0.0019559478387236595 -0.0005899047828279436 0.002107467735186219 0.0024101256858557463 0.0009076690766960382 0.0024914550594985485 -0.0015555572463199496 -0.0007658386020921171 -0.0010536956833675504 -0.0014535522786900401 0.0014073944184929132 0.000789642333984375 0.00021247864060569555 -0.0010968017159029841 0.0007619476527906954 0.001529693603515625 9.681701340014115e-05 0.0011398314964026213 -0.002476272638887167 0.0021574401762336493 0.0002399444638285786 -0.00091552734375 -0.0010416412260383368 -0.00037399292341433465 -0.0014675140846520662 -0.002184753306210041 -0.001418533269315958 0.0021385191939771175 -0.0008849334553815424 -0.0013397217262536287 0.0011586761102080345 -0.0008518982212990522 0.002378311241045594 -0.0008023071568459272 -0.002294387901201844 0.0013578796060755849 -3.7155150494072586e-05 -0.0017443847609683871 0.0004878997860942036 0.000720977783203125 -0.0002407073916401714 0.0009121703915297985 -0.0019788360223174095 0.0004405212530400604 0.0009082794422283769 -0.0015045165782794356 7.102966628735885e-05 -3.0364990379894152e-05 -0.0011995696695521474 -0.0014163207961246371 -0.0023468779399991035 1.1444091796875e-05 7.637024100404233e-05 4.882812390860636e-06 -0.001966934185475111 -0.0024809264577925205 -0.002373275812715292 -0.0021627808455377817 -0.0002735137823037803 0.0006956481956876814 0.0005921173142269254 -0.0015911865048110485 0.00249900808557868 -0.0010057068429887295 -0.0006368255708366632 -0.0007022094796411693 0.0023662566673010588 -0.0018818664830178022 0.0005805206019431353 -0.0006677245837636292 0.0015938568394631147 2.0294190107961185e-05 0.002134780865162611 -0.0014096068916842341 -0.0013025664957240224 -0.002096099779009819 -0.001833419781178236 -0.0015997313894331455 -0.0015573883429169655 0.0012220763601362705 -0.0009334564092569053 0.0013400268508121371 0.0018450164934620261 0.0006779480027034879 0.0014752959832549095 0.0012377930106595159 0.0011702728224918246 -0.0017753600841388106 -0.0017165375174954534 -0.0018283081008121371 -6.599425978492945e-05 0.0020652771927416325 -0.0013683319557458162 -0.0015301513485610485 -0.0020981598645448685 0.0016529846470803022 -0.0020894622430205345 -0.0002896118094213307 0.001089401193894446 -0.0023091125767678022 -0.0022393036633729935 0.0007214355282485485 0.0017623138846829534 0.0021321105305105448 0.0010727691696956754 0.0015811157645657659 -0.0015637970063835382 -0.0018202209612354636 0.0019873809069395065 -0.0013824462657794356 0.0008766937535256147 0.00028701781411655247 0.0008951568743214011 -0.0005911255138926208 9.941100870491937e-05 -0.000843048095703125 -0.0005632782122120261\n",
            "de 0.1856531947851181 0.3455922305583954 -0.00239726435393095 0.09520743042230606 0.10628729313611984 0.04482939466834068 0.19192156195640564 0.13954055309295654 0.0772615373134613 -0.06653188169002533 0.01384191308170557 0.2507738471031189 0.07828360795974731 0.17258726060390472 -0.20012953877449036 0.08144734799861908 -0.13455452024936676 -0.20251964032649994 -0.022300727665424347 0.10658435523509979 -0.02207500860095024 -0.12085612863302231 -0.21057724952697754 0.21707552671432495 0.2158704251050949 0.09687627851963043 -0.07599121332168579 0.022421805188059807 0.019655045121908188 -0.04314612224698067 -0.002925689099356532 0.07846253365278244 -0.3260728418827057 -0.03635320067405701 -0.021546948701143265 0.07921931892633438 0.00803279783576727 0.2228018045425415 -0.1471172273159027 -0.021203119307756424 -0.1438552439212799 -0.027513675391674042 -0.17244106531143188 -0.15604868531227112 -0.2669156789779663 0.06609373539686203 0.21796537935733795 -0.08693601936101913 -0.2529548704624176 0.14254890382289886 -0.16541634500026703 0.043096475303173065 0.12248049676418304 0.07326146960258484 -0.031276557594537735 -0.0434524342417717 -0.15788398683071136 0.15774822235107422 -0.18955017626285553 0.14849159121513367 0.013322221115231514 -0.007691615726798773 -0.016780128702521324 0.006766757927834988 -0.09344088286161423 -0.014809995889663696 -0.09716469794511795 -0.1721278727054596 -0.10734187066555023 -0.029303723946213722 -0.08297465741634369 0.07058507949113846 -0.018725182861089706 0.12545378506183624 -0.02486790530383587 -0.1605576127767563 -0.18171240389347076 -0.12277050316333771 0.16644015908241272 0.09244376420974731 -0.005952324718236923 -0.05458176136016846 0.13755953311920166 0.07509419322013855 0.1418040543794632 0.19768768548965454 0.02012874372303486 -0.009054779075086117 0.12116396427154541 -0.07943857461214066 0.12413569539785385 -0.10789012908935547 -0.1338280439376831 0.03956131637096405 0.04965893179178238 0.036081232130527496 -0.16950681805610657 -0.046940840780735016 -0.028495442122220993 -0.1948305368423462 -0.2586262822151184 -0.013342509977519512 -0.13209845125675201 0.012210557237267494 0.04005836322903633 0.21999485790729523 -0.21493911743164062 0.018810000270605087 -0.0032738123554736376 0.10087239742279053 -0.10859273374080658 -0.017558986321091652 0.0219379011541605 0.006155825685709715 0.054402779787778854 -0.14314596354961395 -0.18038877844810486 0.05180623382329941 0.03945302218198776 0.08492688089609146 0.024425841867923737 0.19989821314811707 0.28703048825263977 -0.08709375560283661 0.02370499074459076 -0.14499273896217346 0.040271975100040436 -0.04867750406265259 -0.05003286153078079 -0.13406118750572205 0.04998057335615158 -0.3423914313316345 0.14865094423294067 0.08856667578220367 0.10742362588644028 -0.228717640042305 0.019790301099419594 -0.13190342485904694 0.10046198219060898 -0.12783221900463104 0.1540588140487671 0.1720968335866928 -0.06093014031648636 -0.13271433115005493 -0.0317775197327137 -0.049498580396175385 0.07113626599311829 -0.23818695545196533 0.19275732338428497 -0.10858028382062912 -0.02835216000676155 -0.07332433760166168 0.059015724807977676 -0.1207367330789566 0.031903669238090515 0.021650874987244606 0.04060843214392662 0.11241643875837326 0.03543873876333237 0.1621284931898117 -0.1677824705839157 -0.06331006437540054 0.02391980215907097 0.08330231159925461 -0.12765148282051086 0.07678209245204926 0.19559717178344727 -0.2671601474285126 -0.015262856148183346 -0.2504728138446808 0.21055558323860168 -0.12233755737543106 0.010061288252472878 -0.08770233392715454 0.08532384783029556 0.191819965839386 -0.11234068870544434 -0.19832514226436615 0.10474847257137299 0.0807812437415123 0.09954449534416199 -0.029991382732987404 -0.09068676829338074 0.25280526280403137 -0.07810677587985992 -0.08422140777111053 -0.026705831289291382 0.04328739643096924 -0.10071145743131638 -0.08954602479934692 0.1213478371500969 -0.06782039999961853 0.055473197251558304 0.06597471237182617 -0.1618579775094986 -0.14335283637046814 -0.09055783599615097 0.16005676984786987 0.24409282207489014 -0.138124018907547\n",
            "la 0.1119367927312851 0.22005704045295715 -0.27005529403686523 0.2351171374320984 0.18583135306835175 0.026058686897158623 0.18460853397846222 0.26922401785850525 0.10823681205511093 0.24500329792499542 0.006022972520440817 0.08251263201236725 0.3352445662021637 0.18614426255226135 -0.019448181614279747 0.18923459947109222 0.18448659777641296 -0.0606062188744545 0.08004967123270035 0.19253145158290863 -0.19559317827224731 -0.08227003365755081 -0.08751418441534042 0.05727112293243408 0.6318857073783875 -0.000679218559525907 0.08870933204889297 0.010745934210717678 0.10664941370487213 -0.09518390148878098 -0.30552995204925537 0.1677556186914444 -0.5075756907463074 -0.15856331586837769 0.22427597641944885 0.07958648353815079 0.0945301502943039 0.2115001082420349 -0.03872806951403618 0.02294505387544632 -0.02478940226137638 -0.05135078355669975 -0.11464623361825943 -0.14681796729564667 -0.3049930930137634 -0.1524915099143982 0.23857155442237854 0.08659522980451584 -0.1837414801120758 0.31954845786094666 -0.2423967570066452 -0.08216474205255508 -0.1206500306725502 0.2266637235879898 0.16008232533931732 -0.12285559624433517 0.004537453409284353 0.08811983466148376 0.14583595097064972 0.1475401222705841 0.012050893157720566 -0.10210753232240677 -0.13300853967666626 -0.16752038896083832 -0.012270012870430946 -0.4659232497215271 -0.11090745776891708 -0.3150975704193115 -0.06089242175221443 0.059286557137966156 -0.05639081448316574 0.020717622712254524 0.08040979504585266 0.07499176263809204 -0.05257647857069969 -0.21941865980625153 -0.09184356033802032 -0.10529236495494843 -0.1434171348810196 0.19900579750537872 0.1254265457391739 -0.27989840507507324 0.10436111688613892 0.2955862879753113 0.18936342000961304 0.17574000358581543 0.12225639820098877 0.05394947528839111 -0.016721179708838463 0.06308512389659882 0.208477184176445 0.15802927315235138 -0.2296018898487091 -0.25493505597114563 -0.09223075211048126 0.19785943627357483 -0.21255192160606384 0.11432626098394394 0.15458206832408905 0.028243830427527428 -0.37970617413520813 -0.10875330120325089 -0.20578089356422424 -0.06966542452573776 -0.04759673774242401 0.15380258858203888 -0.16804876923561096 -0.05113149434328079 0.01631852425634861 -0.09557666629552841 -0.13980887830257416 -0.2836817502975464 0.016679290682077408 0.05199890583753586 0.20497365295886993 -0.1406276822090149 -0.1223856657743454 0.10288915038108826 0.16548651456832886 0.06952537596225739 0.10959403961896896 0.030156737193465233 0.2773561179637909 -0.051080428063869476 -0.10834389179944992 -0.010785117745399475 -0.04502023383975029 0.12648005783557892 0.01419654581695795 0.10224335640668869 0.021190477535128593 -0.4834662973880768 -0.15763550996780396 0.2507433295249939 0.33714595437049866 -0.2657798230648041 0.07528730481863022 -0.1503533124923706 -0.02749503031373024 0.0867539793252945 0.2793479263782501 0.13811230659484863 -0.10843581706285477 -0.14527904987335205 -0.07146580517292023 -0.23117747902870178 0.10346867889165878 -0.11878000944852829 0.2640882134437561 -0.0963079109787941 0.07218503206968307 -0.09634706377983093 0.029318243265151978 -0.20751237869262695 -0.09145689755678177 0.2962806224822998 0.007559164892882109 0.00892884936183691 -0.10810701549053192 0.2669524550437927 -0.07733950018882751 0.09097244590520859 0.1114109680056572 0.049110185354948044 0.18895864486694336 0.20060977339744568 0.20157386362552643 -0.24616055190563202 0.14074349403381348 -0.49911582469940186 0.281130313873291 0.11864357441663742 -0.03829331696033478 -0.1826632171869278 -0.008878909051418304 0.3545893728733063 -0.25253504514694214 -0.22331690788269043 0.20123907923698425 0.0026042636018246412 0.09633182734251022 0.12216208130121231 0.019029835239052773 0.0422142818570137 -0.0541376918554306 -0.511476993560791 0.106655053794384 0.014936091378331184 0.09952075034379959 -0.049031760543584824 0.02601594291627407 -0.10244201868772507 0.25732892751693726 0.12825340032577515 -0.08973768353462219 0.017443398013710976 -0.15910771489143372 0.2211637645959854 -0.24907101690769196 0.12379812449216843\n",
            "et 0.15545830130577087 0.35019180178642273 0.07428216934204102 -0.215814009308815 0.2444227635860443 0.06945313513278961 0.2663428485393524 0.06108742207288742 0.11433710902929306 0.008864348754286766 0.008769573643803596 0.013949901796877384 0.020700518041849136 0.24449726939201355 -0.002488794270902872 0.16778819262981415 0.018665030598640442 -0.04074607044458389 0.060783304274082184 0.024084869772195816 -0.16187120974063873 0.025533586740493774 -0.17958737909793854 0.2316233366727829 -0.012347405776381493 0.07205072790384293 -0.0776020735502243 0.13984335958957672 -0.1336534470319748 -0.018278980627655983 0.0008779180352576077 0.08649347722530365 -0.0829637348651886 -0.21311168372631073 0.022869424894452095 -0.07223504781723022 -0.20725707709789276 0.21444573998451233 -0.11155040562152863 0.19373008608818054 -0.05314406380057335 -0.04625680670142174 -0.25358691811561584 -0.1976674646139145 -0.03238986060023308 0.006618170998990536 0.09547434002161026 0.006261278875172138 -0.24757935106754303 0.18773101270198822 -0.0941324383020401 0.08698020130395889 0.10302457213401794 0.08904824405908585 0.10090500116348267 -0.1926981508731842 -0.028377825394272804 0.23599697649478912 -0.23788808286190033 -0.016385117545723915 -0.05384961888194084 -0.05735413730144501 -0.09522189944982529 -0.04637506976723671 -0.006905345246195793 0.2319827824831009 0.006809021346271038 -0.22559642791748047 -0.07261142134666443 -0.021878063678741455 -0.21389999985694885 -0.06933678686618805 -0.006489232648164034 -0.12949886918067932 0.12192549556493759 -0.2165861427783966 -0.07283464074134827 -0.11342372000217438 0.38939741253852844 -0.036008965224027634 -0.16678842902183533 -0.07676469534635544 0.0044740294106304646 0.02834223210811615 0.07920176535844803 0.05537505820393562 0.15194198489189148 0.034104473888874054 -0.11680012196302414 0.008507744409143925 0.15357384085655212 -0.07005931437015533 -0.1655617356300354 0.31444549560546875 0.02889903448522091 0.058013055473566055 -0.05562697723507881 0.036488160490989685 -0.1205100417137146 -0.03983086720108986 -0.15093214809894562 0.09007197618484497 -0.22429348528385162 -0.0022131779696792364 -0.20374536514282227 0.17853333055973053 0.09460563957691193 0.06592097133398056 -0.013542264699935913 -0.0664118081331253 -0.22774016857147217 -0.10958797484636307 -0.007466716691851616 0.10174788534641266 0.0010176565265282989 -0.12776778638362885 0.04613570123910904 -0.04954629763960838 -0.11079882830381393 -0.18996520340442657 -0.09986018389463425 -0.01691731996834278 -0.07388167083263397 0.05300197750329971 -0.0836934968829155 -0.17803849279880524 0.22063900530338287 0.127237930893898 -0.034894537180662155 -0.15656737983226776 -0.18273121118545532 0.051930077373981476 0.24022385478019714 0.08441132307052612 -0.014777693897485733 0.03372948616743088 -0.002461945405229926 -0.22655682265758514 0.04531143233180046 -0.12152593582868576 0.13005782663822174 -0.015419930219650269 0.05505598336458206 -0.09002374112606049 0.005992380902171135 -0.0036249211989343166 -0.002448057057335973 0.038839612156152725 0.30636054277420044 -0.07838111370801926 0.010898658074438572 0.011452760547399521 -0.10224106907844543 0.008114921860396862 -0.03236892819404602 0.0010279628913849592 0.039885014295578 0.0970422774553299 0.11312692612409592 0.03274379298090935 -0.01999622769653797 -0.04875035211443901 -0.03266618773341179 -0.058078356087207794 -0.06502891331911087 0.14372088015079498 0.03814292326569557 -0.0389254167675972 0.06285117566585541 -0.29553118348121643 0.26835235953330994 0.0290683601051569 -0.02277979999780655 0.018636640161275864 0.06258077919483185 -0.10550536215305328 -0.021500470116734505 -0.008905475027859211 0.14183925092220306 0.105926513671875 0.09752215445041656 -0.30980756878852844 0.0043435050174593925 -0.12422945350408554 0.009598379954695702 -0.15675239264965057 -0.16815446317195892 -0.1175108328461647 -0.006957481615245342 -0.06609661877155304 0.2829858660697937 0.003839526092633605 -0.136241614818573 0.3067600727081299 0.0057493834756314754 0.025335796177387238 -0.08283468335866928 0.30165931582450867 0.16128858923912048 0.09346701949834824\n",
            "le 0.09102179110050201 0.01195888314396143 -0.11394204944372177 -0.07808559387922287 -0.018829645588994026 0.2030019313097 -0.205564945936203 0.13115836679935455 0.1840406060218811 -0.3158145248889923 0.08202573657035828 0.20863433182239532 -0.025245554745197296 0.060262538492679596 -0.13883745670318604 -0.0014225237537175417 -0.16224373877048492 -0.1677793711423874 -0.08310356736183167 -0.0225976649671793 0.0896112471818924 -0.22265808284282684 0.029178962111473083 -0.13147477805614471 0.3232758045196533 -0.05626695603132248 -0.1257413923740387 0.21986663341522217 -0.13442154228687286 0.44375601410865784 0.07016276568174362 -0.17508967220783234 -0.022660793736577034 -0.18649503588676453 0.2618649899959564 -0.13355626165866852 -0.15371398627758026 0.25389564037323 -0.07833006978034973 0.07286321371793747 -0.0890241414308548 -0.03954601660370827 -0.18562427163124084 0.08919477462768555 -0.24440503120422363 -0.5144761204719543 -0.06422410905361176 0.29889899492263794 -0.2640213370323181 0.013823702931404114 0.21039985120296478 0.05646662041544914 0.1498609185218811 0.06243952736258507 -0.21922993659973145 -0.11010336875915527 -0.30238375067710876 -0.08169586211442947 0.08358453959226608 0.16771730780601501 0.11821992695331573 -0.10327387601137161 -0.2767321765422821 0.08849270641803741 -0.0020216426346451044 -0.07861092686653137 0.10014571249485016 -0.023234613239765167 -0.02767551690340042 0.05603841319680214 -0.048612941056489944 -0.22058171033859253 0.18849103152751923 0.18685895204544067 0.11953212320804596 0.11133110523223877 0.18088719248771667 -0.005391718354076147 -0.27305448055267334 -0.02180423215031624 0.16388970613479614 0.03440294414758682 0.22029581665992737 0.17733332514762878 0.17539560794830322 -0.03151901811361313 -0.00835657212883234 0.08473238348960876 -0.004353055264800787 -0.00951080210506916 0.12855912744998932 -0.013866666704416275 0.5220375657081604 -0.18730618059635162 0.058049917221069336 -0.2053697556257248 0.0693722739815712 0.13716109097003937 -0.15595903992652893 -0.29174336791038513 0.21361801028251648 0.09837155044078827 0.03446613997220993 0.14392313361167908 -0.14615054428577423 -0.01199402566999197 0.14125408232212067 -0.06963932514190674 0.045869577676057816 0.0013737654080614448 0.18059058487415314 0.0044281259179115295 0.03174177557229996 -0.0033014577347785234 0.23864372074604034 0.018295709043741226 -0.10601018369197845 -0.23394331336021423 0.23769018054008484 0.03845953941345215 0.17150454223155975 0.04099510610103607 -0.0916428491473198 -0.0026743728667497635 0.10991665720939636 0.10855504870414734 -0.02493230439722538 -0.1443271040916443 0.1927613466978073 -0.08150877803564072 -0.06140748783946037 0.11737775057554245 0.26415786147117615 -0.11815231293439865 0.08758850395679474 -0.01968519389629364 -0.11951731145381927 -0.2588510513305664 0.3504505455493927 -0.08155982941389084 -0.037475574761629105 0.057723790407180786 -0.030205875635147095 0.05394395440816879 -0.10107716172933578 0.15691855549812317 0.19690926373004913 -0.10586300492286682 -0.27647632360458374 -0.14745861291885376 0.25237366557121277 -0.06888936460018158 0.10009352117776871 0.19210803508758545 0.3063499927520752 0.0661119893193245 0.01802288554608822 -0.005966076627373695 0.1420796513557434 0.17296110093593597 -0.1343613564968109 -0.14194369316101074 0.1361953467130661 -0.06933074444532394 0.166068434715271 0.25074005126953125 0.037132054567337036 -0.13983669877052307 -0.012370695360004902 0.15078255534172058 0.07416577637195587 -0.3028408885002136 -0.07566571980714798 -0.17762215435504913 0.07262597978115082 0.09441693872213364 0.04655776917934418 -0.24367168545722961 -0.013286922127008438 -0.18276715278625488 0.04980633407831192 0.1584128439426422 0.1584027111530304 -0.12671217322349548 0.02499856986105442 0.13848578929901123 0.17946217954158783 0.09630317986011505 0.10548146814107895 -0.08025320619344711 0.09235312789678574 -0.1959124058485031 0.252752423286438 -0.06448503583669662 -0.1382642686367035 0.025658929720520973 -0.0026387351099401712 0.021595429629087448 -0.059298381209373474 -0.0006300475797615945\n",
            "l' 0.2688678503036499 0.14416296780109406 -0.05649793520569801 0.1721997857093811 -0.06412896513938904 0.3048158884048462 -0.10875000804662704 0.28081318736076355 0.04306485503911972 0.024185050278902054 -0.14371845126152039 0.144204780459404 0.13148267567157745 0.036290477961301804 0.0018896734109148383 0.004230616148561239 -0.38493797183036804 -0.1417466700077057 0.23438198864459991 -0.08917859196662903 -0.19340194761753082 0.07117199152708054 -0.08748980611562729 -0.10665228962898254 0.3484267592430115 0.06260296702384949 0.033597178757190704 0.37568172812461853 0.1283126324415207 0.22253786027431488 0.05081707611680031 -0.007919788360595703 -0.3849763870239258 -0.26783350110054016 -0.08022286742925644 0.1313721388578415 -0.098253533244133 0.17400528490543365 0.127457857131958 -0.10811197012662888 -0.2216552495956421 0.06630739569664001 -0.07738291472196579 -0.1703803986310959 -0.2797631025314331 -0.17903873324394226 0.19292698800563812 0.30074644088745117 -0.1938503086566925 0.2217869758605957 -0.13031528890132904 0.17256762087345123 0.03175674378871918 0.1255807876586914 -0.010500817559659481 0.10934457182884216 -0.30011677742004395 0.08342484384775162 0.0723070278763771 0.2925547957420349 0.2442278414964676 -0.1994885951280594 -0.033088549971580505 0.04859297722578049 -0.1590861678123474 -0.2008390873670578 0.0036205905489623547 -0.3279056251049042 -0.20606178045272827 -0.07589694112539291 -0.1318160444498062 0.12887203693389893 0.007366764824837446 0.16850019991397858 0.15307410061359406 -0.14098858833312988 -0.061165206134319305 -0.2085738629102707 -0.15643242001533508 0.06490426510572433 0.09661014378070831 -0.049868687987327576 0.20399466156959534 -0.06523522734642029 0.14978739619255066 0.05474785715341568 -0.1010141596198082 0.09469891339540482 -0.028148021548986435 -0.15157918632030487 0.15516486763954163 -0.11639697104692459 0.09585859626531601 -0.09665457904338837 -0.19378530979156494 -0.09117912501096725 0.16284923255443573 0.04237964376807213 0.0051201446913182735 -0.2537207007408142 -0.13082866370677948 0.0050689042545855045 -0.5219045281410217 0.014040271751582623 -0.24717874825000763 -0.14056608080863953 -0.015616699121892452 -0.15303142368793488 0.031207285821437836 0.07785629481077194 -0.4293927848339081 -0.3521482050418854 0.08973130583763123 -0.022845376282930374 0.04131563380360603 0.09429249912500381 -0.10074248909950256 0.045431774109601974 -0.10397858917713165 -0.028856310993433 0.01091756857931614 0.1534845232963562 0.12396091222763062 -0.048398084938526154 0.0027529539074748755 0.25405415892601013 -0.13554084300994873 -0.17414799332618713 0.3924832344055176 0.08726280927658081 0.05594834312796593 -0.24384941160678864 0.37966957688331604 0.020352503284811974 0.09667351841926575 -0.09781929105520248 -0.31844204664230347 -0.03311740607023239 0.3167266547679901 -0.26777544617652893 0.08548642694950104 -0.11098320782184601 -0.40368786454200745 -0.42800667881965637 -0.32169055938720703 -0.14559446275234222 0.23557411134243011 -0.17728228867053986 0.12621468305587769 0.1339484602212906 0.17827318608760834 -0.38570651412010193 -0.1374305635690689 -0.29664984345436096 0.42052462697029114 0.09641323238611221 -0.04949212446808815 0.22302868962287903 0.000765933480579406 0.036149680614471436 0.1326507031917572 -0.04390367493033409 0.09787921607494354 0.024305783212184906 0.13540886342525482 -0.02946515381336212 0.20579205453395844 -0.20956410467624664 -0.25589749217033386 -0.2898527979850769 0.3059898018836975 0.27054423093795776 0.11478491872549057 -0.10922683030366898 0.2966744303703308 0.07070118188858032 -0.16171042621135712 -0.16778208315372467 0.17398662865161896 0.0766875147819519 0.0320647694170475 0.004522072151303291 -0.1281951665878296 -0.03592303767800331 -0.026909293606877327 -0.3513708710670471 -0.27316057682037354 0.20631904900074005 0.10521731525659561 -0.06651933491230011 -0.14722095429897308 -0.02563478797674179 -0.01709911972284317 0.23843584954738617 -0.14098230004310608 0.0719328224658966 0.1032060980796814 -0.05027911067008972 0.06086442992091179 0.21434922516345978\n",
            "les 0.14076656103134155 0.6909307241439819 -0.16484838724136353 -0.26937809586524963 0.3273822069168091 0.056042831391096115 0.37030211091041565 0.004400801844894886 -0.08472421020269394 -0.10297299921512604 -0.07161908596754074 0.15207280218601227 -0.23821544647216797 0.17245909571647644 -0.2334725558757782 0.007827025838196278 0.11427651345729828 0.26231682300567627 0.11975094676017761 0.14146031439304352 -0.06842778623104095 0.017253924161195755 -0.017059622332453728 0.23994065821170807 -0.19773146510124207 0.0637328177690506 -0.1941649615764618 0.1677328497171402 -0.22166475653648376 0.12722648680210114 -0.14751245081424713 -0.09619690477848053 -0.12260512262582779 -0.11888435482978821 0.08600790798664093 -0.22832965850830078 -0.15844210982322693 0.17862743139266968 -0.17871330678462982 0.2174801379442215 0.0847059041261673 0.21685011684894562 0.004206986632198095 0.27717721462249756 0.103858083486557 -0.2810057997703552 -0.25070661306381226 0.13079674541950226 -0.5781360864639282 0.03210931271314621 -0.2534489929676056 -0.19737671315670013 0.08078549802303314 0.21078786253929138 -0.17058734595775604 0.010696648620069027 0.230167955160141 0.11368492990732193 0.22462084889411926 -0.2356155812740326 -0.2811131179332733 -0.14137329161167145 0.31715160608291626 0.1192198321223259 0.03577084094285965 0.16141486167907715 0.22274470329284668 -0.20206528902053833 -0.37184202671051025 0.22930875420570374 0.20851363241672516 0.09363212436437607 0.2644840180873871 -0.5530465841293335 0.19372785091400146 0.1270846277475357 0.12211905419826508 -0.010529144667088985 0.44128215312957764 0.24761426448822021 -0.027034182101488113 0.07373344898223877 -0.2166326344013214 -0.01804829202592373 0.13901719450950623 -0.04041202366352081 0.4797711968421936 -0.28924378752708435 0.03479210287332535 0.02188153751194477 -0.1206217035651207 -0.1182079166173935 0.1468656212091446 0.3097109794616699 -0.3474929630756378 -0.06318183243274689 -0.19011245667934418 0.04778313264250755 -0.15068098902702332 -0.2899250388145447 0.011258960701525211 -0.26932385563850403 0.18571017682552338 0.012292447499930859 5.273898568702862e-05 0.2054719179868698 0.1451592743396759 -0.11987436562776566 -0.10096590220928192 0.17096871137619019 0.054207656532526016 0.1664590984582901 -0.1224857047200203 -0.04320426285266876 -0.13281431794166565 0.20164236426353455 0.09614719450473785 -0.055559106171131134 -0.37219491600990295 -0.178243488073349 0.08474699407815933 0.27172285318374634 -0.1732434183359146 0.07211713492870331 -0.0020161401480436325 0.10719236731529236 0.05730398744344711 0.23404011130332947 0.091016985476017 0.006867911200970411 0.2253725528717041 -0.03604027256369591 0.06545183807611465 0.04134390875697136 -0.01112477295100689 0.18867920339107513 0.43540775775909424 -0.07331158965826035 -0.08303314447402954 -0.007290820591151714 0.019827060401439667 -0.09616269916296005 0.08729705214500427 -0.21483591198921204 0.15455619990825653 -0.1185966283082962 -0.17981351912021637 -0.14209724962711334 0.01766512356698513 0.02861798368394375 -0.07203523814678192 0.08034027367830276 -0.37032830715179443 0.09426350891590118 0.1370910257101059 -0.06545916944742203 -0.07284940034151077 0.04027945175766945 0.060123588889837265 0.15624213218688965 -0.13110560178756714 0.007740150671452284 -0.10826338082551956 0.025441762059926987 -0.03654320165514946 -0.13460928201675415 -0.12330489605665207 0.1252528578042984 0.06449022144079208 -0.2551021873950958 0.12600676715373993 0.18088120222091675 0.14026424288749695 0.32941484451293945 0.12398077547550201 -0.16626334190368652 -0.20413248240947723 0.05502759665250778 -0.05199326202273369 0.16599296033382416 0.24615666270256042 -0.40957194566726685 -0.15837828814983368 -0.01459235604852438 -0.012172372080385685 0.19203224778175354 -0.23266153037548065 -0.08166133612394333 -0.002600077772513032 -0.10752321034669876 0.25566914677619934 0.13853977620601654 0.015972748398780823 0.11719157546758652 0.25921499729156494 -0.164995938539505 -0.0026545857544988394 -0.10804763436317444 0.2101430743932724 0.2041120082139969\n",
            "à -0.14658628404140472 0.2013433575630188 -0.09728457033634186 -0.1062486469745636 0.22406113147735596 0.2012423574924469 0.4570070505142212 0.37110084295272827 -0.15003663301467896 0.013800950720906258 -0.13460996747016907 0.19998054206371307 -0.08241552114486694 -0.08548209071159363 0.17097757756710052 0.029469558969140053 -0.08923810720443726 -0.1250116527080536 0.06855641305446625 -0.1388094276189804 -0.2345951646566391 -0.12782059609889984 -0.08649960160255432 0.01966903731226921 -0.2668708562850952 -0.03936728835105896 0.02991214208304882 -0.008845563046634197 -0.15708109736442566 0.2648060917854309 -0.21019284427165985 -0.34610527753829956 -0.291672945022583 -0.22976498305797577 0.06997006386518478 0.05108468607068062 -0.16435039043426514 0.26672065258026123 -0.04778147488832474 0.0926465317606926 -0.12256831675767899 0.09142693132162094 -0.05142053961753845 -0.13463497161865234 0.136595219373703 -0.11048122495412827 0.17072059214115143 0.1123250275850296 -0.3371124565601349 0.00558452308177948 -0.06539374589920044 -0.04115580394864082 0.2470158040523529 -0.15932293236255646 -0.2187046855688095 0.1698669195175171 -0.01744501106441021 -0.003058637958019972 0.03154733031988144 0.12703903019428253 0.005517266690731049 -0.2483440488576889 -0.16988255083560944 -0.02501527965068817 0.07568899542093277 -0.2016269862651825 0.21225625276565552 -0.1384887546300888 0.27262911200523376 -0.38149213790893555 -0.16086377203464508 0.16861724853515625 0.14350296556949615 0.19980449974536896 -0.10245748609304428 0.180884450674057 -0.2935165762901306 -0.059302918612957 0.12241064012050629 0.1018015593290329 -0.006718955468386412 0.0016039353795349598 0.05403868108987808 0.044584598392248154 0.233204647898674 0.12437768280506134 -0.23383300006389618 -0.32438406348228455 0.09732504189014435 0.02944670431315899 0.08542947471141815 0.010624978691339493 -0.15327490866184235 -0.04989645630121231 0.07403992116451263 -0.1370600163936615 -0.18690086901187897 -0.18244455754756927 -0.05212695524096489 0.04070300981402397 -0.1835496574640274 -0.04091431945562363 -0.11788532137870789 -0.04712381958961487 -0.08203604072332382 0.012713214382529259 0.24287058413028717 0.1566699892282486 -0.19573812186717987 0.12605729699134827 -0.1985372006893158 -0.1375509649515152 0.05481647700071335 0.10198993980884552 -0.053017787635326385 0.11984225362539291 0.0029034516774117947 -0.1527455896139145 0.03002667799592018 0.41977396607398987 0.2120078206062317 0.05603910610079765 0.20772968232631683 -0.07786509394645691 0.02195492945611477 0.18024355173110962 -0.018823638558387756 0.049663856625556946 -0.021583274006843567 0.22544749081134796 0.18292070925235748 -0.21890586614608765 0.2716531455516815 0.2658480405807495 0.12310443818569183 -0.22370879352092743 -0.30574512481689453 -0.23549765348434448 0.19209545850753784 0.19648826122283936 0.13633276522159576 0.29561397433280945 -0.1389734148979187 -0.13758035004138947 -0.05298226326704025 -0.008207563310861588 0.03631741926074028 -0.025354227051138878 0.02711624652147293 -0.09523271024227142 0.1901637315750122 -0.29234814643859863 -0.15208058059215546 0.19371910393238068 0.1967908889055252 0.036530863493680954 0.11795756220817566 -0.21231476962566376 -0.0836346298456192 0.06008192151784897 -0.26365897059440613 -0.02027624286711216 0.1570655107498169 -0.29085394740104675 0.3915753960609436 -0.197234109044075 -0.10107740759849548 -0.08993377536535263 -0.13113710284233093 -0.08536293357610703 0.3792385160923004 0.1401674598455429 -0.19552287459373474 -0.025772349908947945 0.010232368484139442 0.17289185523986816 0.07978791743516922 -0.23486238718032837 -0.03567303344607353 0.05582739785313606 -0.008494970388710499 0.1432160586118698 -0.038984909653663635 0.3426925241947174 0.07465175539255142 0.0870654284954071 -0.05534141883254051 -0.09089775383472443 0.1301272213459015 -0.07135528326034546 0.14971862733364105 -0.21343247592449188 0.10017243027687073 -0.09547603875398636 0.03572996333241463 -0.06255519390106201 0.07565024495124817 0.17523247003555298 0.01644698716700077 -0.18825465440750122\n",
            "des 0.17067323625087738 0.37646061182022095 -0.13875043392181396 -0.4276321232318878 0.3079425096511841 0.09676965326070786 0.18689554929733276 -0.3071269094944 -0.029822789132595062 -0.07431292533874512 0.08303413540124893 0.14743243157863617 0.13325870037078857 0.2103932648897171 -0.38802868127822876 -0.061993081122636795 0.004913485608994961 0.08019176125526428 -0.026020685210824013 0.10948149859905243 0.004704764112830162 -0.024846451357007027 -0.22394625842571259 0.3115752339363098 0.03774090111255646 0.2867680490016937 -0.20292820036411285 0.2839915156364441 -0.04506749287247658 -0.0011819010833278298 -0.11976133286952972 -0.02993599884212017 0.07273110002279282 -0.17866583168506622 -0.021395843476057053 -0.42273464798927307 -0.18514631688594818 0.10501983761787415 -0.36902564764022827 0.06684132665395737 -0.2217792272567749 -0.043028831481933594 -0.053487714380025864 -0.014136131852865219 0.010763200931251049 -0.01514406781643629 0.0410127192735672 0.016026843339204788 -0.4958370327949524 0.10662778466939926 -0.023132439702749252 0.059666477143764496 -0.03922916576266289 0.007124217692762613 0.17242276668548584 -0.15831026434898376 0.08983051031827927 0.412605881690979 -0.1764860898256302 -0.07370258122682571 -0.1872842013835907 -0.056506816297769547 0.19731231033802032 -0.051226142793893814 0.029994981363415718 0.1528279334306717 0.13772325217723846 -0.1614169478416443 -0.43867483735084534 0.10644660145044327 -0.04909136891365051 -0.007885122671723366 0.12961918115615845 -0.2797309160232544 -0.01558228675276041 -0.020530935376882553 -0.11365318298339844 0.039743851870298386 0.678765594959259 0.08441683650016785 -0.1927301436662674 -0.11256773769855499 -0.15157851576805115 -0.04528126120567322 0.40158918499946594 0.04567435011267662 0.32416224479675293 -0.2619103789329529 -0.10932708531618118 -0.36563482880592346 0.09287459403276443 -0.0864742174744606 -0.09248379617929459 0.20969384908676147 0.0968819111585617 0.22391165792942047 -0.12214206159114838 -0.09520982205867767 -0.12570132315158844 -0.4343373477458954 -0.23406463861465454 -0.26244571805000305 -0.1920853853225708 -0.09040801227092743 -0.12630239129066467 0.374390184879303 -0.05621671304106712 0.014292716048657894 0.07235154509544373 0.1504724770784378 0.006667802110314369 0.23872880637645721 -0.10830484330654144 0.12173908203840256 -0.09280285239219666 -0.22445155680179596 -0.06367799639701843 0.024570925161242485 -0.3063240647315979 -0.23871514201164246 0.03206683322787285 0.10155753046274185 0.04311693459749222 -0.06716524809598923 0.05226916819810867 -0.2084934413433075 0.21026211977005005 0.2621966600418091 -0.11840830743312836 -0.1816970556974411 0.30767491459846497 0.01042313314974308 0.07461455464363098 -0.05208709090948105 0.10316310822963715 0.15692313015460968 0.3496025800704956 0.07636848092079163 0.07199670374393463 0.02629207633435726 -0.26094844937324524 -0.01953713782131672 0.10028468072414398 -0.1676643341779709 0.007257888559252024 0.09554696828126907 0.0743819996714592 -0.5531905293464661 0.10845723748207092 0.1595126837491989 -0.11173583567142487 -0.03618229925632477 -0.0979238972067833 0.014465196058154106 -0.13947351276874542 0.08003798127174377 0.053009744733572006 0.147638201713562 0.21635857224464417 -0.08338871598243713 0.02737717516720295 0.0784374326467514 0.02029184252023697 0.17671450972557068 -0.15880535542964935 -0.14063909649848938 0.19007281959056854 -0.10503450781106949 0.0009167077951133251 -0.2809280753135681 0.2512168884277344 0.0807986706495285 0.1877209097146988 0.21416708827018738 0.19222602248191833 -0.17857886850833893 -0.06801299005746841 0.03498251736164093 -0.008511808700859547 0.06375406682491302 0.4162884056568146 -0.3487815260887146 -0.4401109218597412 0.13181693851947784 -0.08978196233510971 -0.11604408919811249 -0.40693530440330505 -0.07237271219491959 -0.1797928661108017 -0.10989774763584137 0.07522065192461014 0.15829089283943176 -0.0776028111577034 0.3090028166770935 -0.17142601311206818 -0.030517790466547012 -0.1740785837173462 -0.06695392727851868 0.5182690024375916 0.09846001863479614\n",
            "d' 0.06714289635419846 0.131597101688385 0.07699672877788544 0.369246244430542 -0.04598885774612427 0.22873587906360626 0.04921345412731171 0.05933993682265282 -0.001612683990970254 0.04336966946721077 -0.10094223916530609 0.23379014432430267 0.21174821257591248 0.08974065631628036 -0.01360130775719881 -0.26439186930656433 -0.46386080980300903 -0.20470337569713593 0.10035673528909683 0.05302309989929199 0.02116561494767666 -0.017661942169070244 -0.0829179510474205 0.052821557968854904 0.07758857309818268 0.2508992552757263 0.1213691309094429 -0.20681586861610413 0.225015789270401 0.08324695378541946 0.24972279369831085 0.24295702576637268 -0.4576939046382904 0.04868026822805405 0.034205928444862366 0.001955821178853512 -0.0685950219631195 0.19929517805576324 0.0062958733178675175 -0.30294594168663025 -0.38341549038887024 0.14402784407138824 -0.14270487427711487 -0.18801456689834595 0.11037673056125641 0.2207964062690735 0.3263762593269348 0.06399223953485489 -0.3160664439201355 0.02086874656379223 0.1481074094772339 0.19370895624160767 0.1569499522447586 0.03403620421886444 -0.13776999711990356 -0.048327408730983734 -0.1898004412651062 0.30747413635253906 -0.24374476075172424 0.13207735121250153 0.11217057704925537 -0.0483817532658577 -0.05765899643301964 0.15867486596107483 -0.2847801744937897 -0.18292511999607086 0.08998916298151016 -0.17104272544384003 0.04371602460741997 -0.16619795560836792 -0.24288520216941833 0.15381434559822083 -0.23825368285179138 0.23365077376365662 -0.06111607328057289 -0.16035257279872894 -0.16696934401988983 -0.24387085437774658 0.14695604145526886 -0.08384007215499878 0.17155183851718903 -0.07199706882238388 0.08684000372886658 -0.3314291834831238 -0.06608475744724274 0.1382477730512619 -0.2519407570362091 0.1343841701745987 0.09296829253435135 -0.1661311239004135 0.10114803165197372 -0.2520747184753418 -0.09138114750385284 -0.24239178001880646 0.224918931722641 -0.016460157930850983 0.13476639986038208 -0.4580265283584595 -0.2041478306055069 -0.4542676508426666 -0.21869800984859467 0.13328106701374054 -0.3238603174686432 -0.008364014327526093 0.09608899056911469 0.10712755471467972 -0.018915409222245216 -0.1934732347726822 -0.16800396144390106 -0.013404318131506443 -0.16559278964996338 0.28491532802581787 0.1440543681383133 0.12615571916103363 -0.12281486392021179 -0.08179536461830139 0.11081016063690186 -0.23858711123466492 -0.09846695512533188 -0.07150910794734955 0.22555400431156158 0.17583319544792175 0.46173423528671265 0.021181242540478706 -0.03945270553231239 -0.0607776865363121 0.12033993005752563 0.06873439252376556 -0.1236453577876091 -0.15487757325172424 0.2279980629682541 -0.14498521387577057 0.35823240876197815 0.017409957945346832 -0.13377457857131958 -0.11908631771802902 -0.24530227482318878 0.16974113881587982 0.129876971244812 -0.24715828895568848 0.15077680349349976 0.026757117360830307 -0.09694910049438477 -0.3058190643787384 -0.07637719810009003 0.014312990941107273 0.013984193094074726 -0.30608129501342773 0.13203327357769012 0.06507791578769684 -0.1431773602962494 -0.19197355210781097 -0.33033403754234314 -0.34307345747947693 -0.04745785892009735 -0.19017130136489868 -0.010685077868402004 -0.023290008306503296 0.34404855966567993 -0.14459328353405 0.17175981402397156 -0.07141213864088058 0.05567461997270584 0.02878446690738201 0.06808116286993027 0.04458869621157646 0.18472132086753845 -0.29318588972091675 -0.2706536650657654 -0.3063031733036041 0.3239661753177643 -0.15828712284564972 0.17095014452934265 -0.04031182453036308 0.26910507678985596 0.13272865116596222 -0.0979725643992424 -0.19527728855609894 0.15458057820796967 0.36747056245803833 0.006058183964341879 -0.18548698723316193 -0.12268473953008652 0.249960258603096 0.0762958824634552 -0.1227039024233818 -0.342244952917099 -0.009704754687845707 -0.04394146054983139 0.12877343595027924 0.16284774243831635 -0.15833306312561035 -0.2174677550792694 0.06107698008418083 -0.3643074333667755 -0.09220033138990402 -0.053203776478767395 -0.16683201491832733 0.1922137290239334 0.16987571120262146\n"
          ]
        }
      ]
    },
    {
      "cell_type": "code",
      "execution_count": null,
      "metadata": {
        "colab": {
          "base_uri": "https://localhost:8080/"
        },
        "id": "wgXzMJ0BOdFj",
        "outputId": "e57ca033-50cd-4289-c673-d92fc33a1ec7"
      },
      "outputs": [
        {
          "output_type": "stream",
          "name": "stdout",
          "text": [
            "Nombre total de mots : 155562\n",
            "Taille des embeddings : 200 dimensions\n"
          ]
        }
      ],
      "source": [
        "#embeddings\n",
        "embedding_file = \"frWac_non_lem_no_postag_no_phrase_200_cbow_cut100.txt\"\n",
        "\n",
        "#nombre de lignes du fichier (pour obtenir le vocabulaire)\n",
        "with open(embedding_file, \"r\", encoding=\"utf-8\") as f:\n",
        "    vocab_size = sum(1 for _ in f)  # Compter les lignes\n",
        "\n",
        "#lire une ligne pour obtenir la dimension des embeddings\n",
        "with open(embedding_file, \"r\", encoding=\"utf-8\") as f:\n",
        "    first_vector = f.readline().strip().split()\n",
        "    embedding_dim = len(first_vector) - 1  # Soustraire 1 car la première colonne est le mot\n",
        "\n",
        "print(f\"Nombre total de mots : {vocab_size}\")\n",
        "print(f\"Taille des embeddings : {embedding_dim} dimensions\")"
      ]
    },
    {
      "cell_type": "markdown",
      "metadata": {
        "id": "6auX9WILOdFj"
      },
      "source": [
        "#### Word similarity\n",
        "\n",
        "We are now going to use the [Gensim] library (https://radimrehurek.com/gensim/) to load the Word2Vec model and use it.\n",
        "\n",
        "#### Question:\n",
        ">* Modify the following code to load the Word2Vec template file in binary format using [load_word2vec](https://radimrehurek.com/gensim/models/keyedvectors.html#how-to-obtain-word-vectors)\n",
        ">* Choose a couple of words and find the closest words according to the model using [most_similar](https://radimrehurek.com/gensim/models/keyedvectors.html#gensim.models.keyedvectors.KeyedVectors.most_similar)\n",
        ">* To guess the meaning of the words ‘yokohama’, ‘kanto’ and ‘shamisen’, look for their nearest neighbours. Explain the results.\n"
      ]
    },
    {
      "cell_type": "code",
      "source": [
        "!wget -O frWac_non_lem_no_postag_no_phrase_200_cbow_cut100.bin \\\n",
        "     https://storage.teklia.com/shared/deepnlp-labs/frWac_non_lem_no_postag_no_phrase_200_cbow_cut100.bin"
      ],
      "metadata": {
        "colab": {
          "base_uri": "https://localhost:8080/"
        },
        "id": "vW6uzKjxPWbs",
        "outputId": "35ac6988-f8bb-45a5-b8ae-5bfd6a2dd248"
      },
      "execution_count": null,
      "outputs": [
        {
          "output_type": "stream",
          "name": "stdout",
          "text": [
            "--2025-02-21 10:06:46--  https://storage.teklia.com/shared/deepnlp-labs/frWac_non_lem_no_postag_no_phrase_200_cbow_cut100.bin\n",
            "Resolving storage.teklia.com (storage.teklia.com)... 167.233.8.58\n",
            "Connecting to storage.teklia.com (storage.teklia.com)|167.233.8.58|:443... connected.\n",
            "HTTP request sent, awaiting response... 200 OK\n",
            "Length: 126052447 (120M) [application/octet-stream]\n",
            "Saving to: ‘frWac_non_lem_no_postag_no_phrase_200_cbow_cut100.bin’\n",
            "\n",
            "frWac_non_lem_no_po 100%[===================>] 120.21M  21.1MB/s    in 6.3s    \n",
            "\n",
            "2025-02-21 10:06:54 (19.0 MB/s) - ‘frWac_non_lem_no_postag_no_phrase_200_cbow_cut100.bin’ saved [126052447/126052447]\n",
            "\n"
          ]
        }
      ]
    },
    {
      "cell_type": "code",
      "execution_count": null,
      "metadata": {
        "colab": {
          "base_uri": "https://localhost:8080/"
        },
        "id": "0CCUGZDDOdFj",
        "outputId": "155bee88-0687-40e8-bef6-5fb098fef713"
      },
      "outputs": [
        {
          "output_type": "execute_result",
          "data": {
            "text/plain": [
              "[('commandeur', 0.6844523549079895),\n",
              " ('chevaliers', 0.6799763441085815),\n",
              " ('écuyer', 0.6333731412887573),\n",
              " ('grand-croix', 0.621898353099823),\n",
              " ('preux', 0.6011075377464294),\n",
              " ('chevalerie', 0.5404021143913269),\n",
              " ('légion', 0.5335969924926758),\n",
              " ('honneur', 0.4953608810901642),\n",
              " ('yvain', 0.4855087101459503),\n",
              " ('insignes', 0.4742659330368042)]"
            ]
          },
          "metadata": {},
          "execution_count": 26
        }
      ],
      "source": [
        "from gensim.models import KeyedVectors\n",
        "\n",
        "## YOUR CODE HERE\n",
        "embedding_file =\"frWac_non_lem_no_postag_no_phrase_200_cbow_cut100.bin\"\n",
        "model = KeyedVectors.load_word2vec_format(embedding_file, binary=True, unicode_errors=\"ignore\")\n",
        "## YOUR CODE HERE\n",
        "model.most_similar(\"chevalier\")"
      ]
    },
    {
      "cell_type": "code",
      "source": [
        "#couple of words\n",
        "word1 = \"paris\"\n",
        "word2 = \"guitar\"\n",
        "\n",
        "print(f\"Mots les plus proches de '{word1}':\")\n",
        "print(model.most_similar(word1))\n",
        "\n",
        "print(f\"\\nMots les plus proches de '{word2}':\")\n",
        "print(model.most_similar(word2))\n"
      ],
      "metadata": {
        "colab": {
          "base_uri": "https://localhost:8080/"
        },
        "id": "J8QuMyyYPMMI",
        "outputId": "66550161-2d18-401d-f268-d60bd26a3308"
      },
      "execution_count": null,
      "outputs": [
        {
          "output_type": "stream",
          "name": "stdout",
          "text": [
            "Mots les plus proches de 'paris':\n",
            "[('m°', 0.6068983674049377), ('nanterre', 0.5781937837600708), ('montparnasse', 0.5578894019126892), ('vincennes', 0.5507999062538147), ('tolbiac', 0.5440177917480469), ('rivoli', 0.5360972285270691), ('vaugirard', 0.5338903665542603), ('sorbonne', 0.5325138568878174), ('rue', 0.5315890312194824), ('boulevard', 0.5308088660240173)]\n",
            "\n",
            "Mots les plus proches de 'guitar':\n",
            "[('guitars', 0.5342127084732056), ('keyboards', 0.48533183336257935), ('lanta', 0.4775077998638153), ('samui', 0.4588320553302765), ('abeau', 0.4432676136493683), ('lamrani', 0.41966477036476135), ('bass', 0.4108068346977234), ('lead', 0.4012373089790344), ('legends', 0.399563193321228), ('line-up', 0.3986304700374603)]\n"
          ]
        }
      ]
    },
    {
      "cell_type": "code",
      "source": [
        "words_to_explore = [\"yokohama\", \"kanto\", \"shamisen\"]\n",
        "\n",
        "for word in words_to_explore:\n",
        "    if word in model.index_to_key:\n",
        "        print(f\"\\nMots les plus proches de '{word}':\")\n",
        "        print(model.most_similar(word))\n",
        "    else:\n",
        "        print(f\"\\nLe mot '{word}' n'est pas dans le modèle.\")"
      ],
      "metadata": {
        "colab": {
          "base_uri": "https://localhost:8080/"
        },
        "id": "fLJwECsDQPTN",
        "outputId": "79a37a50-dd77-46d3-c1bd-e23fc42f5db4"
      },
      "execution_count": null,
      "outputs": [
        {
          "output_type": "stream",
          "name": "stdout",
          "text": [
            "\n",
            "Mots les plus proches de 'yokohama':\n",
            "[('tokyo', 0.7117858529090881), ('tôkyô', 0.6314416527748108), ('japon', 0.621522068977356), ('nagoya', 0.6198478937149048), ('kyushu', 0.6141085028648376), ('osaka', 0.6123895645141602), ('fukuoka', 0.5612888932228088), ('japonaise', 0.5507326126098633), ('sendai', 0.5496150255203247), ('japonais', 0.5391373038291931)]\n",
            "\n",
            "Mots les plus proches de 'kanto':\n",
            "[('pokémon', 0.5426285266876221), ('mewtwo', 0.5076008439064026), ('pokémons', 0.4970632791519165), ('saito', 0.4549728333950043), ('pokédex', 0.448673278093338), ('yusuke', 0.44163110852241516), ('osaka', 0.4372847080230713), ('shôgun', 0.4324425756931305), ('jin', 0.42604973912239075), ('honshu', 0.42374101281166077)]\n",
            "\n",
            "Le mot 'shamisen' n'est pas dans le modèle.\n"
          ]
        }
      ]
    },
    {
      "cell_type": "code",
      "source": [
        "#yokohama est une ville au Japon et kanto appartient a l'univers pokemon"
      ],
      "metadata": {
        "id": "tShNQc2WQXH5"
      },
      "execution_count": null,
      "outputs": []
    },
    {
      "cell_type": "markdown",
      "metadata": {
        "id": "eCFTDH6xOdFk"
      },
      "source": [
        "#### Semantic arithmetic\n",
        "\n",
        "One of the most original properties of Word2Vec embeddings is that the semantic relationships between vectors can be modelled by arithmetic operations. Given vectors representing the words `king`, `man` and `woman`, it is possible to compute the vector `v` as :  \n",
        "\n",
        "`v = vector(king)-vector(man)+vector(woman)`\n",
        "\n",
        "This operation corresponds to the following semantic relationship: *The king is to the man what the queen is to the woman*, which translates into the following arithmetic: *the concept of king, minus the concept of man plus the concept of woman gives the concept of queen*.\n",
        "\n",
        "In fact, if we look in the embedding for the word whose closest vector is `v`, we find `reine`.\n",
        "\n",
        "#### Question:\n",
        ">* using the function [most_similar](https://radimrehurek.com/gensim/models/keyedvectors.html#gensim.models.keyedvectors.KeyedVectors.most_similar) specifying the arguments `positive` for the vectors to be added and `negative` for the vectors to be subtracted, check the relationship *the concept of king, minus the concept of man plus the concept of woman gives the concept of queen*.\n",
        ">* Using the same method, find XXX in the following semantic relations\n",
        ">   * Paris is to France what XXX is to Japan.\n",
        ">   * Chevalier is to France what XXX is to Japan."
      ]
    },
    {
      "cell_type": "code",
      "execution_count": null,
      "metadata": {
        "colab": {
          "base_uri": "https://localhost:8080/"
        },
        "id": "Mz2s3R_fOdFk",
        "outputId": "0a7f9f43-a767-4128-8a09-086fb5fd96aa"
      },
      "outputs": [
        {
          "output_type": "stream",
          "name": "stdout",
          "text": [
            "'roi - homme + femme' :\n",
            "[('reine', 0.6945513486862183), ('duchesse', 0.6247551441192627), ('épouse', 0.6083102822303772), ('régente', 0.5878491997718811), ('duc', 0.5723880529403687), ('épousa', 0.5690740346908569), ('princesse', 0.5680873394012451), ('comtesse', 0.5670515894889832), ('isabeau', 0.5510526299476624), ('belle-mère', 0.523912250995636)]\n",
            "mot le plus proche de roi - homme + femme:  reine\n"
          ]
        }
      ],
      "source": [
        "## YOUR CODE HERE\n",
        "\n",
        "\n",
        "result = model.most_similar(positive=['roi', 'femme'], negative=['homme'])\n",
        "\n",
        "print(\"'roi - homme + femme' :\")\n",
        "print(result)\n",
        "print(\"mot le plus proche de roi - homme + femme: \", result[0][0])"
      ]
    },
    {
      "cell_type": "code",
      "source": [
        "result = model.most_similar(positive=['paris', 'japon'], negative=['france'])\n",
        "\n",
        "print(\"Paris is to France what\",result[0][0],\"is to Japan.\")\n",
        "\n",
        "result = model.most_similar(positive=['chevalier', 'japon'], negative=['france'])\n",
        "\n",
        "print(\"Chevalier is to France what\",result[0][0],\"is to Japan.\")\n",
        "\n"
      ],
      "metadata": {
        "colab": {
          "base_uri": "https://localhost:8080/"
        },
        "id": "gr1sQeuhQ-56",
        "outputId": "6d1363da-4d8e-48f3-b9a1-0e83d11113dd"
      },
      "execution_count": null,
      "outputs": [
        {
          "output_type": "stream",
          "name": "stdout",
          "text": [
            "Paris is to France what tokyo is to Japan.\n",
            "Chevalier is to France what samouraï is to Japan.\n"
          ]
        }
      ]
    },
    {
      "cell_type": "markdown",
      "metadata": {
        "id": "1WyOYfEXOdFk"
      },
      "source": [
        "## Contextual embeddings with BERT\n",
        "\n",
        "BERT was one of the first freely available Transformer language models, trained on large corpora. Many other models are available on HuggingFace.\n",
        "\n",
        "As BERT is a contextual model, it is necessary to have it predict whole sentences in order to study the word embeddings it produces. In this section, we will compare the embeddings obtained for polysemous words according to the sentence in which they are used.\n",
        "\n",
        "In English, *plant* has two meanings: plant and vegetable. With a non-contextual embedding, such as Glove or Colobert, these two meanings of the word plus are associated with an identical embedding. With BERT, we'll see that the same word can have several embeddings depending on the context.\n",
        "\n",
        "First, load the BERT model and tokenizer from HuggingFace :"
      ]
    },
    {
      "cell_type": "code",
      "execution_count": null,
      "metadata": {
        "colab": {
          "base_uri": "https://localhost:8080/",
          "height": 1000,
          "referenced_widgets": [
            "3758b23606324105a74122f690e24615",
            "65d387853ab7493ba3d211187ea1ddd0",
            "a4b74e0f199f4332be5e6f13f3df4ae6",
            "b08bf46c875e4961870b3dfaec15e39a",
            "4e2110513c414ec189d3585dacb53a71",
            "c4df398a2ba649a39bca8d027758a8a6",
            "87285222414340b0bd007cb7dff9fd54",
            "213a76e7b65444f0b565167bf6bdd205",
            "98cafe2a8f3e433ba8736bd735c3e0d2",
            "4ea15017b6a341ffbd6f4835a184c3af",
            "caf56fa5d5ef4c33ad08e1e67cd3995e",
            "b338b7417374483eb9c96006e7f7313f",
            "3975f1e07fcb43d7984835b9862ba3a2",
            "613a4fcc80154238bf3c7a7e61c33320",
            "c5590644a4d04b4f9d726d04a8cdff60",
            "4076ae5fd97447468fccdfce859596ab",
            "6065ecd4ebb742d0aaf54e2d46c6cd74",
            "12efa91e1450410da7ddafb165e39295",
            "e633dc273c634bfb95f4d348a28c7d6c",
            "88d9c74f25d44c7fae85a9c5c0eab806",
            "8b5f0baa20914d7c8bd26ae677bf2283",
            "5771b065911348d0ac8d52040447c503",
            "6a94c24562774630899edcb5fa42907f",
            "71f6b05efe5e4a928f81f7838862a670",
            "3bb900803ca4451eaa97be5e6ef5c028",
            "e10950a703b5426e8e0bcf4b8142dccc",
            "d1fa1a80511445a1b87c7fb58b0495c8",
            "5073ffd5eaf44268ac30c481fd1bd3a0",
            "3bec6d564f214ec0988a33c3dbf773ea",
            "42a0ac5accba44828f0b7746f2267dcc",
            "2f72c85d4ccb465d97c9b7fbb62983c4",
            "e5bf7570b72f4e80950cc0432a26977e",
            "026d57e5ac334b38a375598f70082a98",
            "9c9b0f32771b4014b8ac15efa420dcbe",
            "587ddb76329842e2ace91c71c07b1e4b",
            "a74b48d2a72c443e9737c6185000c8ae",
            "b037aa85fac34246a60a843d21e40348",
            "fdbbb8a41419420ebbd6acb7b1bf0894",
            "645feca4edd44997ae095281ba50d17f",
            "3a12c25749c549ae9c77eadfba9d8f3d",
            "ca5a04f8b8b446668fad8da250816de1",
            "3b225e92d1b04fec9f736c50bbaa4215",
            "0b48a4791eb34c4592a551689e1bfc20",
            "61838b4567444ce7bb436ca2344ee24d",
            "17c56f2d020f4662a5e2a26af32ff698",
            "23fc633f53b94ef89789f47f8d5d35d1",
            "624bea05a48d4bab8017c041950aaa7d",
            "de8ad9b3aa8d40f885944d37289cecae",
            "ea1ef1126b0f4b1b9f3f28ce46910343",
            "c0c407aecc074fed85276e4b126d96b9",
            "8f7a8f45ae6543d8b4ddaa643829859f",
            "7320282de1c64205846191d8c62feac9",
            "184f701a3c9d45399d18228caffce583",
            "b0a5fb199edf49ebade51eccb93766d0",
            "1faabea9be90414d90057f4c53f02d62"
          ]
        },
        "id": "Khfuz8sHOdFk",
        "outputId": "e2400120-2150-465e-95e1-a435e708fd41"
      },
      "outputs": [
        {
          "output_type": "stream",
          "name": "stderr",
          "text": [
            "/usr/local/lib/python3.11/dist-packages/huggingface_hub/utils/_auth.py:94: UserWarning: \n",
            "The secret `HF_TOKEN` does not exist in your Colab secrets.\n",
            "To authenticate with the Hugging Face Hub, create a token in your settings tab (https://huggingface.co/settings/tokens), set it as secret in your Google Colab and restart your session.\n",
            "You will be able to reuse this secret in all of your notebooks.\n",
            "Please note that authentication is recommended but still optional to access public models or datasets.\n",
            "  warnings.warn(\n"
          ]
        },
        {
          "output_type": "display_data",
          "data": {
            "text/plain": [
              "tokenizer_config.json:   0%|          | 0.00/48.0 [00:00<?, ?B/s]"
            ],
            "application/vnd.jupyter.widget-view+json": {
              "version_major": 2,
              "version_minor": 0,
              "model_id": "3758b23606324105a74122f690e24615"
            }
          },
          "metadata": {}
        },
        {
          "output_type": "display_data",
          "data": {
            "text/plain": [
              "vocab.txt:   0%|          | 0.00/232k [00:00<?, ?B/s]"
            ],
            "application/vnd.jupyter.widget-view+json": {
              "version_major": 2,
              "version_minor": 0,
              "model_id": "b338b7417374483eb9c96006e7f7313f"
            }
          },
          "metadata": {}
        },
        {
          "output_type": "display_data",
          "data": {
            "text/plain": [
              "tokenizer.json:   0%|          | 0.00/466k [00:00<?, ?B/s]"
            ],
            "application/vnd.jupyter.widget-view+json": {
              "version_major": 2,
              "version_minor": 0,
              "model_id": "6a94c24562774630899edcb5fa42907f"
            }
          },
          "metadata": {}
        },
        {
          "output_type": "display_data",
          "data": {
            "text/plain": [
              "config.json:   0%|          | 0.00/570 [00:00<?, ?B/s]"
            ],
            "application/vnd.jupyter.widget-view+json": {
              "version_major": 2,
              "version_minor": 0,
              "model_id": "9c9b0f32771b4014b8ac15efa420dcbe"
            }
          },
          "metadata": {}
        },
        {
          "output_type": "display_data",
          "data": {
            "text/plain": [
              "model.safetensors:   0%|          | 0.00/440M [00:00<?, ?B/s]"
            ],
            "application/vnd.jupyter.widget-view+json": {
              "version_major": 2,
              "version_minor": 0,
              "model_id": "17c56f2d020f4662a5e2a26af32ff698"
            }
          },
          "metadata": {}
        },
        {
          "output_type": "execute_result",
          "data": {
            "text/plain": [
              "BertModel(\n",
              "  (embeddings): BertEmbeddings(\n",
              "    (word_embeddings): Embedding(30522, 768, padding_idx=0)\n",
              "    (position_embeddings): Embedding(512, 768)\n",
              "    (token_type_embeddings): Embedding(2, 768)\n",
              "    (LayerNorm): LayerNorm((768,), eps=1e-12, elementwise_affine=True)\n",
              "    (dropout): Dropout(p=0.1, inplace=False)\n",
              "  )\n",
              "  (encoder): BertEncoder(\n",
              "    (layer): ModuleList(\n",
              "      (0-11): 12 x BertLayer(\n",
              "        (attention): BertAttention(\n",
              "          (self): BertSdpaSelfAttention(\n",
              "            (query): Linear(in_features=768, out_features=768, bias=True)\n",
              "            (key): Linear(in_features=768, out_features=768, bias=True)\n",
              "            (value): Linear(in_features=768, out_features=768, bias=True)\n",
              "            (dropout): Dropout(p=0.1, inplace=False)\n",
              "          )\n",
              "          (output): BertSelfOutput(\n",
              "            (dense): Linear(in_features=768, out_features=768, bias=True)\n",
              "            (LayerNorm): LayerNorm((768,), eps=1e-12, elementwise_affine=True)\n",
              "            (dropout): Dropout(p=0.1, inplace=False)\n",
              "          )\n",
              "        )\n",
              "        (intermediate): BertIntermediate(\n",
              "          (dense): Linear(in_features=768, out_features=3072, bias=True)\n",
              "          (intermediate_act_fn): GELUActivation()\n",
              "        )\n",
              "        (output): BertOutput(\n",
              "          (dense): Linear(in_features=3072, out_features=768, bias=True)\n",
              "          (LayerNorm): LayerNorm((768,), eps=1e-12, elementwise_affine=True)\n",
              "          (dropout): Dropout(p=0.1, inplace=False)\n",
              "        )\n",
              "      )\n",
              "    )\n",
              "  )\n",
              "  (pooler): BertPooler(\n",
              "    (dense): Linear(in_features=768, out_features=768, bias=True)\n",
              "    (activation): Tanh()\n",
              "  )\n",
              ")"
            ]
          },
          "metadata": {},
          "execution_count": 1
        }
      ],
      "source": [
        "import torch\n",
        "from transformers import BertTokenizer, BertModel\n",
        "\n",
        "#tokenizer\n",
        "tokenizer = BertTokenizer.from_pretrained('bert-base-uncased')\n",
        "\n",
        "# Load pre-trained model\n",
        "model = BertModel.from_pretrained('bert-base-uncased',\n",
        "                                  output_hidden_states = True, # to access the hidden states\n",
        "                                  )\n",
        "# set the model to \"evaluation\" mode\n",
        "model.eval()"
      ]
    },
    {
      "cell_type": "markdown",
      "metadata": {
        "id": "d6cY5CazOdFk"
      },
      "source": [
        "### Tokenizer\n",
        "\n",
        "Language models are trained with a specific breakdown of sentences into tokens. These tokens can be words or parts of words. It is necessary to use the tokenizer corresponding to each model.\n",
        "\n",
        "tokenizer.vocab.keys() gives the list of all the tokens known for the language model.\n",
        "\n",
        "#### Question\n",
        ">* How many different tokens are known to the BERT tokenizer?\n",
        ">* Display a hundred tokens at random. What do you find?"
      ]
    },
    {
      "cell_type": "code",
      "execution_count": null,
      "metadata": {
        "colab": {
          "base_uri": "https://localhost:8080/"
        },
        "id": "NKbZO-CqOdFk",
        "outputId": "f306f6dc-9996-4792-c432-f8d4498b138b"
      },
      "outputs": [
        {
          "output_type": "stream",
          "name": "stdout",
          "text": [
            "Nombre total de tokens dans le vocabulaire BERT : 30522\n",
            "Exemple de 100 tokens du vocabulaire BERT :\n",
            "['promotion', 'powerhouse', 'emphasize', 'junctions', 'outward', 'expects', 'marianne', 'resented', '##gers', 'persian', 'conductors', 'rides', 'meters', '980', 'charged', 'available', '##ckman', 'that', '[unused455]', 'lizzie', 'unmarried', 'outbreak', '##bor', 'goo', '[unused232]', 'dissipated', 'mayo', 'todd', '[unused776]', '##urn', '1736', 'flexible', '[unused912]', '##rkin', '##icle', '##ingdon', 'hindu', '##wil', 'mongolian', '##dora', '##正', 'issn', '[unused724]', 'sabine', 'stampede', 'larger', 'tract', 'physics', 'specifies', 'industries', '##る', 'hal', 'anxiety', 'baltic', 'baxter', 'transitional', 'lean', 'beverages', 'false', '##½', 'gathering', 'blaine', 'antigen', 'unitary', '[unused855]', 'chloride', '##ս', 'regan', '##ч', '##س', '##ء', 'faintly', 'freeing', 'nur', '##ur', 'ventures', '##duced', 'bane', 'there', 'serials', 'near', 'fibre', 'theatre', 'peel', 'instances', 'providence', 'padre', 'walt', '##ers', 'sucking', 'orr', 'jokes', '##code', 'anticipated', 'rick', 'starts', 'sumo', 'distributors', '##phon', 'bias']\n"
          ]
        }
      ],
      "source": [
        "import random\n",
        "\n",
        "# number of token in tokenizer\n",
        "vocab_size = len(tokenizer.vocab.keys())\n",
        "print(f\"Nombre total de tokens dans le vocabulaire BERT : {vocab_size}\")\n",
        "\n",
        "# sample of 100 tokens\n",
        "vocab_tokens = list(tokenizer.vocab.keys())\n",
        "random_tokens = random.sample(vocab_tokens, 100)\n",
        "\n",
        "print(\"Exemple de 100 tokens du vocabulaire BERT :\")\n",
        "print(random_tokens)\n",
        "\n"
      ]
    },
    {
      "cell_type": "code",
      "source": [
        "#we see that tokens can be words but also part of words (subwords) or special tokens"
      ],
      "metadata": {
        "id": "RTetKlaPAGM4"
      },
      "execution_count": null,
      "outputs": []
    },
    {
      "cell_type": "markdown",
      "metadata": {
        "id": "uhv2vL1uOdFl"
      },
      "source": [
        "The tokenizer splits sentences and transforms the elements (words or sub-words) into clues.\n",
        "\n",
        "BERT can process several sentences, but you need to tell it how the sentences (segments) have been split, with an index: 0 for the first sentence, 1 for the second.\n",
        "\n",
        "Two specific tokens must also be added:\n",
        "* CLS], a specific token used for sentence classification\n",
        "* SEP], the end of sentence token.\n",
        "\n",
        "#### Question\n",
        ">* Apply the bert_tokenize function to the 3 phases and keep the 3 vectors (index, token, segment).\n",
        ">* Display this information for each of the sentences and check that the word *plant* has the same token index in the two sentences in which it appears."
      ]
    },
    {
      "cell_type": "code",
      "execution_count": null,
      "metadata": {
        "colab": {
          "base_uri": "https://localhost:8080/"
        },
        "id": "CQYah4HiOdFl",
        "outputId": "f5385051-6a7e-43ea-9b6c-52e3979d55a8"
      },
      "outputs": [
        {
          "output_type": "stream",
          "name": "stdout",
          "text": [
            "\n",
            "Phrase 1:\n",
            "Tokens: ['[CLS]', 'the', 'plant', 'has', 'reached', 'its', 'maximal', 'level', 'of', 'production', '.', '[SEP]']\n",
            "Indices: [101, 1996, 3269, 2038, 2584, 2049, 29160, 2504, 1997, 2537, 1012, 102]\n",
            "Segments: [1, 1, 1, 1, 1, 1, 1, 1, 1, 1, 1, 1]\n",
            "\n",
            "Phrase 2:\n",
            "Tokens: ['[CLS]', 'the', 'cars', 'are', 'assembled', 'inside', 'the', 'factory', '.', '[SEP]']\n",
            "Indices: [101, 1996, 3765, 2024, 9240, 2503, 1996, 4713, 1012, 102]\n",
            "Segments: [1, 1, 1, 1, 1, 1, 1, 1, 1, 1]\n",
            "\n",
            "Phrase 3:\n",
            "Tokens: ['[CLS]', 'a', 'plant', 'needs', 'sunlight', 'and', 'water', 'to', 'grow', 'well', '.', '[SEP]']\n",
            "Indices: [101, 1037, 3269, 3791, 9325, 1998, 2300, 2000, 4982, 2092, 1012, 102]\n",
            "Segments: [1, 1, 1, 1, 1, 1, 1, 1, 1, 1, 1, 1]\n"
          ]
        }
      ],
      "source": [
        "snt1 = \"The plant has reached its maximal level of production.\"\n",
        "snt2 = \"The cars are assembled inside the factory.\"\n",
        "snt3 = \"A plant needs sunlight and water to grow well.\"\n",
        "\n",
        "\n",
        "def bert_tokenize(snt):\n",
        "    \"\"\" Apply the BERT tokenizer to a list of words representing a sentence\n",
        "        and return 3 lists:\n",
        "        - list of token indx\n",
        "        - list of token for debugging, not used by the BERT model\n",
        "        - list of sentence index\n",
        "        \"\"\"\n",
        "    # add the [CLS] and [SEP] tokens\n",
        "    tagged_snt = \"[CLS] \" + snt + \" [SEP]\"\n",
        "    # tokenize\n",
        "    tokenized_snt = tokenizer.tokenize(tagged_snt)\n",
        "    # convert tokens to indices\n",
        "    indexed_snt = tokenizer.convert_tokens_to_ids(tokenized_snt)\n",
        "    # mark the words in sentence\n",
        "    segments_ids = [1] * len(tokenized_snt) #we have only one sentence each time in these examples\n",
        "\n",
        "    return (indexed_snt, tokenized_snt, segments_ids)\n",
        "\n",
        "# application de la tokenisation\n",
        "tokens_snt1 = bert_tokenize(snt1)\n",
        "tokens_snt2 = bert_tokenize(snt2)\n",
        "tokens_snt3 = bert_tokenize(snt3)\n",
        "\n",
        "for i, (index, tokens, segments) in enumerate([tokens_snt1, tokens_snt2, tokens_snt3]):\n",
        "    print(f\"\\nPhrase {i+1}:\")\n",
        "    print(\"Tokens:\", tokens)\n",
        "    print(\"Indices:\", index)\n",
        "    print(\"Segments:\", segments)\n",
        "\n"
      ]
    },
    {
      "cell_type": "code",
      "source": [
        "#index du token \"plant\" dans chaque phrase\n",
        "plant_index_1 = tokens_snt1[1].index(\"plant\")\n",
        "plant_index_3 = tokens_snt3[1].index(\"plant\")\n",
        "\n",
        "print(f\"\\nIndex du token 'plant' dans la phrase 1 : {tokens_snt1[0][plant_index_1]}\")\n",
        "print(f\"Index du token 'plant' dans la phrase 3 : {tokens_snt3[0][plant_index_3]}\")\n",
        "\n",
        "if tokens_snt1[0][plant_index_1] == tokens_snt3[0][plant_index_3]:\n",
        "    print(\"meme index dans les deux phrases.\")\n",
        "else:\n",
        "    print(\"indices ≠ dans les phrases.\")\n"
      ],
      "metadata": {
        "colab": {
          "base_uri": "https://localhost:8080/"
        },
        "id": "EhpPxUTmSo25",
        "outputId": "297a06ba-9648-42b9-ec0a-41604e3c168a"
      },
      "execution_count": null,
      "outputs": [
        {
          "output_type": "stream",
          "name": "stdout",
          "text": [
            "\n",
            "Index du token 'plant' dans la phrase 1 : 3269\n",
            "Index du token 'plant' dans la phrase 3 : 3269\n",
            "meme index dans les deux phrases.\n"
          ]
        }
      ]
    },
    {
      "cell_type": "markdown",
      "metadata": {
        "id": "espQiZUWOdFl"
      },
      "source": [
        "## Inference\n",
        "\n",
        "To calculate embeddings, we need to make a prediction using the BERT model on a complete sentence. The *predict_hidden* function converts the token and segment index lists into a pytorch tensor and applies the model.\n",
        "\n",
        "The model used is a 12-layer model. We will use the last hidden layer of the model as an embedding to represent the words. Other solutions are possible, such as concatenation or averaging of several layers.\n",
        "\n",
        "\n",
        "#### Question\n",
        ">* Apply the model to each of the 3 sentences and store the resulting embeddings (tensors).\n",
        ">* Display the dimension of the resulting tensors. What is the dimension of the embedding vector for each word?"
      ]
    },
    {
      "cell_type": "code",
      "execution_count": null,
      "metadata": {
        "id": "mHi_-naAOdFl"
      },
      "outputs": [],
      "source": [
        "\n",
        "def predict_hidden(indexed_snt, segments_ids):\n",
        "    \"\"\"Apply the BERT model to the input token indices and segment indices\n",
        "        and return the last hidden layer\n",
        "    \"\"\"\n",
        "    with torch.no_grad():\n",
        "        # Convert inputs to tensors\n",
        "        tokens_tensor = torch.tensor([indexed_snt])\n",
        "        segments_tensors = torch.tensor([segments_ids])\n",
        "        outputs = model(tokens_tensor, segments_tensors)\n",
        "        hidden_states = outputs[2]\n",
        "        one_hidden_layer = hidden_states[12][0]\n",
        "\n",
        "    return one_hidden_layer\n",
        "\n"
      ]
    },
    {
      "cell_type": "code",
      "source": [
        "# Appliquer BERT et recup les embeddings avec les bonnes valeurs\n",
        "embedding_snt1 = predict_hidden(tokens_snt1[0], tokens_snt1[2])\n",
        "embedding_snt2 = predict_hidden(tokens_snt2[0], tokens_snt2[2])\n",
        "embedding_snt3 = predict_hidden(tokens_snt3[0], tokens_snt3[2])"
      ],
      "metadata": {
        "id": "of1eEtf4T4dy"
      },
      "execution_count": null,
      "outputs": []
    },
    {
      "cell_type": "code",
      "source": [
        "#Chaque token est représenté par un vecteur de 768 dimensions\n",
        "#Le nombre total de vecteurs dépend du nombre de tokens générés par le tokenizer.\n",
        "\n",
        "for i, emb in enumerate([embedding_snt1, embedding_snt2, embedding_snt3]):\n",
        "    print(f\"Phrase {i+1}: Dimensions = {emb.shape}\")"
      ],
      "metadata": {
        "id": "10dEl_8zUSKH",
        "colab": {
          "base_uri": "https://localhost:8080/"
        },
        "outputId": "a05ab65f-f97b-432b-8f30-a2e9869e2dd7"
      },
      "execution_count": null,
      "outputs": [
        {
          "output_type": "stream",
          "name": "stdout",
          "text": [
            "Phrase 1: Dimensions = torch.Size([12, 768])\n",
            "Phrase 2: Dimensions = torch.Size([10, 768])\n",
            "Phrase 3: Dimensions = torch.Size([12, 768])\n"
          ]
        }
      ]
    },
    {
      "cell_type": "markdown",
      "metadata": {
        "id": "F1v3DSFrOdFl"
      },
      "source": [
        "The hidden layer returned by the *predict_hidden* function is a tensor containing a context vector representing each token in the input sentence. We can use this vector to represent the meaning of this word as a function of its context. We're going to compare the representation of the polysemous word *plant* as a function of its context.\n",
        "\n",
        "#### Question\n",
        ">* Using the [cosine distance](https://docs.scipy.org/doc/scipy/reference/generated/scipy.spatial.distance.cosine.html), calculate the following distances:\n",
        "> * distance between *plant* in sentence 1 (plant-factory) and *plant* in sentence 3 (plant-vegetal)\n",
        "> * distance between *plant* in sentence 1 (plant-factory) and *factory* in sentence 2 (plant-vegetal)\n",
        "> * distance between *plant* in sentence 1 (plant-factory) and *production* in sentence 2\n",
        "> * distance between *plant* in sentence 3 (plant-vegetal) and *production* in sentence 2\n",
        "> How can we interpret these distances?"
      ]
    },
    {
      "cell_type": "code",
      "execution_count": null,
      "metadata": {
        "id": "jnC0-5h7OdFl"
      },
      "outputs": [],
      "source": [
        "from scipy.spatial.distance import cosine\n",
        "\n",
        "# YOUR CODE HERE\n",
        "# recup les indices des mots dans chaque phrase\n",
        "index_plant_snt1 = tokens_snt1[1].index(\"plant\")  # \"plant\" dans phrase 1\n",
        "index_plant_snt3 = tokens_snt3[1].index(\"plant\")  # \"plant\" dans phrase 3\n",
        "index_factory_snt2 = tokens_snt2[1].index(\"factory\")  # \"factory\" dans phrase 2\n",
        "index_production_snt1 = tokens_snt1[1].index(\"production\")  # \"production\" dans phrase 1\n",
        "#index_production_snt2 = tokens_snt2[1].index(\"production\")  # \"production\" dans phrase 2\n",
        "\n"
      ]
    },
    {
      "cell_type": "code",
      "source": [
        "# extract embeddings\n",
        "vec_plant_snt1 = embedding_snt1[index_plant_snt1].numpy()\n",
        "vec_plant_snt3 = embedding_snt3[index_plant_snt3].numpy()\n",
        "vec_factory_snt2 = embedding_snt2[index_factory_snt2].numpy()\n",
        "vec_production_snt1 = embedding_snt1[index_production_snt1].numpy()\n",
        "#vec_production_snt2 = embedding_snt2[index_production_snt2].numpy()\n"
      ],
      "metadata": {
        "id": "YVO9kiYCU5BN"
      },
      "execution_count": null,
      "outputs": []
    },
    {
      "cell_type": "code",
      "source": [
        "print((vec_plant_snt1==vec_plant_snt3).sum())\n",
        "#l'embedding de \"plant\" n'est pas le meme"
      ],
      "metadata": {
        "colab": {
          "base_uri": "https://localhost:8080/"
        },
        "id": "3HAq54TDgR8R",
        "outputId": "3d601930-a5e5-4603-b9db-b55b42c03d1b"
      },
      "execution_count": null,
      "outputs": [
        {
          "output_type": "stream",
          "name": "stdout",
          "text": [
            "0\n"
          ]
        }
      ]
    },
    {
      "cell_type": "code",
      "source": [
        "# cosine distances\n",
        "dist_plant1_plant3 = cosine(vec_plant_snt1, vec_plant_snt3)\n",
        "dist_plant1_factory2 = cosine(vec_plant_snt1, vec_factory_snt2)\n",
        "dist_plant1_production1 = cosine(vec_plant_snt1, vec_production_snt1)\n",
        "dist_plant3_production1 = cosine(vec_plant_snt3, vec_production_snt1) #I considered there was a mistake in the instruction (no production in sentence 2)\n",
        "\n",
        "\n",
        "print(f\"Cosine distance entre 'plant' (usine) et 'plant' (végétal) : {dist_plant1_plant3:.4f}\")\n",
        "print(f\"Cosine distance entre 'plant' (usine) et 'factory' : {dist_plant1_factory2:.4f}\")\n",
        "print(f\"Cosine distance entre 'plant' (usine) et 'production' : {dist_plant1_production1:.4f}\")\n",
        "print(f\"Cosine distance entre 'plant' (végétal) et 'production' : {dist_plant3_production1:.4f}\")\n"
      ],
      "metadata": {
        "colab": {
          "base_uri": "https://localhost:8080/"
        },
        "id": "xnRRb80tU7N2",
        "outputId": "2589dc6f-e016-44c4-938e-b07e1731bfcd"
      },
      "execution_count": null,
      "outputs": [
        {
          "output_type": "stream",
          "name": "stdout",
          "text": [
            "Distance cosinus entre 'plant' (usine) et 'plant' (végétal) : 0.4987\n",
            "Distance cosinus entre 'plant' (usine) et 'factory' : 0.3123\n",
            "Distance cosinus entre 'plant' (usine) et 'production' : 0.2402\n",
            "Distance cosinus entre 'plant' (végétal) et 'production' : 0.6200\n"
          ]
        }
      ]
    }
  ],
  "metadata": {
    "kernelspec": {
      "display_name": "Python 3 (ipykernel)",
      "language": "python",
      "name": "python3"
    },
    "language_info": {
      "codemirror_mode": {
        "name": "ipython",
        "version": 3
      },
      "file_extension": ".py",
      "mimetype": "text/x-python",
      "name": "python",
      "nbconvert_exporter": "python",
      "pygments_lexer": "ipython3",
      "version": "3.12.7"
    },
    "colab": {
      "provenance": []
    },
    "widgets": {
      "application/vnd.jupyter.widget-state+json": {
        "3758b23606324105a74122f690e24615": {
          "model_module": "@jupyter-widgets/controls",
          "model_name": "HBoxModel",
          "model_module_version": "1.5.0",
          "state": {
            "_dom_classes": [],
            "_model_module": "@jupyter-widgets/controls",
            "_model_module_version": "1.5.0",
            "_model_name": "HBoxModel",
            "_view_count": null,
            "_view_module": "@jupyter-widgets/controls",
            "_view_module_version": "1.5.0",
            "_view_name": "HBoxView",
            "box_style": "",
            "children": [
              "IPY_MODEL_65d387853ab7493ba3d211187ea1ddd0",
              "IPY_MODEL_a4b74e0f199f4332be5e6f13f3df4ae6",
              "IPY_MODEL_b08bf46c875e4961870b3dfaec15e39a"
            ],
            "layout": "IPY_MODEL_4e2110513c414ec189d3585dacb53a71"
          }
        },
        "65d387853ab7493ba3d211187ea1ddd0": {
          "model_module": "@jupyter-widgets/controls",
          "model_name": "HTMLModel",
          "model_module_version": "1.5.0",
          "state": {
            "_dom_classes": [],
            "_model_module": "@jupyter-widgets/controls",
            "_model_module_version": "1.5.0",
            "_model_name": "HTMLModel",
            "_view_count": null,
            "_view_module": "@jupyter-widgets/controls",
            "_view_module_version": "1.5.0",
            "_view_name": "HTMLView",
            "description": "",
            "description_tooltip": null,
            "layout": "IPY_MODEL_c4df398a2ba649a39bca8d027758a8a6",
            "placeholder": "​",
            "style": "IPY_MODEL_87285222414340b0bd007cb7dff9fd54",
            "value": "tokenizer_config.json: 100%"
          }
        },
        "a4b74e0f199f4332be5e6f13f3df4ae6": {
          "model_module": "@jupyter-widgets/controls",
          "model_name": "FloatProgressModel",
          "model_module_version": "1.5.0",
          "state": {
            "_dom_classes": [],
            "_model_module": "@jupyter-widgets/controls",
            "_model_module_version": "1.5.0",
            "_model_name": "FloatProgressModel",
            "_view_count": null,
            "_view_module": "@jupyter-widgets/controls",
            "_view_module_version": "1.5.0",
            "_view_name": "ProgressView",
            "bar_style": "success",
            "description": "",
            "description_tooltip": null,
            "layout": "IPY_MODEL_213a76e7b65444f0b565167bf6bdd205",
            "max": 48,
            "min": 0,
            "orientation": "horizontal",
            "style": "IPY_MODEL_98cafe2a8f3e433ba8736bd735c3e0d2",
            "value": 48
          }
        },
        "b08bf46c875e4961870b3dfaec15e39a": {
          "model_module": "@jupyter-widgets/controls",
          "model_name": "HTMLModel",
          "model_module_version": "1.5.0",
          "state": {
            "_dom_classes": [],
            "_model_module": "@jupyter-widgets/controls",
            "_model_module_version": "1.5.0",
            "_model_name": "HTMLModel",
            "_view_count": null,
            "_view_module": "@jupyter-widgets/controls",
            "_view_module_version": "1.5.0",
            "_view_name": "HTMLView",
            "description": "",
            "description_tooltip": null,
            "layout": "IPY_MODEL_4ea15017b6a341ffbd6f4835a184c3af",
            "placeholder": "​",
            "style": "IPY_MODEL_caf56fa5d5ef4c33ad08e1e67cd3995e",
            "value": " 48.0/48.0 [00:00&lt;00:00, 2.56kB/s]"
          }
        },
        "4e2110513c414ec189d3585dacb53a71": {
          "model_module": "@jupyter-widgets/base",
          "model_name": "LayoutModel",
          "model_module_version": "1.2.0",
          "state": {
            "_model_module": "@jupyter-widgets/base",
            "_model_module_version": "1.2.0",
            "_model_name": "LayoutModel",
            "_view_count": null,
            "_view_module": "@jupyter-widgets/base",
            "_view_module_version": "1.2.0",
            "_view_name": "LayoutView",
            "align_content": null,
            "align_items": null,
            "align_self": null,
            "border": null,
            "bottom": null,
            "display": null,
            "flex": null,
            "flex_flow": null,
            "grid_area": null,
            "grid_auto_columns": null,
            "grid_auto_flow": null,
            "grid_auto_rows": null,
            "grid_column": null,
            "grid_gap": null,
            "grid_row": null,
            "grid_template_areas": null,
            "grid_template_columns": null,
            "grid_template_rows": null,
            "height": null,
            "justify_content": null,
            "justify_items": null,
            "left": null,
            "margin": null,
            "max_height": null,
            "max_width": null,
            "min_height": null,
            "min_width": null,
            "object_fit": null,
            "object_position": null,
            "order": null,
            "overflow": null,
            "overflow_x": null,
            "overflow_y": null,
            "padding": null,
            "right": null,
            "top": null,
            "visibility": null,
            "width": null
          }
        },
        "c4df398a2ba649a39bca8d027758a8a6": {
          "model_module": "@jupyter-widgets/base",
          "model_name": "LayoutModel",
          "model_module_version": "1.2.0",
          "state": {
            "_model_module": "@jupyter-widgets/base",
            "_model_module_version": "1.2.0",
            "_model_name": "LayoutModel",
            "_view_count": null,
            "_view_module": "@jupyter-widgets/base",
            "_view_module_version": "1.2.0",
            "_view_name": "LayoutView",
            "align_content": null,
            "align_items": null,
            "align_self": null,
            "border": null,
            "bottom": null,
            "display": null,
            "flex": null,
            "flex_flow": null,
            "grid_area": null,
            "grid_auto_columns": null,
            "grid_auto_flow": null,
            "grid_auto_rows": null,
            "grid_column": null,
            "grid_gap": null,
            "grid_row": null,
            "grid_template_areas": null,
            "grid_template_columns": null,
            "grid_template_rows": null,
            "height": null,
            "justify_content": null,
            "justify_items": null,
            "left": null,
            "margin": null,
            "max_height": null,
            "max_width": null,
            "min_height": null,
            "min_width": null,
            "object_fit": null,
            "object_position": null,
            "order": null,
            "overflow": null,
            "overflow_x": null,
            "overflow_y": null,
            "padding": null,
            "right": null,
            "top": null,
            "visibility": null,
            "width": null
          }
        },
        "87285222414340b0bd007cb7dff9fd54": {
          "model_module": "@jupyter-widgets/controls",
          "model_name": "DescriptionStyleModel",
          "model_module_version": "1.5.0",
          "state": {
            "_model_module": "@jupyter-widgets/controls",
            "_model_module_version": "1.5.0",
            "_model_name": "DescriptionStyleModel",
            "_view_count": null,
            "_view_module": "@jupyter-widgets/base",
            "_view_module_version": "1.2.0",
            "_view_name": "StyleView",
            "description_width": ""
          }
        },
        "213a76e7b65444f0b565167bf6bdd205": {
          "model_module": "@jupyter-widgets/base",
          "model_name": "LayoutModel",
          "model_module_version": "1.2.0",
          "state": {
            "_model_module": "@jupyter-widgets/base",
            "_model_module_version": "1.2.0",
            "_model_name": "LayoutModel",
            "_view_count": null,
            "_view_module": "@jupyter-widgets/base",
            "_view_module_version": "1.2.0",
            "_view_name": "LayoutView",
            "align_content": null,
            "align_items": null,
            "align_self": null,
            "border": null,
            "bottom": null,
            "display": null,
            "flex": null,
            "flex_flow": null,
            "grid_area": null,
            "grid_auto_columns": null,
            "grid_auto_flow": null,
            "grid_auto_rows": null,
            "grid_column": null,
            "grid_gap": null,
            "grid_row": null,
            "grid_template_areas": null,
            "grid_template_columns": null,
            "grid_template_rows": null,
            "height": null,
            "justify_content": null,
            "justify_items": null,
            "left": null,
            "margin": null,
            "max_height": null,
            "max_width": null,
            "min_height": null,
            "min_width": null,
            "object_fit": null,
            "object_position": null,
            "order": null,
            "overflow": null,
            "overflow_x": null,
            "overflow_y": null,
            "padding": null,
            "right": null,
            "top": null,
            "visibility": null,
            "width": null
          }
        },
        "98cafe2a8f3e433ba8736bd735c3e0d2": {
          "model_module": "@jupyter-widgets/controls",
          "model_name": "ProgressStyleModel",
          "model_module_version": "1.5.0",
          "state": {
            "_model_module": "@jupyter-widgets/controls",
            "_model_module_version": "1.5.0",
            "_model_name": "ProgressStyleModel",
            "_view_count": null,
            "_view_module": "@jupyter-widgets/base",
            "_view_module_version": "1.2.0",
            "_view_name": "StyleView",
            "bar_color": null,
            "description_width": ""
          }
        },
        "4ea15017b6a341ffbd6f4835a184c3af": {
          "model_module": "@jupyter-widgets/base",
          "model_name": "LayoutModel",
          "model_module_version": "1.2.0",
          "state": {
            "_model_module": "@jupyter-widgets/base",
            "_model_module_version": "1.2.0",
            "_model_name": "LayoutModel",
            "_view_count": null,
            "_view_module": "@jupyter-widgets/base",
            "_view_module_version": "1.2.0",
            "_view_name": "LayoutView",
            "align_content": null,
            "align_items": null,
            "align_self": null,
            "border": null,
            "bottom": null,
            "display": null,
            "flex": null,
            "flex_flow": null,
            "grid_area": null,
            "grid_auto_columns": null,
            "grid_auto_flow": null,
            "grid_auto_rows": null,
            "grid_column": null,
            "grid_gap": null,
            "grid_row": null,
            "grid_template_areas": null,
            "grid_template_columns": null,
            "grid_template_rows": null,
            "height": null,
            "justify_content": null,
            "justify_items": null,
            "left": null,
            "margin": null,
            "max_height": null,
            "max_width": null,
            "min_height": null,
            "min_width": null,
            "object_fit": null,
            "object_position": null,
            "order": null,
            "overflow": null,
            "overflow_x": null,
            "overflow_y": null,
            "padding": null,
            "right": null,
            "top": null,
            "visibility": null,
            "width": null
          }
        },
        "caf56fa5d5ef4c33ad08e1e67cd3995e": {
          "model_module": "@jupyter-widgets/controls",
          "model_name": "DescriptionStyleModel",
          "model_module_version": "1.5.0",
          "state": {
            "_model_module": "@jupyter-widgets/controls",
            "_model_module_version": "1.5.0",
            "_model_name": "DescriptionStyleModel",
            "_view_count": null,
            "_view_module": "@jupyter-widgets/base",
            "_view_module_version": "1.2.0",
            "_view_name": "StyleView",
            "description_width": ""
          }
        },
        "b338b7417374483eb9c96006e7f7313f": {
          "model_module": "@jupyter-widgets/controls",
          "model_name": "HBoxModel",
          "model_module_version": "1.5.0",
          "state": {
            "_dom_classes": [],
            "_model_module": "@jupyter-widgets/controls",
            "_model_module_version": "1.5.0",
            "_model_name": "HBoxModel",
            "_view_count": null,
            "_view_module": "@jupyter-widgets/controls",
            "_view_module_version": "1.5.0",
            "_view_name": "HBoxView",
            "box_style": "",
            "children": [
              "IPY_MODEL_3975f1e07fcb43d7984835b9862ba3a2",
              "IPY_MODEL_613a4fcc80154238bf3c7a7e61c33320",
              "IPY_MODEL_c5590644a4d04b4f9d726d04a8cdff60"
            ],
            "layout": "IPY_MODEL_4076ae5fd97447468fccdfce859596ab"
          }
        },
        "3975f1e07fcb43d7984835b9862ba3a2": {
          "model_module": "@jupyter-widgets/controls",
          "model_name": "HTMLModel",
          "model_module_version": "1.5.0",
          "state": {
            "_dom_classes": [],
            "_model_module": "@jupyter-widgets/controls",
            "_model_module_version": "1.5.0",
            "_model_name": "HTMLModel",
            "_view_count": null,
            "_view_module": "@jupyter-widgets/controls",
            "_view_module_version": "1.5.0",
            "_view_name": "HTMLView",
            "description": "",
            "description_tooltip": null,
            "layout": "IPY_MODEL_6065ecd4ebb742d0aaf54e2d46c6cd74",
            "placeholder": "​",
            "style": "IPY_MODEL_12efa91e1450410da7ddafb165e39295",
            "value": "vocab.txt: 100%"
          }
        },
        "613a4fcc80154238bf3c7a7e61c33320": {
          "model_module": "@jupyter-widgets/controls",
          "model_name": "FloatProgressModel",
          "model_module_version": "1.5.0",
          "state": {
            "_dom_classes": [],
            "_model_module": "@jupyter-widgets/controls",
            "_model_module_version": "1.5.0",
            "_model_name": "FloatProgressModel",
            "_view_count": null,
            "_view_module": "@jupyter-widgets/controls",
            "_view_module_version": "1.5.0",
            "_view_name": "ProgressView",
            "bar_style": "success",
            "description": "",
            "description_tooltip": null,
            "layout": "IPY_MODEL_e633dc273c634bfb95f4d348a28c7d6c",
            "max": 231508,
            "min": 0,
            "orientation": "horizontal",
            "style": "IPY_MODEL_88d9c74f25d44c7fae85a9c5c0eab806",
            "value": 231508
          }
        },
        "c5590644a4d04b4f9d726d04a8cdff60": {
          "model_module": "@jupyter-widgets/controls",
          "model_name": "HTMLModel",
          "model_module_version": "1.5.0",
          "state": {
            "_dom_classes": [],
            "_model_module": "@jupyter-widgets/controls",
            "_model_module_version": "1.5.0",
            "_model_name": "HTMLModel",
            "_view_count": null,
            "_view_module": "@jupyter-widgets/controls",
            "_view_module_version": "1.5.0",
            "_view_name": "HTMLView",
            "description": "",
            "description_tooltip": null,
            "layout": "IPY_MODEL_8b5f0baa20914d7c8bd26ae677bf2283",
            "placeholder": "​",
            "style": "IPY_MODEL_5771b065911348d0ac8d52040447c503",
            "value": " 232k/232k [00:00&lt;00:00, 2.67MB/s]"
          }
        },
        "4076ae5fd97447468fccdfce859596ab": {
          "model_module": "@jupyter-widgets/base",
          "model_name": "LayoutModel",
          "model_module_version": "1.2.0",
          "state": {
            "_model_module": "@jupyter-widgets/base",
            "_model_module_version": "1.2.0",
            "_model_name": "LayoutModel",
            "_view_count": null,
            "_view_module": "@jupyter-widgets/base",
            "_view_module_version": "1.2.0",
            "_view_name": "LayoutView",
            "align_content": null,
            "align_items": null,
            "align_self": null,
            "border": null,
            "bottom": null,
            "display": null,
            "flex": null,
            "flex_flow": null,
            "grid_area": null,
            "grid_auto_columns": null,
            "grid_auto_flow": null,
            "grid_auto_rows": null,
            "grid_column": null,
            "grid_gap": null,
            "grid_row": null,
            "grid_template_areas": null,
            "grid_template_columns": null,
            "grid_template_rows": null,
            "height": null,
            "justify_content": null,
            "justify_items": null,
            "left": null,
            "margin": null,
            "max_height": null,
            "max_width": null,
            "min_height": null,
            "min_width": null,
            "object_fit": null,
            "object_position": null,
            "order": null,
            "overflow": null,
            "overflow_x": null,
            "overflow_y": null,
            "padding": null,
            "right": null,
            "top": null,
            "visibility": null,
            "width": null
          }
        },
        "6065ecd4ebb742d0aaf54e2d46c6cd74": {
          "model_module": "@jupyter-widgets/base",
          "model_name": "LayoutModel",
          "model_module_version": "1.2.0",
          "state": {
            "_model_module": "@jupyter-widgets/base",
            "_model_module_version": "1.2.0",
            "_model_name": "LayoutModel",
            "_view_count": null,
            "_view_module": "@jupyter-widgets/base",
            "_view_module_version": "1.2.0",
            "_view_name": "LayoutView",
            "align_content": null,
            "align_items": null,
            "align_self": null,
            "border": null,
            "bottom": null,
            "display": null,
            "flex": null,
            "flex_flow": null,
            "grid_area": null,
            "grid_auto_columns": null,
            "grid_auto_flow": null,
            "grid_auto_rows": null,
            "grid_column": null,
            "grid_gap": null,
            "grid_row": null,
            "grid_template_areas": null,
            "grid_template_columns": null,
            "grid_template_rows": null,
            "height": null,
            "justify_content": null,
            "justify_items": null,
            "left": null,
            "margin": null,
            "max_height": null,
            "max_width": null,
            "min_height": null,
            "min_width": null,
            "object_fit": null,
            "object_position": null,
            "order": null,
            "overflow": null,
            "overflow_x": null,
            "overflow_y": null,
            "padding": null,
            "right": null,
            "top": null,
            "visibility": null,
            "width": null
          }
        },
        "12efa91e1450410da7ddafb165e39295": {
          "model_module": "@jupyter-widgets/controls",
          "model_name": "DescriptionStyleModel",
          "model_module_version": "1.5.0",
          "state": {
            "_model_module": "@jupyter-widgets/controls",
            "_model_module_version": "1.5.0",
            "_model_name": "DescriptionStyleModel",
            "_view_count": null,
            "_view_module": "@jupyter-widgets/base",
            "_view_module_version": "1.2.0",
            "_view_name": "StyleView",
            "description_width": ""
          }
        },
        "e633dc273c634bfb95f4d348a28c7d6c": {
          "model_module": "@jupyter-widgets/base",
          "model_name": "LayoutModel",
          "model_module_version": "1.2.0",
          "state": {
            "_model_module": "@jupyter-widgets/base",
            "_model_module_version": "1.2.0",
            "_model_name": "LayoutModel",
            "_view_count": null,
            "_view_module": "@jupyter-widgets/base",
            "_view_module_version": "1.2.0",
            "_view_name": "LayoutView",
            "align_content": null,
            "align_items": null,
            "align_self": null,
            "border": null,
            "bottom": null,
            "display": null,
            "flex": null,
            "flex_flow": null,
            "grid_area": null,
            "grid_auto_columns": null,
            "grid_auto_flow": null,
            "grid_auto_rows": null,
            "grid_column": null,
            "grid_gap": null,
            "grid_row": null,
            "grid_template_areas": null,
            "grid_template_columns": null,
            "grid_template_rows": null,
            "height": null,
            "justify_content": null,
            "justify_items": null,
            "left": null,
            "margin": null,
            "max_height": null,
            "max_width": null,
            "min_height": null,
            "min_width": null,
            "object_fit": null,
            "object_position": null,
            "order": null,
            "overflow": null,
            "overflow_x": null,
            "overflow_y": null,
            "padding": null,
            "right": null,
            "top": null,
            "visibility": null,
            "width": null
          }
        },
        "88d9c74f25d44c7fae85a9c5c0eab806": {
          "model_module": "@jupyter-widgets/controls",
          "model_name": "ProgressStyleModel",
          "model_module_version": "1.5.0",
          "state": {
            "_model_module": "@jupyter-widgets/controls",
            "_model_module_version": "1.5.0",
            "_model_name": "ProgressStyleModel",
            "_view_count": null,
            "_view_module": "@jupyter-widgets/base",
            "_view_module_version": "1.2.0",
            "_view_name": "StyleView",
            "bar_color": null,
            "description_width": ""
          }
        },
        "8b5f0baa20914d7c8bd26ae677bf2283": {
          "model_module": "@jupyter-widgets/base",
          "model_name": "LayoutModel",
          "model_module_version": "1.2.0",
          "state": {
            "_model_module": "@jupyter-widgets/base",
            "_model_module_version": "1.2.0",
            "_model_name": "LayoutModel",
            "_view_count": null,
            "_view_module": "@jupyter-widgets/base",
            "_view_module_version": "1.2.0",
            "_view_name": "LayoutView",
            "align_content": null,
            "align_items": null,
            "align_self": null,
            "border": null,
            "bottom": null,
            "display": null,
            "flex": null,
            "flex_flow": null,
            "grid_area": null,
            "grid_auto_columns": null,
            "grid_auto_flow": null,
            "grid_auto_rows": null,
            "grid_column": null,
            "grid_gap": null,
            "grid_row": null,
            "grid_template_areas": null,
            "grid_template_columns": null,
            "grid_template_rows": null,
            "height": null,
            "justify_content": null,
            "justify_items": null,
            "left": null,
            "margin": null,
            "max_height": null,
            "max_width": null,
            "min_height": null,
            "min_width": null,
            "object_fit": null,
            "object_position": null,
            "order": null,
            "overflow": null,
            "overflow_x": null,
            "overflow_y": null,
            "padding": null,
            "right": null,
            "top": null,
            "visibility": null,
            "width": null
          }
        },
        "5771b065911348d0ac8d52040447c503": {
          "model_module": "@jupyter-widgets/controls",
          "model_name": "DescriptionStyleModel",
          "model_module_version": "1.5.0",
          "state": {
            "_model_module": "@jupyter-widgets/controls",
            "_model_module_version": "1.5.0",
            "_model_name": "DescriptionStyleModel",
            "_view_count": null,
            "_view_module": "@jupyter-widgets/base",
            "_view_module_version": "1.2.0",
            "_view_name": "StyleView",
            "description_width": ""
          }
        },
        "6a94c24562774630899edcb5fa42907f": {
          "model_module": "@jupyter-widgets/controls",
          "model_name": "HBoxModel",
          "model_module_version": "1.5.0",
          "state": {
            "_dom_classes": [],
            "_model_module": "@jupyter-widgets/controls",
            "_model_module_version": "1.5.0",
            "_model_name": "HBoxModel",
            "_view_count": null,
            "_view_module": "@jupyter-widgets/controls",
            "_view_module_version": "1.5.0",
            "_view_name": "HBoxView",
            "box_style": "",
            "children": [
              "IPY_MODEL_71f6b05efe5e4a928f81f7838862a670",
              "IPY_MODEL_3bb900803ca4451eaa97be5e6ef5c028",
              "IPY_MODEL_e10950a703b5426e8e0bcf4b8142dccc"
            ],
            "layout": "IPY_MODEL_d1fa1a80511445a1b87c7fb58b0495c8"
          }
        },
        "71f6b05efe5e4a928f81f7838862a670": {
          "model_module": "@jupyter-widgets/controls",
          "model_name": "HTMLModel",
          "model_module_version": "1.5.0",
          "state": {
            "_dom_classes": [],
            "_model_module": "@jupyter-widgets/controls",
            "_model_module_version": "1.5.0",
            "_model_name": "HTMLModel",
            "_view_count": null,
            "_view_module": "@jupyter-widgets/controls",
            "_view_module_version": "1.5.0",
            "_view_name": "HTMLView",
            "description": "",
            "description_tooltip": null,
            "layout": "IPY_MODEL_5073ffd5eaf44268ac30c481fd1bd3a0",
            "placeholder": "​",
            "style": "IPY_MODEL_3bec6d564f214ec0988a33c3dbf773ea",
            "value": "tokenizer.json: 100%"
          }
        },
        "3bb900803ca4451eaa97be5e6ef5c028": {
          "model_module": "@jupyter-widgets/controls",
          "model_name": "FloatProgressModel",
          "model_module_version": "1.5.0",
          "state": {
            "_dom_classes": [],
            "_model_module": "@jupyter-widgets/controls",
            "_model_module_version": "1.5.0",
            "_model_name": "FloatProgressModel",
            "_view_count": null,
            "_view_module": "@jupyter-widgets/controls",
            "_view_module_version": "1.5.0",
            "_view_name": "ProgressView",
            "bar_style": "success",
            "description": "",
            "description_tooltip": null,
            "layout": "IPY_MODEL_42a0ac5accba44828f0b7746f2267dcc",
            "max": 466062,
            "min": 0,
            "orientation": "horizontal",
            "style": "IPY_MODEL_2f72c85d4ccb465d97c9b7fbb62983c4",
            "value": 466062
          }
        },
        "e10950a703b5426e8e0bcf4b8142dccc": {
          "model_module": "@jupyter-widgets/controls",
          "model_name": "HTMLModel",
          "model_module_version": "1.5.0",
          "state": {
            "_dom_classes": [],
            "_model_module": "@jupyter-widgets/controls",
            "_model_module_version": "1.5.0",
            "_model_name": "HTMLModel",
            "_view_count": null,
            "_view_module": "@jupyter-widgets/controls",
            "_view_module_version": "1.5.0",
            "_view_name": "HTMLView",
            "description": "",
            "description_tooltip": null,
            "layout": "IPY_MODEL_e5bf7570b72f4e80950cc0432a26977e",
            "placeholder": "​",
            "style": "IPY_MODEL_026d57e5ac334b38a375598f70082a98",
            "value": " 466k/466k [00:00&lt;00:00, 4.89MB/s]"
          }
        },
        "d1fa1a80511445a1b87c7fb58b0495c8": {
          "model_module": "@jupyter-widgets/base",
          "model_name": "LayoutModel",
          "model_module_version": "1.2.0",
          "state": {
            "_model_module": "@jupyter-widgets/base",
            "_model_module_version": "1.2.0",
            "_model_name": "LayoutModel",
            "_view_count": null,
            "_view_module": "@jupyter-widgets/base",
            "_view_module_version": "1.2.0",
            "_view_name": "LayoutView",
            "align_content": null,
            "align_items": null,
            "align_self": null,
            "border": null,
            "bottom": null,
            "display": null,
            "flex": null,
            "flex_flow": null,
            "grid_area": null,
            "grid_auto_columns": null,
            "grid_auto_flow": null,
            "grid_auto_rows": null,
            "grid_column": null,
            "grid_gap": null,
            "grid_row": null,
            "grid_template_areas": null,
            "grid_template_columns": null,
            "grid_template_rows": null,
            "height": null,
            "justify_content": null,
            "justify_items": null,
            "left": null,
            "margin": null,
            "max_height": null,
            "max_width": null,
            "min_height": null,
            "min_width": null,
            "object_fit": null,
            "object_position": null,
            "order": null,
            "overflow": null,
            "overflow_x": null,
            "overflow_y": null,
            "padding": null,
            "right": null,
            "top": null,
            "visibility": null,
            "width": null
          }
        },
        "5073ffd5eaf44268ac30c481fd1bd3a0": {
          "model_module": "@jupyter-widgets/base",
          "model_name": "LayoutModel",
          "model_module_version": "1.2.0",
          "state": {
            "_model_module": "@jupyter-widgets/base",
            "_model_module_version": "1.2.0",
            "_model_name": "LayoutModel",
            "_view_count": null,
            "_view_module": "@jupyter-widgets/base",
            "_view_module_version": "1.2.0",
            "_view_name": "LayoutView",
            "align_content": null,
            "align_items": null,
            "align_self": null,
            "border": null,
            "bottom": null,
            "display": null,
            "flex": null,
            "flex_flow": null,
            "grid_area": null,
            "grid_auto_columns": null,
            "grid_auto_flow": null,
            "grid_auto_rows": null,
            "grid_column": null,
            "grid_gap": null,
            "grid_row": null,
            "grid_template_areas": null,
            "grid_template_columns": null,
            "grid_template_rows": null,
            "height": null,
            "justify_content": null,
            "justify_items": null,
            "left": null,
            "margin": null,
            "max_height": null,
            "max_width": null,
            "min_height": null,
            "min_width": null,
            "object_fit": null,
            "object_position": null,
            "order": null,
            "overflow": null,
            "overflow_x": null,
            "overflow_y": null,
            "padding": null,
            "right": null,
            "top": null,
            "visibility": null,
            "width": null
          }
        },
        "3bec6d564f214ec0988a33c3dbf773ea": {
          "model_module": "@jupyter-widgets/controls",
          "model_name": "DescriptionStyleModel",
          "model_module_version": "1.5.0",
          "state": {
            "_model_module": "@jupyter-widgets/controls",
            "_model_module_version": "1.5.0",
            "_model_name": "DescriptionStyleModel",
            "_view_count": null,
            "_view_module": "@jupyter-widgets/base",
            "_view_module_version": "1.2.0",
            "_view_name": "StyleView",
            "description_width": ""
          }
        },
        "42a0ac5accba44828f0b7746f2267dcc": {
          "model_module": "@jupyter-widgets/base",
          "model_name": "LayoutModel",
          "model_module_version": "1.2.0",
          "state": {
            "_model_module": "@jupyter-widgets/base",
            "_model_module_version": "1.2.0",
            "_model_name": "LayoutModel",
            "_view_count": null,
            "_view_module": "@jupyter-widgets/base",
            "_view_module_version": "1.2.0",
            "_view_name": "LayoutView",
            "align_content": null,
            "align_items": null,
            "align_self": null,
            "border": null,
            "bottom": null,
            "display": null,
            "flex": null,
            "flex_flow": null,
            "grid_area": null,
            "grid_auto_columns": null,
            "grid_auto_flow": null,
            "grid_auto_rows": null,
            "grid_column": null,
            "grid_gap": null,
            "grid_row": null,
            "grid_template_areas": null,
            "grid_template_columns": null,
            "grid_template_rows": null,
            "height": null,
            "justify_content": null,
            "justify_items": null,
            "left": null,
            "margin": null,
            "max_height": null,
            "max_width": null,
            "min_height": null,
            "min_width": null,
            "object_fit": null,
            "object_position": null,
            "order": null,
            "overflow": null,
            "overflow_x": null,
            "overflow_y": null,
            "padding": null,
            "right": null,
            "top": null,
            "visibility": null,
            "width": null
          }
        },
        "2f72c85d4ccb465d97c9b7fbb62983c4": {
          "model_module": "@jupyter-widgets/controls",
          "model_name": "ProgressStyleModel",
          "model_module_version": "1.5.0",
          "state": {
            "_model_module": "@jupyter-widgets/controls",
            "_model_module_version": "1.5.0",
            "_model_name": "ProgressStyleModel",
            "_view_count": null,
            "_view_module": "@jupyter-widgets/base",
            "_view_module_version": "1.2.0",
            "_view_name": "StyleView",
            "bar_color": null,
            "description_width": ""
          }
        },
        "e5bf7570b72f4e80950cc0432a26977e": {
          "model_module": "@jupyter-widgets/base",
          "model_name": "LayoutModel",
          "model_module_version": "1.2.0",
          "state": {
            "_model_module": "@jupyter-widgets/base",
            "_model_module_version": "1.2.0",
            "_model_name": "LayoutModel",
            "_view_count": null,
            "_view_module": "@jupyter-widgets/base",
            "_view_module_version": "1.2.0",
            "_view_name": "LayoutView",
            "align_content": null,
            "align_items": null,
            "align_self": null,
            "border": null,
            "bottom": null,
            "display": null,
            "flex": null,
            "flex_flow": null,
            "grid_area": null,
            "grid_auto_columns": null,
            "grid_auto_flow": null,
            "grid_auto_rows": null,
            "grid_column": null,
            "grid_gap": null,
            "grid_row": null,
            "grid_template_areas": null,
            "grid_template_columns": null,
            "grid_template_rows": null,
            "height": null,
            "justify_content": null,
            "justify_items": null,
            "left": null,
            "margin": null,
            "max_height": null,
            "max_width": null,
            "min_height": null,
            "min_width": null,
            "object_fit": null,
            "object_position": null,
            "order": null,
            "overflow": null,
            "overflow_x": null,
            "overflow_y": null,
            "padding": null,
            "right": null,
            "top": null,
            "visibility": null,
            "width": null
          }
        },
        "026d57e5ac334b38a375598f70082a98": {
          "model_module": "@jupyter-widgets/controls",
          "model_name": "DescriptionStyleModel",
          "model_module_version": "1.5.0",
          "state": {
            "_model_module": "@jupyter-widgets/controls",
            "_model_module_version": "1.5.0",
            "_model_name": "DescriptionStyleModel",
            "_view_count": null,
            "_view_module": "@jupyter-widgets/base",
            "_view_module_version": "1.2.0",
            "_view_name": "StyleView",
            "description_width": ""
          }
        },
        "9c9b0f32771b4014b8ac15efa420dcbe": {
          "model_module": "@jupyter-widgets/controls",
          "model_name": "HBoxModel",
          "model_module_version": "1.5.0",
          "state": {
            "_dom_classes": [],
            "_model_module": "@jupyter-widgets/controls",
            "_model_module_version": "1.5.0",
            "_model_name": "HBoxModel",
            "_view_count": null,
            "_view_module": "@jupyter-widgets/controls",
            "_view_module_version": "1.5.0",
            "_view_name": "HBoxView",
            "box_style": "",
            "children": [
              "IPY_MODEL_587ddb76329842e2ace91c71c07b1e4b",
              "IPY_MODEL_a74b48d2a72c443e9737c6185000c8ae",
              "IPY_MODEL_b037aa85fac34246a60a843d21e40348"
            ],
            "layout": "IPY_MODEL_fdbbb8a41419420ebbd6acb7b1bf0894"
          }
        },
        "587ddb76329842e2ace91c71c07b1e4b": {
          "model_module": "@jupyter-widgets/controls",
          "model_name": "HTMLModel",
          "model_module_version": "1.5.0",
          "state": {
            "_dom_classes": [],
            "_model_module": "@jupyter-widgets/controls",
            "_model_module_version": "1.5.0",
            "_model_name": "HTMLModel",
            "_view_count": null,
            "_view_module": "@jupyter-widgets/controls",
            "_view_module_version": "1.5.0",
            "_view_name": "HTMLView",
            "description": "",
            "description_tooltip": null,
            "layout": "IPY_MODEL_645feca4edd44997ae095281ba50d17f",
            "placeholder": "​",
            "style": "IPY_MODEL_3a12c25749c549ae9c77eadfba9d8f3d",
            "value": "config.json: 100%"
          }
        },
        "a74b48d2a72c443e9737c6185000c8ae": {
          "model_module": "@jupyter-widgets/controls",
          "model_name": "FloatProgressModel",
          "model_module_version": "1.5.0",
          "state": {
            "_dom_classes": [],
            "_model_module": "@jupyter-widgets/controls",
            "_model_module_version": "1.5.0",
            "_model_name": "FloatProgressModel",
            "_view_count": null,
            "_view_module": "@jupyter-widgets/controls",
            "_view_module_version": "1.5.0",
            "_view_name": "ProgressView",
            "bar_style": "success",
            "description": "",
            "description_tooltip": null,
            "layout": "IPY_MODEL_ca5a04f8b8b446668fad8da250816de1",
            "max": 570,
            "min": 0,
            "orientation": "horizontal",
            "style": "IPY_MODEL_3b225e92d1b04fec9f736c50bbaa4215",
            "value": 570
          }
        },
        "b037aa85fac34246a60a843d21e40348": {
          "model_module": "@jupyter-widgets/controls",
          "model_name": "HTMLModel",
          "model_module_version": "1.5.0",
          "state": {
            "_dom_classes": [],
            "_model_module": "@jupyter-widgets/controls",
            "_model_module_version": "1.5.0",
            "_model_name": "HTMLModel",
            "_view_count": null,
            "_view_module": "@jupyter-widgets/controls",
            "_view_module_version": "1.5.0",
            "_view_name": "HTMLView",
            "description": "",
            "description_tooltip": null,
            "layout": "IPY_MODEL_0b48a4791eb34c4592a551689e1bfc20",
            "placeholder": "​",
            "style": "IPY_MODEL_61838b4567444ce7bb436ca2344ee24d",
            "value": " 570/570 [00:00&lt;00:00, 33.5kB/s]"
          }
        },
        "fdbbb8a41419420ebbd6acb7b1bf0894": {
          "model_module": "@jupyter-widgets/base",
          "model_name": "LayoutModel",
          "model_module_version": "1.2.0",
          "state": {
            "_model_module": "@jupyter-widgets/base",
            "_model_module_version": "1.2.0",
            "_model_name": "LayoutModel",
            "_view_count": null,
            "_view_module": "@jupyter-widgets/base",
            "_view_module_version": "1.2.0",
            "_view_name": "LayoutView",
            "align_content": null,
            "align_items": null,
            "align_self": null,
            "border": null,
            "bottom": null,
            "display": null,
            "flex": null,
            "flex_flow": null,
            "grid_area": null,
            "grid_auto_columns": null,
            "grid_auto_flow": null,
            "grid_auto_rows": null,
            "grid_column": null,
            "grid_gap": null,
            "grid_row": null,
            "grid_template_areas": null,
            "grid_template_columns": null,
            "grid_template_rows": null,
            "height": null,
            "justify_content": null,
            "justify_items": null,
            "left": null,
            "margin": null,
            "max_height": null,
            "max_width": null,
            "min_height": null,
            "min_width": null,
            "object_fit": null,
            "object_position": null,
            "order": null,
            "overflow": null,
            "overflow_x": null,
            "overflow_y": null,
            "padding": null,
            "right": null,
            "top": null,
            "visibility": null,
            "width": null
          }
        },
        "645feca4edd44997ae095281ba50d17f": {
          "model_module": "@jupyter-widgets/base",
          "model_name": "LayoutModel",
          "model_module_version": "1.2.0",
          "state": {
            "_model_module": "@jupyter-widgets/base",
            "_model_module_version": "1.2.0",
            "_model_name": "LayoutModel",
            "_view_count": null,
            "_view_module": "@jupyter-widgets/base",
            "_view_module_version": "1.2.0",
            "_view_name": "LayoutView",
            "align_content": null,
            "align_items": null,
            "align_self": null,
            "border": null,
            "bottom": null,
            "display": null,
            "flex": null,
            "flex_flow": null,
            "grid_area": null,
            "grid_auto_columns": null,
            "grid_auto_flow": null,
            "grid_auto_rows": null,
            "grid_column": null,
            "grid_gap": null,
            "grid_row": null,
            "grid_template_areas": null,
            "grid_template_columns": null,
            "grid_template_rows": null,
            "height": null,
            "justify_content": null,
            "justify_items": null,
            "left": null,
            "margin": null,
            "max_height": null,
            "max_width": null,
            "min_height": null,
            "min_width": null,
            "object_fit": null,
            "object_position": null,
            "order": null,
            "overflow": null,
            "overflow_x": null,
            "overflow_y": null,
            "padding": null,
            "right": null,
            "top": null,
            "visibility": null,
            "width": null
          }
        },
        "3a12c25749c549ae9c77eadfba9d8f3d": {
          "model_module": "@jupyter-widgets/controls",
          "model_name": "DescriptionStyleModel",
          "model_module_version": "1.5.0",
          "state": {
            "_model_module": "@jupyter-widgets/controls",
            "_model_module_version": "1.5.0",
            "_model_name": "DescriptionStyleModel",
            "_view_count": null,
            "_view_module": "@jupyter-widgets/base",
            "_view_module_version": "1.2.0",
            "_view_name": "StyleView",
            "description_width": ""
          }
        },
        "ca5a04f8b8b446668fad8da250816de1": {
          "model_module": "@jupyter-widgets/base",
          "model_name": "LayoutModel",
          "model_module_version": "1.2.0",
          "state": {
            "_model_module": "@jupyter-widgets/base",
            "_model_module_version": "1.2.0",
            "_model_name": "LayoutModel",
            "_view_count": null,
            "_view_module": "@jupyter-widgets/base",
            "_view_module_version": "1.2.0",
            "_view_name": "LayoutView",
            "align_content": null,
            "align_items": null,
            "align_self": null,
            "border": null,
            "bottom": null,
            "display": null,
            "flex": null,
            "flex_flow": null,
            "grid_area": null,
            "grid_auto_columns": null,
            "grid_auto_flow": null,
            "grid_auto_rows": null,
            "grid_column": null,
            "grid_gap": null,
            "grid_row": null,
            "grid_template_areas": null,
            "grid_template_columns": null,
            "grid_template_rows": null,
            "height": null,
            "justify_content": null,
            "justify_items": null,
            "left": null,
            "margin": null,
            "max_height": null,
            "max_width": null,
            "min_height": null,
            "min_width": null,
            "object_fit": null,
            "object_position": null,
            "order": null,
            "overflow": null,
            "overflow_x": null,
            "overflow_y": null,
            "padding": null,
            "right": null,
            "top": null,
            "visibility": null,
            "width": null
          }
        },
        "3b225e92d1b04fec9f736c50bbaa4215": {
          "model_module": "@jupyter-widgets/controls",
          "model_name": "ProgressStyleModel",
          "model_module_version": "1.5.0",
          "state": {
            "_model_module": "@jupyter-widgets/controls",
            "_model_module_version": "1.5.0",
            "_model_name": "ProgressStyleModel",
            "_view_count": null,
            "_view_module": "@jupyter-widgets/base",
            "_view_module_version": "1.2.0",
            "_view_name": "StyleView",
            "bar_color": null,
            "description_width": ""
          }
        },
        "0b48a4791eb34c4592a551689e1bfc20": {
          "model_module": "@jupyter-widgets/base",
          "model_name": "LayoutModel",
          "model_module_version": "1.2.0",
          "state": {
            "_model_module": "@jupyter-widgets/base",
            "_model_module_version": "1.2.0",
            "_model_name": "LayoutModel",
            "_view_count": null,
            "_view_module": "@jupyter-widgets/base",
            "_view_module_version": "1.2.0",
            "_view_name": "LayoutView",
            "align_content": null,
            "align_items": null,
            "align_self": null,
            "border": null,
            "bottom": null,
            "display": null,
            "flex": null,
            "flex_flow": null,
            "grid_area": null,
            "grid_auto_columns": null,
            "grid_auto_flow": null,
            "grid_auto_rows": null,
            "grid_column": null,
            "grid_gap": null,
            "grid_row": null,
            "grid_template_areas": null,
            "grid_template_columns": null,
            "grid_template_rows": null,
            "height": null,
            "justify_content": null,
            "justify_items": null,
            "left": null,
            "margin": null,
            "max_height": null,
            "max_width": null,
            "min_height": null,
            "min_width": null,
            "object_fit": null,
            "object_position": null,
            "order": null,
            "overflow": null,
            "overflow_x": null,
            "overflow_y": null,
            "padding": null,
            "right": null,
            "top": null,
            "visibility": null,
            "width": null
          }
        },
        "61838b4567444ce7bb436ca2344ee24d": {
          "model_module": "@jupyter-widgets/controls",
          "model_name": "DescriptionStyleModel",
          "model_module_version": "1.5.0",
          "state": {
            "_model_module": "@jupyter-widgets/controls",
            "_model_module_version": "1.5.0",
            "_model_name": "DescriptionStyleModel",
            "_view_count": null,
            "_view_module": "@jupyter-widgets/base",
            "_view_module_version": "1.2.0",
            "_view_name": "StyleView",
            "description_width": ""
          }
        },
        "17c56f2d020f4662a5e2a26af32ff698": {
          "model_module": "@jupyter-widgets/controls",
          "model_name": "HBoxModel",
          "model_module_version": "1.5.0",
          "state": {
            "_dom_classes": [],
            "_model_module": "@jupyter-widgets/controls",
            "_model_module_version": "1.5.0",
            "_model_name": "HBoxModel",
            "_view_count": null,
            "_view_module": "@jupyter-widgets/controls",
            "_view_module_version": "1.5.0",
            "_view_name": "HBoxView",
            "box_style": "",
            "children": [
              "IPY_MODEL_23fc633f53b94ef89789f47f8d5d35d1",
              "IPY_MODEL_624bea05a48d4bab8017c041950aaa7d",
              "IPY_MODEL_de8ad9b3aa8d40f885944d37289cecae"
            ],
            "layout": "IPY_MODEL_ea1ef1126b0f4b1b9f3f28ce46910343"
          }
        },
        "23fc633f53b94ef89789f47f8d5d35d1": {
          "model_module": "@jupyter-widgets/controls",
          "model_name": "HTMLModel",
          "model_module_version": "1.5.0",
          "state": {
            "_dom_classes": [],
            "_model_module": "@jupyter-widgets/controls",
            "_model_module_version": "1.5.0",
            "_model_name": "HTMLModel",
            "_view_count": null,
            "_view_module": "@jupyter-widgets/controls",
            "_view_module_version": "1.5.0",
            "_view_name": "HTMLView",
            "description": "",
            "description_tooltip": null,
            "layout": "IPY_MODEL_c0c407aecc074fed85276e4b126d96b9",
            "placeholder": "​",
            "style": "IPY_MODEL_8f7a8f45ae6543d8b4ddaa643829859f",
            "value": "model.safetensors: 100%"
          }
        },
        "624bea05a48d4bab8017c041950aaa7d": {
          "model_module": "@jupyter-widgets/controls",
          "model_name": "FloatProgressModel",
          "model_module_version": "1.5.0",
          "state": {
            "_dom_classes": [],
            "_model_module": "@jupyter-widgets/controls",
            "_model_module_version": "1.5.0",
            "_model_name": "FloatProgressModel",
            "_view_count": null,
            "_view_module": "@jupyter-widgets/controls",
            "_view_module_version": "1.5.0",
            "_view_name": "ProgressView",
            "bar_style": "success",
            "description": "",
            "description_tooltip": null,
            "layout": "IPY_MODEL_7320282de1c64205846191d8c62feac9",
            "max": 440449768,
            "min": 0,
            "orientation": "horizontal",
            "style": "IPY_MODEL_184f701a3c9d45399d18228caffce583",
            "value": 440449768
          }
        },
        "de8ad9b3aa8d40f885944d37289cecae": {
          "model_module": "@jupyter-widgets/controls",
          "model_name": "HTMLModel",
          "model_module_version": "1.5.0",
          "state": {
            "_dom_classes": [],
            "_model_module": "@jupyter-widgets/controls",
            "_model_module_version": "1.5.0",
            "_model_name": "HTMLModel",
            "_view_count": null,
            "_view_module": "@jupyter-widgets/controls",
            "_view_module_version": "1.5.0",
            "_view_name": "HTMLView",
            "description": "",
            "description_tooltip": null,
            "layout": "IPY_MODEL_b0a5fb199edf49ebade51eccb93766d0",
            "placeholder": "​",
            "style": "IPY_MODEL_1faabea9be90414d90057f4c53f02d62",
            "value": " 440M/440M [00:02&lt;00:00, 188MB/s]"
          }
        },
        "ea1ef1126b0f4b1b9f3f28ce46910343": {
          "model_module": "@jupyter-widgets/base",
          "model_name": "LayoutModel",
          "model_module_version": "1.2.0",
          "state": {
            "_model_module": "@jupyter-widgets/base",
            "_model_module_version": "1.2.0",
            "_model_name": "LayoutModel",
            "_view_count": null,
            "_view_module": "@jupyter-widgets/base",
            "_view_module_version": "1.2.0",
            "_view_name": "LayoutView",
            "align_content": null,
            "align_items": null,
            "align_self": null,
            "border": null,
            "bottom": null,
            "display": null,
            "flex": null,
            "flex_flow": null,
            "grid_area": null,
            "grid_auto_columns": null,
            "grid_auto_flow": null,
            "grid_auto_rows": null,
            "grid_column": null,
            "grid_gap": null,
            "grid_row": null,
            "grid_template_areas": null,
            "grid_template_columns": null,
            "grid_template_rows": null,
            "height": null,
            "justify_content": null,
            "justify_items": null,
            "left": null,
            "margin": null,
            "max_height": null,
            "max_width": null,
            "min_height": null,
            "min_width": null,
            "object_fit": null,
            "object_position": null,
            "order": null,
            "overflow": null,
            "overflow_x": null,
            "overflow_y": null,
            "padding": null,
            "right": null,
            "top": null,
            "visibility": null,
            "width": null
          }
        },
        "c0c407aecc074fed85276e4b126d96b9": {
          "model_module": "@jupyter-widgets/base",
          "model_name": "LayoutModel",
          "model_module_version": "1.2.0",
          "state": {
            "_model_module": "@jupyter-widgets/base",
            "_model_module_version": "1.2.0",
            "_model_name": "LayoutModel",
            "_view_count": null,
            "_view_module": "@jupyter-widgets/base",
            "_view_module_version": "1.2.0",
            "_view_name": "LayoutView",
            "align_content": null,
            "align_items": null,
            "align_self": null,
            "border": null,
            "bottom": null,
            "display": null,
            "flex": null,
            "flex_flow": null,
            "grid_area": null,
            "grid_auto_columns": null,
            "grid_auto_flow": null,
            "grid_auto_rows": null,
            "grid_column": null,
            "grid_gap": null,
            "grid_row": null,
            "grid_template_areas": null,
            "grid_template_columns": null,
            "grid_template_rows": null,
            "height": null,
            "justify_content": null,
            "justify_items": null,
            "left": null,
            "margin": null,
            "max_height": null,
            "max_width": null,
            "min_height": null,
            "min_width": null,
            "object_fit": null,
            "object_position": null,
            "order": null,
            "overflow": null,
            "overflow_x": null,
            "overflow_y": null,
            "padding": null,
            "right": null,
            "top": null,
            "visibility": null,
            "width": null
          }
        },
        "8f7a8f45ae6543d8b4ddaa643829859f": {
          "model_module": "@jupyter-widgets/controls",
          "model_name": "DescriptionStyleModel",
          "model_module_version": "1.5.0",
          "state": {
            "_model_module": "@jupyter-widgets/controls",
            "_model_module_version": "1.5.0",
            "_model_name": "DescriptionStyleModel",
            "_view_count": null,
            "_view_module": "@jupyter-widgets/base",
            "_view_module_version": "1.2.0",
            "_view_name": "StyleView",
            "description_width": ""
          }
        },
        "7320282de1c64205846191d8c62feac9": {
          "model_module": "@jupyter-widgets/base",
          "model_name": "LayoutModel",
          "model_module_version": "1.2.0",
          "state": {
            "_model_module": "@jupyter-widgets/base",
            "_model_module_version": "1.2.0",
            "_model_name": "LayoutModel",
            "_view_count": null,
            "_view_module": "@jupyter-widgets/base",
            "_view_module_version": "1.2.0",
            "_view_name": "LayoutView",
            "align_content": null,
            "align_items": null,
            "align_self": null,
            "border": null,
            "bottom": null,
            "display": null,
            "flex": null,
            "flex_flow": null,
            "grid_area": null,
            "grid_auto_columns": null,
            "grid_auto_flow": null,
            "grid_auto_rows": null,
            "grid_column": null,
            "grid_gap": null,
            "grid_row": null,
            "grid_template_areas": null,
            "grid_template_columns": null,
            "grid_template_rows": null,
            "height": null,
            "justify_content": null,
            "justify_items": null,
            "left": null,
            "margin": null,
            "max_height": null,
            "max_width": null,
            "min_height": null,
            "min_width": null,
            "object_fit": null,
            "object_position": null,
            "order": null,
            "overflow": null,
            "overflow_x": null,
            "overflow_y": null,
            "padding": null,
            "right": null,
            "top": null,
            "visibility": null,
            "width": null
          }
        },
        "184f701a3c9d45399d18228caffce583": {
          "model_module": "@jupyter-widgets/controls",
          "model_name": "ProgressStyleModel",
          "model_module_version": "1.5.0",
          "state": {
            "_model_module": "@jupyter-widgets/controls",
            "_model_module_version": "1.5.0",
            "_model_name": "ProgressStyleModel",
            "_view_count": null,
            "_view_module": "@jupyter-widgets/base",
            "_view_module_version": "1.2.0",
            "_view_name": "StyleView",
            "bar_color": null,
            "description_width": ""
          }
        },
        "b0a5fb199edf49ebade51eccb93766d0": {
          "model_module": "@jupyter-widgets/base",
          "model_name": "LayoutModel",
          "model_module_version": "1.2.0",
          "state": {
            "_model_module": "@jupyter-widgets/base",
            "_model_module_version": "1.2.0",
            "_model_name": "LayoutModel",
            "_view_count": null,
            "_view_module": "@jupyter-widgets/base",
            "_view_module_version": "1.2.0",
            "_view_name": "LayoutView",
            "align_content": null,
            "align_items": null,
            "align_self": null,
            "border": null,
            "bottom": null,
            "display": null,
            "flex": null,
            "flex_flow": null,
            "grid_area": null,
            "grid_auto_columns": null,
            "grid_auto_flow": null,
            "grid_auto_rows": null,
            "grid_column": null,
            "grid_gap": null,
            "grid_row": null,
            "grid_template_areas": null,
            "grid_template_columns": null,
            "grid_template_rows": null,
            "height": null,
            "justify_content": null,
            "justify_items": null,
            "left": null,
            "margin": null,
            "max_height": null,
            "max_width": null,
            "min_height": null,
            "min_width": null,
            "object_fit": null,
            "object_position": null,
            "order": null,
            "overflow": null,
            "overflow_x": null,
            "overflow_y": null,
            "padding": null,
            "right": null,
            "top": null,
            "visibility": null,
            "width": null
          }
        },
        "1faabea9be90414d90057f4c53f02d62": {
          "model_module": "@jupyter-widgets/controls",
          "model_name": "DescriptionStyleModel",
          "model_module_version": "1.5.0",
          "state": {
            "_model_module": "@jupyter-widgets/controls",
            "_model_module_version": "1.5.0",
            "_model_name": "DescriptionStyleModel",
            "_view_count": null,
            "_view_module": "@jupyter-widgets/base",
            "_view_module_version": "1.2.0",
            "_view_name": "StyleView",
            "description_width": ""
          }
        }
      }
    }
  },
  "nbformat": 4,
  "nbformat_minor": 0
}