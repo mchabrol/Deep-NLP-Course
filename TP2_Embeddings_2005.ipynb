{
  "cells": [
    {
      "cell_type": "markdown",
      "metadata": {
        "id": "cUUsJZ__OdFb"
      },
      "source": [
        "#  NLP-lab :  Word embeddings\n",
        "\n",
        "In this series of exercises, we will explore three word embeddings:\n",
        "\n",
        "* [Collobert & Weston](http://www.jmlr.org/papers/volume12/collobert11a/collobert11a.pdf) https://ronan.collobert.com/senna/\n",
        "* [Word2Vec](https://arxiv.org/abs/1301.3781)\n",
        "* [BERT](https://huggingface.co/bert-base-uncased)\n",
        "\n",
        "\n",
        "In the code already provided, add your code to the place indicated by `YOUR CODE HERE`.\n",
        "\n",
        "**Important** : do NOT commit the data and embedding files in your repository git : it is a waste of resources and it takes more time to clone.\n",
        "> Use https://docs.github.com/en/get-started/getting-started-with-git/ignoring-files\n"
      ]
    },
    {
      "cell_type": "code",
      "execution_count": 2,
      "metadata": {
        "id": "UrMBNrOeOdFd"
      },
      "outputs": [],
      "source": [
        "# !pip install seaborn\n",
        "# !pip install scikit-learn"
      ]
    },
    {
      "cell_type": "code",
      "execution_count": 1,
      "metadata": {
        "id": "lUyn1DzWOdFf"
      },
      "outputs": [],
      "source": [
        "# basic imports\n",
        "import os\n",
        "import matplotlib.pyplot as plt\n",
        "# display matplotlib graphics in notebook\n",
        "%matplotlib inline\n",
        "import seaborn as sns\n",
        "\n",
        "# disable warnings for libraries\n",
        "import warnings\n",
        "warnings.filterwarnings(\"ignore\")\n",
        "\n",
        "# configure logger\n",
        "import logging\n",
        "logging.basicConfig(format='%(asctime)s %(levelname)s:%(message)s', level=logging.INFO, datefmt='%I:%M:%S')\n",
        "logger = logging.getLogger(__name__)\n"
      ]
    },
    {
      "cell_type": "markdown",
      "metadata": {
        "id": "lE4UhSsLOdFf"
      },
      "source": [
        "###  Embeddings exploration with Collobert's embeddings\n",
        "\n",
        "Upload the files containing the embeddings to `data`:\n",
        "* Collobert (size 50): [collobert_embeddings.txt.zip](https://storage.teklia.com/shared/deepnlp-labs/collobert_embeddings.txt.zip) which contains the embedding vectors and [collobert_words.lst](https://storage.teklia.com/shared/deepnlp-labs/collobert_words.lst) which contains the associated words;\n",
        "\n",
        "You need to unzip the files to load them.\n",
        "\n",
        "Feel free to open the files to see what they contain (it's sometimes surprising).\n",
        "\n",
        "#### Question:\n",
        ">* Add the files to your .gitignore\n",
        ">* Give the size in Mb of the embeddings files before unzipping.\n",
        ">* By exploring the content of the embedding files, give the number of words for which these files provide embeddings.\n",
        "\n"
      ]
    },
    {
      "cell_type": "markdown",
      "metadata": {
        "id": "TxdrHTm1OdFf"
      },
      "source": [
        "### List of closest words\n",
        "\n",
        "The aim of this exercise is to list the closest words to a given word for the Collobert embedding. First, we'll load the vectors of the Collobert embedding into a numpy array and the associated words into a python list. Then we'll use the [scipy KDTree](https://docs.scipy.org/doc/scipy/reference/generated/scipy.spatial.KDTree.html) data structure to quickly search for the vectors closest to a series of words.\n",
        "\n",
        "\n",
        "#### Question:\n",
        ">* load embedding vectors from the file `data/collobert_embeddings.txt` using the numpy function [genfromtxt](https://numpy.org/doc/stable/reference/generated/numpy.genfromtxt.html)\n",
        ">* load the words associated with the vectors from the `data/collobert_words.lst` file into a python list (using `open()` and `readlines()`)\n",
        ">* check that the sizes are correct\n"
      ]
    },
    {
      "cell_type": "code",
      "execution_count": null,
      "metadata": {
        "id": "mwVhwu3bOdFg",
        "outputId": "8c06c54d-c16f-4dc9-dabe-176baab1cf96"
      },
      "outputs": [
        {
          "name": "stdout",
          "output_type": "stream",
          "text": [
            "Nombre de mots chargés : 130000\n",
            "Dimensions des embeddings : (130000, 50)\n",
            "Les tailles sont correctes : chaque mot a un vecteur associé.\n"
          ]
        }
      ],
      "source": [
        "import numpy as np\n",
        "\n",
        "# Charger les vecteurs d'embeddings\n",
        "embedding_file = \"data/collobert_embeddings.txt\"\n",
        "embeddings = np.genfromtxt(embedding_file, delimiter=\" \")\n",
        "\n",
        "# Charger les mots associés\n",
        "words_file = \"data/collobert_words.lst\"\n",
        "with open(words_file, \"r\") as f:\n",
        "    words = f.readlines()\n",
        "\n",
        "# Nettoyer la liste des mots (supprimer les espaces et les sauts de ligne)\n",
        "words = [word.strip() for word in words]\n",
        "\n",
        "# Vérification des tailles\n",
        "print(f\"Nombre de mots chargés : {len(words)}\")\n",
        "print(f\"Dimensions des embeddings : {embeddings.shape}\")\n",
        "\n",
        "# Vérification de la cohérence des tailles\n",
        "if embeddings.shape[0] == len(words):\n",
        "    print(\"Les tailles sont correctes : chaque mot a un vecteur associé.\")\n",
        "else:\n",
        "    print(\"Problème : le nombre de mots et le nombre de vecteurs ne correspondent pas.\")\n",
        "\n"
      ]
    },
    {
      "cell_type": "markdown",
      "metadata": {
        "id": "aPN_od2gOdFg"
      },
      "source": [
        "KD trees are a very efficient data structure for storing large sets of points in a multi-dimensional space and performing very efficient nearest-neighbour searches.\n",
        "\n",
        "#### Question\n",
        "> * Initialise the [KDTree](https://docs.scipy.org/doc/scipy/reference/generated/scipy.spatial.KDTree.html) structure with Collobert's embedding vectors.\n",
        "> * Using the [tree.query](https://docs.scipy.org/doc/scipy/reference/generated/scipy.spatial.KDTree.query.html#scipy.spatial.KDTree.query) function, display the 5 nearest words for the following words: ‘mother’, ‘computer’, ‘dentist’, ‘war’, ‘president’, ‘secretary’, ‘nurse’.  *Hint: you can use the function `collobert_words.index(w)` to obtain the index of a word in the list of words*.\n",
        "> * Create a `words_plus_neighbors` list containing the words and all their neighbours (for the next question)"
      ]
    },
    {
      "cell_type": "code",
      "execution_count": null,
      "metadata": {
        "id": "HBRmXXJfOdFh",
        "outputId": "40a83fe4-0a23-4ac0-98ec-f9f5d8a6cb5b"
      },
      "outputs": [
        {
          "name": "stdout",
          "output_type": "stream",
          "text": [
            "Les 5 mots les plus proches de 'mother' sont : ['mother', 'daughter', 'wife', 'father', 'husband']\n",
            "Les 5 mots les plus proches de 'computer' sont : ['computer', 'laptop', 'multimedia', 'desktop', 'software']\n",
            "Les 5 mots les plus proches de 'dentist' sont : ['dentist', 'pharmacist', 'midwife', 'physician', 'housekeeper']\n",
            "Les 5 mots les plus proches de 'war' sont : ['war', 'revolution', 'death', 'court', 'independence']\n",
            "Les 5 mots les plus proches de 'president' sont : ['president', 'governor', 'chairman', 'mayor', 'secretary']\n",
            "Les 5 mots les plus proches de 'secretary' sont : ['secretary', 'minister', 'treasurer', 'chairman', 'commissioner']\n",
            "Les 5 mots les plus proches de 'nurse' sont : ['nurse', 'physician', 'veterinarian', 'dentist', 'surgeon']\n"
          ]
        }
      ],
      "source": [
        "from scipy import spatial\n",
        "from scipy.spatial import KDTree\n",
        "\n",
        "tree = KDTree(embeddings)\n",
        "\n",
        "# Liste des mots pour lesquels on veut trouver les voisins\n",
        "query_words = ['mother', 'computer', 'dentist', 'war', 'president', 'secretary', 'nurse']\n",
        "\n",
        "# Chercher les 5 plus proches voisins pour chaque mot\n",
        "words_plus_neighbors = []\n",
        "for word in query_words:\n",
        "    words_plus_neighbors.append(word)\n",
        "    if word in words:\n",
        "        index = words.index(word)  # Obtenir l'index du mot dans la liste\n",
        "        _, neighbor_indices = tree.query(embeddings[index], k=5)  # Trouver les 5 plus proches voisins\n",
        "        neighbors = [words[i] for i in neighbor_indices]\n",
        "        words_plus_neighbors.extend(neighbors)\n",
        "\n",
        "        print(f\"Les 5 mots les plus proches de '{word}' sont : {neighbors}\")\n",
        "    else:\n",
        "        print(f\"Le mot '{word}' n'est pas dans le dictionnaire.\")\n",
        ""
      ]
    },
    {
      "cell_type": "code",
      "execution_count": null,
      "metadata": {
        "id": "gLo3X32aOdFh"
      },
      "outputs": [],
      "source": [
        "words_plus_neighbors = np.unique(words_plus_neighbors)\n"
      ]
    },
    {
      "cell_type": "markdown",
      "metadata": {
        "id": "h_kR2k6mOdFh"
      },
      "source": [
        "### Visualisation with T-SNE\n",
        "\n",
        "Embeddings are vectors with several hundred dimensions. It is therefore not possible to display them in their original space. However, it is possible to apply dimension reduction algorithms to display them in 2 or 3 dimensions. One of the dimension reduction algorithms allowing 2D visualisation is [tSNE](https://en.wikipedia.org/wiki/T-distributed_stochastic_neighbor_embedding).\n",
        "\n",
        "#### Question\n",
        "> * Create a `word_vectors` object of type `np.array` from a list containing all the embeddings of the words in the `words_plus_neighbors` list.\n",
        "> * Create a tSNE object from the `from sklearn.manifold import TSNE` library with the parameters `random_state=0`, `n_iter=2000` and `perplexity=15.0` for a 2-dimensional view.\n",
        "> * Calculate *T* the tSNE transformation of the `word_vectors` by applying function `.fit_transform(word_vectors)` to the tSNE object. This function estimates the parameters of the tSNE transformation and returns the reduced-dimension representation of the vectors used for estimation.\n",
        "> * Use the `scatterplot` function from [seaborn](https://seaborn.pydata.org/generated/seaborn.scatterplot.html) to represent points in 2 dimensions and add word labels using the `plt.annotate` function."
      ]
    },
    {
      "cell_type": "code",
      "execution_count": null,
      "metadata": {
        "id": "_C_ynQnjOdFh",
        "outputId": "1b6752b8-32ad-4639-d109-3742a6ae9842"
      },
      "outputs": [
        {
          "data": {
            "image/png": "[encoded data removed]",
            "text/plain": [
              "<Figure size 640x480 with 1 Axes>"
            ]
          },
          "metadata": {},
          "output_type": "display_data"
        }
      ],
      "source": [
        "from sklearn.manifold import TSNE\n",
        "# graphics\n",
        "import matplotlib.pyplot as plt\n",
        "# display matplotlib graphics in notebook\n",
        "%matplotlib inline\n",
        "import seaborn as sns\n",
        "\n",
        "# retrieve the word representation\n",
        "word_vectors = np.array([embeddings[words.index(word)] for word in words_plus_neighbors if word in words])\n",
        "\n",
        "# create the tSNE transform\n",
        "tsne = TSNE(n_components=2, random_state=0, n_iter=2000, perplexity=15.0)\n",
        "\n",
        "\n",
        "# fit and transform the word vectors, store in T\n",
        "T = tsne.fit_transform(word_vectors)\n",
        "\n",
        "# plot\n",
        "fig = plt.figure()\n",
        "fig.patch.set_facecolor('#f9f9f9')\n",
        "\n",
        "sns.set(rc={'figure.figsize':(14, 8)})\n",
        "sns.set(font_scale=1)\n",
        "\n",
        "sns.scatterplot(x=T[:, 0], y=T[:, 1])\n",
        "\n",
        "for label, x, y in zip(words_plus_neighbors, T[:, 0], T[:, 1]):\n",
        "    plt.annotate(label, xy=(x+1, y+1), xytext=(0, 0), textcoords='offset points')\n",
        "\n"
      ]
    },
    {
      "cell_type": "code",
      "execution_count": null,
      "metadata": {
        "id": "wW3AVfg1OdFi",
        "outputId": "6747e686-22a0-4fa6-dff6-265d5dc245d0"
      },
      "outputs": [
        {
          "data": {
            "image/png": "[encoded data removed]",
            "text/plain": [
              "<Figure size 1000x700 with 1 Axes>"
            ]
          },
          "metadata": {},
          "output_type": "display_data"
        }
      ],
      "source": [
        "import matplotlib.pyplot as plt\n",
        "import seaborn as sns\n",
        "\n",
        "# Création du graphique\n",
        "plt.figure(figsize=(10, 7))\n",
        "sns.scatterplot(x=T[:, 0], y=T[:, 1], s=100)\n",
        "\n",
        "# Ajouter les annotations (labels des mots)\n",
        "for i, word in enumerate(words_plus_neighbors):\n",
        "    if word in words:\n",
        "        plt.annotate(word, (T[i, 0], T[i, 1]), fontsize=12, alpha=0.75)\n",
        "\n",
        "# Afficher le graphique\n",
        "plt.title(\"Visualisation des Embeddings avec t-SNE\")\n",
        "plt.xlabel(\"t-SNE Dimension 1\")\n",
        "plt.ylabel(\"t-SNE Dimension 2\")\n",
        "plt.show()\n"
      ]
    },
    {
      "cell_type": "markdown",
      "metadata": {
        "id": "JEwToqL_OdFi"
      },
      "source": [
        "### Semantic arithmetic with Word2Vec\n",
        "\n",
        "One of the most original properties of Word2Vec embeddings is that the semantic relationships between vectors can be modelled by arithmetic operations. Given vectors representing the words `king`, `man` and `woman`, it is possible to compute the vector `v` as :  \n",
        "\n",
        "`v = vector(king)-vector(man)+vector(woman)`\n",
        "\n",
        "This operation corresponds to the following semantic relationship: *The king is to the man what the queen is to the woman*, which translates into the following arithmetic: *the concept of king, minus the concept of man plus the concept of woman gives the concept of queen*.\n",
        "\n",
        "In fact, if we look in the embedding for the word whose closest vector is `v`, we find `reine`.\n",
        "\n",
        "\n",
        "We will use a Word2Vec model pre-trained on the French Wac corpus.  This model has been trained on a corpus of 1 billion French words.\n",
        "\n",
        "This embedding is available in 2 formats:\n",
        "- a text format for easy exploration of the model :\n",
        "    - frWac_non_lem_no_postag_no_phrase_200_cbow_cut100.txt](https://storage.teklia.com/shared/deepnlp-labs/frWac_non_lem_no_postag_no_phrase_200_cbow_cut100.txt)\n",
        "- a binary format that can be loaded using the Gensim library:\n",
        "    - [enWac_non_lem_no_postag_no_phrase_200_cbow_cut100.bin](https://storage.teklia.com/shared/deepnlp-labs/frWac_non_lem_no_postag_no_phrase_200_cbow_cut100.bin)\n",
        "\n",
        "Download the text file onto your machine to analyse it.\n",
        "\n",
        "#### Question:\n",
        ">* Add the file to your .gitignore\n",
        ">* Give the size in Mb of the embedding files\n",
        ">* By exploring the contents of the embedding file in text format, give the number of words for which this model provides embeddings and the size of the embedding for each word.\n",
        "\n"
      ]
    },
    {
      "cell_type": "markdown",
      "metadata": {
        "id": "2VyyqJ2XOdFi"
      },
      "source": [
        "YOUR ANSWER HERE"
      ]
    },
    {
      "cell_type": "code",
      "execution_count": 3,
      "metadata": {
        "colab": {
          "base_uri": "https://localhost:8080/"
        },
        "id": "7uH7KyU_OdFi",
        "outputId": "e7f31ab2-581f-47cf-cbaa-1ae915659e1e"
      },
      "outputs": [
        {
          "output_type": "stream",
          "name": "stdout",
          "text": [
            "--2025-02-15 20:09:12--  https://storage.teklia.com/shared/deepnlp-labs/frWac_non_lem_no_postag_no_phrase_200_cbow_cut100.txt\n",
            "Resolving storage.teklia.com (storage.teklia.com)... 167.233.8.58\n",
            "Connecting to storage.teklia.com (storage.teklia.com)|167.233.8.58|:443... connected.\n",
            "HTTP request sent, awaiting response... 200 OK\n",
            "Length: 614381407 (586M) [text/plain]\n",
            "Saving to: ‘frWac_non_lem_no_postag_no_phrase_200_cbow_cut100.txt’\n",
            "\n",
            "frWac_non_lem_no_po 100%[===================>] 585.92M  21.4MB/s    in 28s     \n",
            "\n",
            "2025-02-15 20:09:42 (20.6 MB/s) - ‘frWac_non_lem_no_postag_no_phrase_200_cbow_cut100.txt’ saved [614381407/614381407]\n",
            "\n"
          ]
        }
      ],
      "source": [
        "!wget https://storage.teklia.com/shared/deepnlp-labs/frWac_non_lem_no_postag_no_phrase_200_cbow_cut100.txt"
      ]
    },
    {
      "cell_type": "code",
      "execution_count": 4,
      "metadata": {
        "colab": {
          "base_uri": "https://localhost:8080/"
        },
        "id": "wgXzMJ0BOdFj",
        "outputId": "2a2bd8c2-c94e-4dfa-bd3b-c1e5e0da95bd"
      },
      "outputs": [
        {
          "output_type": "stream",
          "name": "stdout",
          "text": [
            "Nombre total de mots : 155562\n",
            "Taille des embeddings : 200 dimensions\n"
          ]
        }
      ],
      "source": [
        "# Charger le fichier d'embeddings\n",
        "embedding_file = \"frWac_non_lem_no_postag_no_phrase_200_cbow_cut100.txt\"\n",
        "\n",
        "# Compter le nombre de lignes du fichier pour obtenir le vocabulaire\n",
        "with open(embedding_file, \"r\", encoding=\"utf-8\") as f:\n",
        "    vocab_size = sum(1 for _ in f)  # Compter les lignes\n",
        "\n",
        "# Lire une ligne pour obtenir la dimension des embeddings\n",
        "with open(embedding_file, \"r\", encoding=\"utf-8\") as f:\n",
        "    first_vector = f.readline().strip().split()\n",
        "    embedding_dim = len(first_vector) - 1  # Soustraire 1 car la première colonne est le mot\n",
        "\n",
        "print(f\"Nombre total de mots : {vocab_size}\")\n",
        "print(f\"Taille des embeddings : {embedding_dim} dimensions\")"
      ]
    },
    {
      "cell_type": "markdown",
      "metadata": {
        "id": "6auX9WILOdFj"
      },
      "source": [
        "#### Word similarity\n",
        "\n",
        "We are now going to use the [Gensim] library (https://radimrehurek.com/gensim/) to load the Word2Vec model and use it.\n",
        "\n",
        "#### Question:\n",
        ">* Modify the following code to load the Word2Vec template file in binary format using [load_word2vec](https://radimrehurek.com/gensim/models/keyedvectors.html#how-to-obtain-word-vectors)\n",
        ">* Choose a couple of words and find the closest words according to the model using [most_similar](https://radimrehurek.com/gensim/models/keyedvectors.html#gensim.models.keyedvectors.KeyedVectors.most_similar)\n",
        ">* To guess the meaning of the words ‘yokohama’, ‘kanto’ and ‘shamisen’, look for their nearest neighbours. Explain the results.\n"
      ]
    },
    {
      "cell_type": "code",
      "source": [
        "!wget -O frWac_non_lem_no_postag_no_phrase_200_cbow_cut100.bin \\\n",
        "     https://storage.teklia.com/shared/deepnlp-labs/frWac_non_lem_no_postag_no_phrase_200_cbow_cut100.bin"
      ],
      "metadata": {
        "colab": {
          "base_uri": "https://localhost:8080/"
        },
        "id": "vW6uzKjxPWbs",
        "outputId": "c6613022-b552-4de9-9e57-056ac0da5ae5"
      },
      "execution_count": 12,
      "outputs": [
        {
          "output_type": "stream",
          "name": "stdout",
          "text": [
            "--2025-02-15 20:14:42--  https://storage.teklia.com/shared/deepnlp-labs/frWac_non_lem_no_postag_no_phrase_200_cbow_cut100.bin\n",
            "Resolving storage.teklia.com (storage.teklia.com)... 167.233.8.58\n",
            "Connecting to storage.teklia.com (storage.teklia.com)|167.233.8.58|:443... connected.\n",
            "HTTP request sent, awaiting response... 200 OK\n",
            "Length: 126052447 (120M) [application/octet-stream]\n",
            "Saving to: ‘frWac_non_lem_no_postag_no_phrase_200_cbow_cut100.bin’\n",
            "\n",
            "frWac_non_lem_no_po 100%[===================>] 120.21M  22.1MB/s    in 6.5s    \n",
            "\n",
            "2025-02-15 20:14:50 (18.5 MB/s) - ‘frWac_non_lem_no_postag_no_phrase_200_cbow_cut100.bin’ saved [126052447/126052447]\n",
            "\n"
          ]
        }
      ]
    },
    {
      "cell_type": "code",
      "execution_count": 13,
      "metadata": {
        "colab": {
          "base_uri": "https://localhost:8080/"
        },
        "id": "0CCUGZDDOdFj",
        "outputId": "5d7ee3a6-1e22-45a0-ccfc-24ea4db70139"
      },
      "outputs": [
        {
          "output_type": "execute_result",
          "data": {
            "text/plain": [
              "[('commandeur', 0.6844523549079895),\n",
              " ('chevaliers', 0.6799763441085815),\n",
              " ('écuyer', 0.6333731412887573),\n",
              " ('grand-croix', 0.621898353099823),\n",
              " ('preux', 0.6011075377464294),\n",
              " ('chevalerie', 0.5404021143913269),\n",
              " ('légion', 0.5335969924926758),\n",
              " ('honneur', 0.4953608810901642),\n",
              " ('yvain', 0.4855087101459503),\n",
              " ('insignes', 0.4742659330368042)]"
            ]
          },
          "metadata": {},
          "execution_count": 13
        }
      ],
      "source": [
        "from gensim.models import KeyedVectors\n",
        "\n",
        "## YOUR CODE HERE\n",
        "embedding_file =\"frWac_non_lem_no_postag_no_phrase_200_cbow_cut100.bin\"\n",
        "model = KeyedVectors.load_word2vec_format(embedding_file, binary=True, unicode_errors=\"ignore\")\n",
        "## YOUR CODE HERE\n",
        "model.most_similar(\"chevalier\")"
      ]
    },
    {
      "cell_type": "code",
      "source": [
        "# Choisir un mot et afficher les mots les plus proches\n",
        "word1 = \"paris\"\n",
        "word2 = \"guitar\"\n",
        "\n",
        "print(f\"Mots les plus proches de '{word1}':\")\n",
        "print(model.most_similar(word1))\n",
        "\n",
        "print(f\"\\nMots les plus proches de '{word2}':\")\n",
        "print(model.most_similar(word2))\n"
      ],
      "metadata": {
        "colab": {
          "base_uri": "https://localhost:8080/"
        },
        "id": "J8QuMyyYPMMI",
        "outputId": "64e89329-96d2-4180-b82b-79b10b9eaf7d"
      },
      "execution_count": 14,
      "outputs": [
        {
          "output_type": "stream",
          "name": "stdout",
          "text": [
            "Mots les plus proches de 'paris':\n",
            "[('m°', 0.6068983674049377), ('nanterre', 0.5781937837600708), ('montparnasse', 0.5578894019126892), ('vincennes', 0.5507999062538147), ('tolbiac', 0.5440177917480469), ('rivoli', 0.5360972285270691), ('vaugirard', 0.5338903665542603), ('sorbonne', 0.5325138568878174), ('rue', 0.5315890312194824), ('boulevard', 0.5308088660240173)]\n",
            "\n",
            "Mots les plus proches de 'guitar':\n",
            "[('guitars', 0.5342127084732056), ('keyboards', 0.48533183336257935), ('lanta', 0.4775077998638153), ('samui', 0.4588320553302765), ('abeau', 0.4432676136493683), ('lamrani', 0.41966477036476135), ('bass', 0.4108068346977234), ('lead', 0.4012373089790344), ('legends', 0.399563193321228), ('line-up', 0.3986304700374603)]\n"
          ]
        }
      ]
    },
    {
      "cell_type": "code",
      "source": [
        "words_to_explore = [\"yokohama\", \"kanto\", \"shamisen\"]\n",
        "\n",
        "for word in words_to_explore:\n",
        "    if word in model.index_to_key:\n",
        "        print(f\"\\nMots les plus proches de '{word}':\")\n",
        "        print(model.most_similar(word))\n",
        "    else:\n",
        "        print(f\"\\nLe mot '{word}' n'est pas dans le modèle.\")"
      ],
      "metadata": {
        "colab": {
          "base_uri": "https://localhost:8080/"
        },
        "id": "fLJwECsDQPTN",
        "outputId": "6e6359b3-2bcc-421e-f9e0-f06ae6f6c759"
      },
      "execution_count": 15,
      "outputs": [
        {
          "output_type": "stream",
          "name": "stdout",
          "text": [
            "\n",
            "Mots les plus proches de 'yokohama':\n",
            "[('tokyo', 0.7117858529090881), ('tôkyô', 0.6314416527748108), ('japon', 0.621522068977356), ('nagoya', 0.6198478937149048), ('kyushu', 0.6141085028648376), ('osaka', 0.6123895645141602), ('fukuoka', 0.5612888932228088), ('japonaise', 0.5507326126098633), ('sendai', 0.5496150255203247), ('japonais', 0.5391373038291931)]\n",
            "\n",
            "Mots les plus proches de 'kanto':\n",
            "[('pokémon', 0.5426285266876221), ('mewtwo', 0.5076008439064026), ('pokémons', 0.4970632791519165), ('saito', 0.4549728333950043), ('pokédex', 0.448673278093338), ('yusuke', 0.44163110852241516), ('osaka', 0.4372847080230713), ('shôgun', 0.4324425756931305), ('jin', 0.42604973912239075), ('honshu', 0.42374101281166077)]\n",
            "\n",
            "Le mot 'shamisen' n'est pas dans le modèle.\n"
          ]
        }
      ]
    },
    {
      "cell_type": "code",
      "source": [
        "#yokohama est une ville au Japon et kanto appartient a l'univers pokemon"
      ],
      "metadata": {
        "id": "tShNQc2WQXH5"
      },
      "execution_count": null,
      "outputs": []
    },
    {
      "cell_type": "markdown",
      "metadata": {
        "id": "eCFTDH6xOdFk"
      },
      "source": [
        "#### Semantic arithmetic\n",
        "\n",
        "One of the most original properties of Word2Vec embeddings is that the semantic relationships between vectors can be modelled by arithmetic operations. Given vectors representing the words `king`, `man` and `woman`, it is possible to compute the vector `v` as :  \n",
        "\n",
        "`v = vector(king)-vector(man)+vector(woman)`\n",
        "\n",
        "This operation corresponds to the following semantic relationship: *The king is to the man what the queen is to the woman*, which translates into the following arithmetic: *the concept of king, minus the concept of man plus the concept of woman gives the concept of queen*.\n",
        "\n",
        "In fact, if we look in the embedding for the word whose closest vector is `v`, we find `reine`.\n",
        "\n",
        "#### Question:\n",
        ">* using the function [most_similar](https://radimrehurek.com/gensim/models/keyedvectors.html#gensim.models.keyedvectors.KeyedVectors.most_similar) specifying the arguments `positive` for the vectors to be added and `negative` for the vectors to be subtracted, check the relationship *the concept of king, minus the concept of man plus the concept of woman gives the concept of queen*.\n",
        ">* Using the same method, find XXX in the following semantic relations\n",
        ">   * Paris is to France what XXX is to Japan.\n",
        ">   * Chevalier is to France what XXX is to Japan."
      ]
    },
    {
      "cell_type": "code",
      "execution_count": 20,
      "metadata": {
        "colab": {
          "base_uri": "https://localhost:8080/"
        },
        "id": "Mz2s3R_fOdFk",
        "outputId": "bf3b01c3-8133-430a-8833-cecd660ce9f5"
      },
      "outputs": [
        {
          "output_type": "stream",
          "name": "stdout",
          "text": [
            "Résultat de 'roi - homme + femme' :\n",
            "[('reine', 0.6945513486862183), ('duchesse', 0.6247551441192627), ('épouse', 0.6083102822303772), ('régente', 0.5878491997718811), ('duc', 0.5723880529403687), ('épousa', 0.5690740346908569), ('princesse', 0.5680873394012451), ('comtesse', 0.5670515894889832), ('isabeau', 0.5510526299476624), ('belle-mère', 0.523912250995636)]\n",
            "reine\n"
          ]
        }
      ],
      "source": [
        "## YOUR CODE HERE\n",
        "\n",
        "\n",
        "result = model.most_similar(positive=['roi', 'femme'], negative=['homme'])\n",
        "\n",
        "# Afficher le résultat\n",
        "print(\"Résultat de 'roi - homme + femme' :\")\n",
        "print(result)\n",
        "print(result[0][0])"
      ]
    },
    {
      "cell_type": "code",
      "source": [
        "result = model.most_similar(positive=['paris', 'japon'], negative=['france'])\n",
        "\n",
        "print(\"Paris is to France what\",result[0][0],\"is to Japan.\")\n",
        "\n",
        "result = model.most_similar(positive=['chevalier', 'japon'], negative=['france'])\n",
        "\n",
        "print(\"Chevalier is to France what\",result[0][0],\"is to Japan.\")\n",
        "\n"
      ],
      "metadata": {
        "colab": {
          "base_uri": "https://localhost:8080/"
        },
        "id": "gr1sQeuhQ-56",
        "outputId": "0339d51d-ac35-4be6-bc4e-0b13a908e1c0"
      },
      "execution_count": 25,
      "outputs": [
        {
          "output_type": "stream",
          "name": "stdout",
          "text": [
            "Paris is to France what tokyo is to Japan.\n",
            "Chevalier is to France what samouraï is to Japan.\n"
          ]
        }
      ]
    },
    {
      "cell_type": "markdown",
      "metadata": {
        "id": "1WyOYfEXOdFk"
      },
      "source": [
        "## Contextual embeddings with BERT\n",
        "\n",
        "BERT was one of the first freely available Transformer language models, trained on large corpora. Many other models are available on HuggingFace.\n",
        "\n",
        "As BERT is a contextual model, it is necessary to have it predict whole sentences in order to study the word embeddings it produces. In this section, we will compare the embeddings obtained for polysemous words according to the sentence in which they are used.\n",
        "\n",
        "In English, *plant* has two meanings: plant and vegetable. With a non-contextual embedding, such as Glove or Colobert, these two meanings of the word plus are associated with an identical embedding. With BERT, we'll see that the same word can have several embeddings depending on the context.\n",
        "\n",
        "First, load the BERT model and tokenizer from HuggingFace :"
      ]
    },
    {
      "cell_type": "code",
      "execution_count": 26,
      "metadata": {
        "colab": {
          "base_uri": "https://localhost:8080/",
          "height": 889,
          "referenced_widgets": [
            "d39fe79411e54263b1d8f104bdf84cca",
            "69dd2a92d1ce49af8d950874574e1faa",
            "08adb4ea395543438a33f9224cd7af28",
            "bd8db9e4344247baaa8abf34afd928c3",
            "22b65dcc5b6f4f8d83ee4eb2d032a5ad",
            "bc291c6bc2354bb1925ed6e72eedae4c",
            "397fbd52a77d45e781dc7c0b9afcfec9",
            "f540708d3118407aafbd8daf939094e9",
            "0f950933778c4f0289aa5336df8b6c09",
            "884e335a9a7d4ef5b2423b73a15c97af",
            "4c75567c9e98431586dd92c6fbaec0ce",
            "7824a52594c1477bb4edb8122d675583",
            "9f708d723d91449db65fc55b14992a1e",
            "53fe44e16bd94d199dc8f436368588fc",
            "56d5bf777614450182d471a868d37601",
            "b8e7c53bbe7c49d2b5b75d85b6efd4b3",
            "d1b53902a6f34abe882b834b5e7c8f64",
            "c0e7de876a694785aa9d8aa1187e47a8",
            "3b52c773ea3e47ff9242f40e6edc355d",
            "a43c0aeb191249e18b7c651e7b0f24dc",
            "32c6163d20c94f2fad2cefee5759c5b4",
            "ff7c5cbc35ab4eafaab31e3ebf5cc20a",
            "b95bf4ac93f34833ba251d21c18299d6",
            "b73b638fd5d24596b1a725d44c2fc7aa",
            "6b2d66048ff74ec3a8fe60402c55e4bc",
            "dab75fa226e94f7cb5c3579c59648c7f",
            "c071d2e178d14c5196339f821cd1568d",
            "244c5a9bd8c04c6faba143add9d9387d",
            "bad6ec5958654e7d8c6c2cc051959f3a",
            "8ee8689d14a24e92a206a63db797717a",
            "cdf211c544a14de495be94f7802e2f3f",
            "f056d24d7c0e46a2a13c3d8be1fa488f",
            "cc14751224cd406fbc4fc21d779863fa",
            "52a755bbbce04bdaa2a4f98957d3aa97",
            "09b585f8a69842df90a461434660cc94",
            "5a83fbcfc5ee460db3a3445fbea0f90a",
            "8f2d7ced099b484a9c50e7fc8aa1e585",
            "6da075ce0a8248b0b1accfeccdf6ca7f",
            "f2eed3456bec4c468fbf8df434719ce6",
            "21575d4344af4184be61c3ee50343501",
            "b30c1941f6604e5dad948015b3bc26b7",
            "d011ab606c9b46d2918d41f419998a4b",
            "f7fb4b55627446b1a5c5092887d3bf4c",
            "3026dbbb341d417aade0f4f8c7c8edbc",
            "b85ec9ccbf5d4253b2a1daab48c248e5",
            "c61d3727d15148ddad3ce33175dd3ff7",
            "36d1e452eaed4595aae39a6bfe414ba0",
            "ff448c89f23b4cc0affbaf16d679cd1b",
            "2527c6a941cc4f80af068667514f6e20",
            "db8d80ba9375415d95a9fc6186cb51a9",
            "90879c6cfecb4ea6bf1d790c32d48649",
            "12ae0c7121634559801d712b069f46fe",
            "1b803f446f6541368920c074cb3d34fb",
            "4417bab40ea343c8a367afdf3c5c6020",
            "c49d820d493040bc8016113cb0c236d1"
          ]
        },
        "id": "Khfuz8sHOdFk",
        "outputId": "8bf46903-155d-4ceb-a55e-3da50a3bb5a9"
      },
      "outputs": [
        {
          "output_type": "display_data",
          "data": {
            "text/plain": [
              "tokenizer_config.json:   0%|          | 0.00/48.0 [00:00<?, ?B/s]"
            ],
            "application/vnd.jupyter.widget-view+json": {
              "version_major": 2,
              "version_minor": 0,
              "model_id": "d39fe79411e54263b1d8f104bdf84cca"
            }
          },
          "metadata": {}
        },
        {
          "output_type": "display_data",
          "data": {
            "text/plain": [
              "vocab.txt:   0%|          | 0.00/232k [00:00<?, ?B/s]"
            ],
            "application/vnd.jupyter.widget-view+json": {
              "version_major": 2,
              "version_minor": 0,
              "model_id": "7824a52594c1477bb4edb8122d675583"
            }
          },
          "metadata": {}
        },
        {
          "output_type": "display_data",
          "data": {
            "text/plain": [
              "tokenizer.json:   0%|          | 0.00/466k [00:00<?, ?B/s]"
            ],
            "application/vnd.jupyter.widget-view+json": {
              "version_major": 2,
              "version_minor": 0,
              "model_id": "b95bf4ac93f34833ba251d21c18299d6"
            }
          },
          "metadata": {}
        },
        {
          "output_type": "display_data",
          "data": {
            "text/plain": [
              "config.json:   0%|          | 0.00/570 [00:00<?, ?B/s]"
            ],
            "application/vnd.jupyter.widget-view+json": {
              "version_major": 2,
              "version_minor": 0,
              "model_id": "52a755bbbce04bdaa2a4f98957d3aa97"
            }
          },
          "metadata": {}
        },
        {
          "output_type": "display_data",
          "data": {
            "text/plain": [
              "model.safetensors:   0%|          | 0.00/440M [00:00<?, ?B/s]"
            ],
            "application/vnd.jupyter.widget-view+json": {
              "version_major": 2,
              "version_minor": 0,
              "model_id": "b85ec9ccbf5d4253b2a1daab48c248e5"
            }
          },
          "metadata": {}
        },
        {
          "output_type": "execute_result",
          "data": {
            "text/plain": [
              "BertModel(\n",
              "  (embeddings): BertEmbeddings(\n",
              "    (word_embeddings): Embedding(30522, 768, padding_idx=0)\n",
              "    (position_embeddings): Embedding(512, 768)\n",
              "    (token_type_embeddings): Embedding(2, 768)\n",
              "    (LayerNorm): LayerNorm((768,), eps=1e-12, elementwise_affine=True)\n",
              "    (dropout): Dropout(p=0.1, inplace=False)\n",
              "  )\n",
              "  (encoder): BertEncoder(\n",
              "    (layer): ModuleList(\n",
              "      (0-11): 12 x BertLayer(\n",
              "        (attention): BertAttention(\n",
              "          (self): BertSdpaSelfAttention(\n",
              "            (query): Linear(in_features=768, out_features=768, bias=True)\n",
              "            (key): Linear(in_features=768, out_features=768, bias=True)\n",
              "            (value): Linear(in_features=768, out_features=768, bias=True)\n",
              "            (dropout): Dropout(p=0.1, inplace=False)\n",
              "          )\n",
              "          (output): BertSelfOutput(\n",
              "            (dense): Linear(in_features=768, out_features=768, bias=True)\n",
              "            (LayerNorm): LayerNorm((768,), eps=1e-12, elementwise_affine=True)\n",
              "            (dropout): Dropout(p=0.1, inplace=False)\n",
              "          )\n",
              "        )\n",
              "        (intermediate): BertIntermediate(\n",
              "          (dense): Linear(in_features=768, out_features=3072, bias=True)\n",
              "          (intermediate_act_fn): GELUActivation()\n",
              "        )\n",
              "        (output): BertOutput(\n",
              "          (dense): Linear(in_features=3072, out_features=768, bias=True)\n",
              "          (LayerNorm): LayerNorm((768,), eps=1e-12, elementwise_affine=True)\n",
              "          (dropout): Dropout(p=0.1, inplace=False)\n",
              "        )\n",
              "      )\n",
              "    )\n",
              "  )\n",
              "  (pooler): BertPooler(\n",
              "    (dense): Linear(in_features=768, out_features=768, bias=True)\n",
              "    (activation): Tanh()\n",
              "  )\n",
              ")"
            ]
          },
          "metadata": {},
          "execution_count": 26
        }
      ],
      "source": [
        "import torch\n",
        "from transformers import BertTokenizer, BertModel\n",
        "tokenizer = BertTokenizer.from_pretrained('bert-base-uncased')\n",
        "# Load pre-trained model\n",
        "model = BertModel.from_pretrained('bert-base-uncased',\n",
        "                                  output_hidden_states = True, # to access the hidden states\n",
        "                                  )\n",
        "# set the model to \"evaluation\" mode\n",
        "model.eval()"
      ]
    },
    {
      "cell_type": "markdown",
      "metadata": {
        "id": "d6cY5CazOdFk"
      },
      "source": [
        "### Tokenizer\n",
        "\n",
        "Language models are trained with a specific breakdown of sentences into tokens. These tokens can be words or parts of words. It is necessary to use the tokenizer corresponding to each model.\n",
        "\n",
        "tokenizer.vocab.keys() gives the list of all the tokens known for the language model.\n",
        "\n",
        "#### Question\n",
        ">* How many different tokens are known to the BERT tokenizer?\n",
        ">* Display a hundred tokens at random. What do you find?"
      ]
    },
    {
      "cell_type": "code",
      "execution_count": 28,
      "metadata": {
        "colab": {
          "base_uri": "https://localhost:8080/"
        },
        "id": "NKbZO-CqOdFk",
        "outputId": "4ab56164-a648-4a3b-d40c-bc96937285ab"
      },
      "outputs": [
        {
          "output_type": "stream",
          "name": "stdout",
          "text": [
            "Nombre total de tokens dans le vocabulaire BERT : 30522\n",
            "Exemple de 100 tokens du vocabulaire BERT :\n",
            "['fixture', '[unused991]', 'mumbai', 'ˢ', 'yankee', '##郡', 'mcmahon', 'extracted', 'spaniards', '##vial', 'allowing', '##jack', 'inspections', 'helicopters', 'mountain', 'unclear', 'pierce', 'mythological', 'integration', 'noodles', '[unused924]', 'parasitic', 'raul', 'honours', 'wikipedia', 'brook', 'determining', 'cecilia', 'governmental', '1979', 'sedimentary', 'wins', 'licking', '##ח', 'rookie', 'fools', 'femme', 'mushroom', '##for', 'crabs', 'striker', 'prosecution', 'syn', 'sacrament', '[unused415]', 'bites', '00pm', 'reasonable', '##a', 'ignored', 'bookstore', 'informant', 'lasts', 'xinjiang', 'mounds', 'mart', 'viz', 'ₖ', '##rose', 'shortage', '##⁹', 'cool', 'bland', 'subsidy', 'tor', '##ction', 'denotes', 'wc', 'unaware', 'antiquity', 'za', 'gloss', 'squire', '##amina', 'webber', 'cesar', 'unitarian', 'collaborations', 'beatty', 'ɛ', 'elastic', '1825', 'witchcraft', '##kiewicz', 'reality', 'administrations', 'editing', 'tighter', '##：', 'hosting', 'archbishop', 'hovered', 'raining', '##pe', '##ffs', 'agitation', 'compilations', '##lastic', '##ading', 'dominion']\n"
          ]
        }
      ],
      "source": [
        "import random\n",
        "# number of token in tokenizer\n",
        "# Nombre total de tokens dans le vocabulaire de BERT\n",
        "vocab_size = len(tokenizer.vocab)\n",
        "print(f\"Nombre total de tokens dans le vocabulaire BERT : {vocab_size}\")\n",
        "\n",
        "# sample of 100 tokens\n",
        "\n",
        "vocab_tokens = list(tokenizer.vocab.keys())\n",
        "\n",
        "# Sélectionner 100 tokens aléatoires\n",
        "random_tokens = random.sample(vocab_tokens, 100)\n",
        "\n",
        "# Afficher les tokens sélectionnés\n",
        "print(\"Exemple de 100 tokens du vocabulaire BERT :\")\n",
        "print(random_tokens)\n",
        "\n"
      ]
    },
    {
      "cell_type": "markdown",
      "metadata": {
        "id": "uhv2vL1uOdFl"
      },
      "source": [
        "The tokenizer splits sentences and transforms the elements (words or sub-words) into clues.\n",
        "\n",
        "BERT can process several sentences, but you need to tell it how the sentences (segments) have been split, with an index: 0 for the first sentence, 1 for the second.\n",
        "\n",
        "Two specific tokens must also be added:\n",
        "* CLS], a specific token used for sentence classification\n",
        "* SEP], the end of sentence token.\n",
        "\n",
        "#### Question\n",
        ">* Apply the bert_tokenize function to the 3 phases and keep the 3 vectors (index, token, segment).\n",
        ">* Display this information for each of the sentences and check that the word *plant* has the same token index in the two sentences in which it appears."
      ]
    },
    {
      "cell_type": "code",
      "execution_count": 29,
      "metadata": {
        "colab": {
          "base_uri": "https://localhost:8080/"
        },
        "id": "CQYah4HiOdFl",
        "outputId": "ecaf5101-aae8-4ecb-d53f-2414b9162d0c"
      },
      "outputs": [
        {
          "output_type": "stream",
          "name": "stdout",
          "text": [
            "\n",
            "Phrase 1:\n",
            "Tokens: ['[CLS]', 'the', 'plant', 'has', 'reached', 'its', 'maximal', 'level', 'of', 'production', '.', '[SEP]']\n",
            "Indices: [101, 1996, 3269, 2038, 2584, 2049, 29160, 2504, 1997, 2537, 1012, 102]\n",
            "Segments: [1, 1, 1, 1, 1, 1, 1, 1, 1, 1, 1, 1]\n",
            "\n",
            "Phrase 2:\n",
            "Tokens: ['[CLS]', 'the', 'cars', 'are', 'assembled', 'inside', 'the', 'factory', '.', '[SEP]']\n",
            "Indices: [101, 1996, 3765, 2024, 9240, 2503, 1996, 4713, 1012, 102]\n",
            "Segments: [1, 1, 1, 1, 1, 1, 1, 1, 1, 1]\n",
            "\n",
            "Phrase 3:\n",
            "Tokens: ['[CLS]', 'a', 'plant', 'needs', 'sunlight', 'and', 'water', 'to', 'grow', 'well', '.', '[SEP]']\n",
            "Indices: [101, 1037, 3269, 3791, 9325, 1998, 2300, 2000, 4982, 2092, 1012, 102]\n",
            "Segments: [1, 1, 1, 1, 1, 1, 1, 1, 1, 1, 1, 1]\n"
          ]
        }
      ],
      "source": [
        "snt1 = \"The plant has reached its maximal level of production.\"\n",
        "snt2 = \"The cars are assembled inside the factory.\"\n",
        "snt3 = \"A plant needs sunlight and water to grow well.\"\n",
        "\n",
        "\n",
        "def bert_tokenize(snt):\n",
        "    \"\"\" Apply the BERT tokenizer to a list of words representing a sentence\n",
        "        and return 3 lists:\n",
        "        - list of token indx\n",
        "        - list of token for debugging, not used by the BERT model\n",
        "        - list of sentence index\n",
        "        \"\"\"\n",
        "    # Add the special tokens.\n",
        "    tagged_snt = \"[CLS] \" + snt + \" [SEP]\"\n",
        "    # Tokenize\n",
        "    tokenized_snt = tokenizer.tokenize(tagged_snt)\n",
        "    # convert tokens to indices\n",
        "    indexed_snt = tokenizer.convert_tokens_to_ids(tokenized_snt)\n",
        "    # mark the words in sentence.\n",
        "    segments_ids = [1] * len(tokenized_snt)\n",
        "\n",
        "    return (indexed_snt, tokenized_snt, segments_ids)\n",
        "\n",
        "# Tokenisation des phrases\n",
        "tokens_snt1 = bert_tokenize(snt1)\n",
        "tokens_snt2 = bert_tokenize(snt2)\n",
        "tokens_snt3 = bert_tokenize(snt3)\n",
        "\n",
        "# Afficher les résultats\n",
        "for i, (index, tokens, segments) in enumerate([tokens_snt1, tokens_snt2, tokens_snt3]):\n",
        "    print(f\"\\nPhrase {i+1}:\")\n",
        "    print(\"Tokens:\", tokens)\n",
        "    print(\"Indices:\", index)\n",
        "    print(\"Segments:\", segments)\n",
        "\n"
      ]
    },
    {
      "cell_type": "code",
      "source": [
        "# Récupérer l'index du token \"plant\" dans chaque phrase\n",
        "plant_index_1 = tokens_snt1[1].index(\"plant\") if \"plant\" in tokens_snt1[1] else None\n",
        "plant_index_3 = tokens_snt3[1].index(\"plant\") if \"plant\" in tokens_snt3[1] else None\n",
        "\n",
        "print(f\"\\nIndex du token 'plant' dans la phrase 1 : {plant_index_1}\")\n",
        "print(f\"Index du token 'plant' dans la phrase 3 : {plant_index_3}\")\n",
        "\n",
        "# Vérifier si les indices sont identiques\n",
        "if plant_index_1 == plant_index_3:\n",
        "    print(\"\\nLe mot 'plant' a le même index dans les deux phrases.\")\n",
        "else:\n",
        "    print(\"\\nLe mot 'plant' a des indices différents dans les phrases.\")\n"
      ],
      "metadata": {
        "colab": {
          "base_uri": "https://localhost:8080/"
        },
        "id": "EhpPxUTmSo25",
        "outputId": "d2dd3ace-dcb6-428f-8866-a663dfed53d3"
      },
      "execution_count": 30,
      "outputs": [
        {
          "output_type": "stream",
          "name": "stdout",
          "text": [
            "\n",
            "Index du token 'plant' dans la phrase 1 : 2\n",
            "Index du token 'plant' dans la phrase 3 : 2\n",
            "\n",
            "Le mot 'plant' a le même index dans les deux phrases.\n"
          ]
        }
      ]
    },
    {
      "cell_type": "markdown",
      "metadata": {
        "id": "espQiZUWOdFl"
      },
      "source": [
        "## Inference\n",
        "\n",
        "To calculate embeddings, we need to make a prediction using the BERT model on a complete sentence. The *predict_hidden* function converts the token and segment index lists into a pytorch tensor and applies the model.\n",
        "\n",
        "The model used is a 12-layer model. We will use the last hidden layer of the model as an embedding to represent the words. Other solutions are possible, such as concatenation or averaging of several layers.\n",
        "\n",
        "\n",
        "#### Question\n",
        ">* Apply the model to each of the 3 sentences and store the resulting embeddings (tensors).\n",
        ">* Display the dimension of the resulting tensors. What is the dimension of the embedding vector for each word?"
      ]
    },
    {
      "cell_type": "code",
      "execution_count": 36,
      "metadata": {
        "id": "mHi_-naAOdFl"
      },
      "outputs": [],
      "source": [
        "\n",
        "def predict_hidden(indexed_snt, segments_ids):\n",
        "    \"\"\"Apply the BERT model to the input token indices and segment indices\n",
        "        and return the last hidden layer\n",
        "    \"\"\"\n",
        "    with torch.no_grad():\n",
        "        # Convert inputs to PyTorch tensors\n",
        "        tokens_tensor = torch.tensor([indexed_snt])\n",
        "        segments_tensors = torch.tensor([segments_ids])\n",
        "        outputs = model(tokens_tensor, segments_tensors)\n",
        "        hidden_states = outputs[2]\n",
        "        one_hidden_layer = hidden_states[12][0]\n",
        "\n",
        "    return one_hidden_layer\n",
        "\n"
      ]
    },
    {
      "cell_type": "code",
      "source": [
        "# Appliquer BERT et récupérer les embeddings avec les bonnes valeurs\n",
        "embedding_snt1 = predict_hidden(tokens_snt1[0], tokens_snt1[2])\n",
        "embedding_snt2 = predict_hidden(tokens_snt2[0], tokens_snt2[2])\n",
        "embedding_snt3 = predict_hidden(tokens_snt3[0], tokens_snt3[2])\n",
        "\n",
        "# Vérifier les dimensions des embeddings\n",
        "for i, emb in enumerate([embedding_snt1, embedding_snt2, embedding_snt3]):\n",
        "    print(f\"Phrase {i+1}: Dimensions = {emb.shape}\")"
      ],
      "metadata": {
        "colab": {
          "base_uri": "https://localhost:8080/"
        },
        "id": "of1eEtf4T4dy",
        "outputId": "61d83244-4bc7-4d8e-b663-c1fce786906a"
      },
      "execution_count": 37,
      "outputs": [
        {
          "output_type": "stream",
          "name": "stdout",
          "text": [
            "Phrase 1: Dimensions = torch.Size([12, 768])\n",
            "Phrase 2: Dimensions = torch.Size([10, 768])\n",
            "Phrase 3: Dimensions = torch.Size([12, 768])\n"
          ]
        }
      ]
    },
    {
      "cell_type": "code",
      "source": [
        "#Chaque token est représenté par un vecteur de 768 dimensions\n",
        "#Le nombre total de vecteurs dépend du nombre de tokens générés par le tokenizer.\n",
        "\n"
      ],
      "metadata": {
        "id": "10dEl_8zUSKH"
      },
      "execution_count": 40,
      "outputs": []
    },
    {
      "cell_type": "markdown",
      "metadata": {
        "id": "F1v3DSFrOdFl"
      },
      "source": [
        "The hidden layer returned by the *predict_hidden* function is a tensor containing a context vector representing each token in the input sentence. We can use this vector to represent the meaning of this word as a function of its context. We're going to compare the representation of the polysemous word *plant* as a function of its context.\n",
        "\n",
        "#### Question\n",
        ">* Using the [cosine distance](https://docs.scipy.org/doc/scipy/reference/generated/scipy.spatial.distance.cosine.html), calculate the following distances:\n",
        "> * distance between *plant* in sentence 1 (plant-factory) and *plant* in sentence 3 (plant-vegetal)\n",
        "> * distance between *plant* in sentence 1 (plant-factory) and *factory* in sentence 2 (plant-vegetal)\n",
        "> * distance between *plant* in sentence 1 (plant-factory) and *production* in sentence 2\n",
        "> * distance between *plant* in sentence 3 (plant-vegetal) and *production* in sentence 2\n",
        "> How can we interpret these distances?"
      ]
    },
    {
      "cell_type": "code",
      "execution_count": 45,
      "metadata": {
        "id": "jnC0-5h7OdFl"
      },
      "outputs": [],
      "source": [
        "from scipy.spatial.distance import cosine\n",
        "\n",
        "# YOUR CODE HERE\n",
        "# Récupérer les indices des mots dans chaque phrase\n",
        "index_plant_snt1 = tokens_snt1[1].index(\"plant\")  # \"plant\" dans phrase 1\n",
        "index_plant_snt3 = tokens_snt3[1].index(\"plant\")  # \"plant\" dans phrase 3\n",
        "index_factory_snt2 = tokens_snt2[1].index(\"factory\")  # \"factory\" dans phrase 2\n",
        "index_production_snt1 = tokens_snt1[1].index(\"production\")  # \"production\" dans phrase 1\n",
        "#index_production_snt2 = tokens_snt2[1].index(\"production\")  # \"production\" dans phrase 2\n",
        "\n"
      ]
    },
    {
      "cell_type": "code",
      "source": [
        "# Extraire les vecteurs de la dernière couche cachée\n",
        "vec_plant_snt1 = embedding_snt1[index_plant_snt1].numpy()\n",
        "vec_plant_snt3 = embedding_snt3[index_plant_snt3].numpy()\n",
        "vec_factory_snt2 = embedding_snt2[index_factory_snt2].numpy()\n",
        "vec_production_snt1 = embedding_snt1[index_production_snt1].numpy()\n",
        "#vec_production_snt2 = embedding_snt2[index_production_snt2].numpy()\n"
      ],
      "metadata": {
        "id": "YVO9kiYCU5BN"
      },
      "execution_count": 46,
      "outputs": []
    },
    {
      "cell_type": "code",
      "source": [
        "# Calculer les distances cosinus\n",
        "dist_plant1_plant3 = cosine(vec_plant_snt1, vec_plant_snt3)\n",
        "dist_plant1_factory2 = cosine(vec_plant_snt1, vec_factory_snt2)\n",
        "dist_plant1_production1 = cosine(vec_plant_snt1, vec_production_snt1)\n",
        "dist_plant3_production1 = cosine(vec_plant_snt3, vec_production_snt1)\n",
        "\n",
        "# Afficher les résultats\n",
        "print(f\"Distance cosinus entre 'plant' (usine) et 'plant' (végétal) : {dist_plant1_plant3:.4f}\")\n",
        "print(f\"Distance cosinus entre 'plant' (usine) et 'factory' : {dist_plant1_factory2:.4f}\")\n",
        "print(f\"Distance cosinus entre 'plant' (usine) et 'production' : {dist_plant1_production1:.4f}\")\n",
        "print(f\"Distance cosinus entre 'plant' (végétal) et 'production' : {dist_plant3_production1:.4f}\")\n"
      ],
      "metadata": {
        "colab": {
          "base_uri": "https://localhost:8080/"
        },
        "id": "xnRRb80tU7N2",
        "outputId": "7bddb4ed-4d4c-4eb3-9d47-144814989632"
      },
      "execution_count": 48,
      "outputs": [
        {
          "output_type": "stream",
          "name": "stdout",
          "text": [
            "Distance cosinus entre 'plant' (usine) et 'plant' (végétal) : 0.4987\n",
            "Distance cosinus entre 'plant' (usine) et 'factory' : 0.3123\n",
            "Distance cosinus entre 'plant' (usine) et 'production' : 0.2402\n",
            "Distance cosinus entre 'plant' (végétal) et 'production' : 0.6200\n"
          ]
        }
      ]
    },
    {
      "cell_type": "code",
      "source": [],
      "metadata": {
        "id": "ZhBWgmUNVnF0"
      },
      "execution_count": null,
      "outputs": []
    }
  ],
  "metadata": {
    "kernelspec": {
      "display_name": "Python 3 (ipykernel)",
      "language": "python",
      "name": "python3"
    },
    "language_info": {
      "codemirror_mode": {
        "name": "ipython",
        "version": 3
      },
      "file_extension": ".py",
      "mimetype": "text/x-python",
      "name": "python",
      "nbconvert_exporter": "python",
      "pygments_lexer": "ipython3",
      "version": "3.12.7"
    },
    "colab": {
      "provenance": []
    },
    "widgets": {
      "application/vnd.jupyter.widget-state+json": {
        "d39fe79411e54263b1d8f104bdf84cca": {
          "model_module": "@jupyter-widgets/controls",
          "model_name": "HBoxModel",
          "model_module_version": "1.5.0",
          "state": {
            "_dom_classes": [],
            "_model_module": "@jupyter-widgets/controls",
            "_model_module_version": "1.5.0",
            "_model_name": "HBoxModel",
            "_view_count": null,
            "_view_module": "@jupyter-widgets/controls",
            "_view_module_version": "1.5.0",
            "_view_name": "HBoxView",
            "box_style": "",
            "children": [
              "IPY_MODEL_69dd2a92d1ce49af8d950874574e1faa",
              "IPY_MODEL_08adb4ea395543438a33f9224cd7af28",
              "IPY_MODEL_bd8db9e4344247baaa8abf34afd928c3"
            ],
            "layout": "IPY_MODEL_22b65dcc5b6f4f8d83ee4eb2d032a5ad"
          }
        },
        "69dd2a92d1ce49af8d950874574e1faa": {
          "model_module": "@jupyter-widgets/controls",
          "model_name": "HTMLModel",
          "model_module_version": "1.5.0",
          "state": {
            "_dom_classes": [],
            "_model_module": "@jupyter-widgets/controls",
            "_model_module_version": "1.5.0",
            "_model_name": "HTMLModel",
            "_view_count": null,
            "_view_module": "@jupyter-widgets/controls",
            "_view_module_version": "1.5.0",
            "_view_name": "HTMLView",
            "description": "",
            "description_tooltip": null,
            "layout": "IPY_MODEL_bc291c6bc2354bb1925ed6e72eedae4c",
            "placeholder": "​",
            "style": "IPY_MODEL_397fbd52a77d45e781dc7c0b9afcfec9",
            "value": "tokenizer_config.json: 100%"
          }
        },
        "08adb4ea395543438a33f9224cd7af28": {
          "model_module": "@jupyter-widgets/controls",
          "model_name": "FloatProgressModel",
          "model_module_version": "1.5.0",
          "state": {
            "_dom_classes": [],
            "_model_module": "@jupyter-widgets/controls",
            "_model_module_version": "1.5.0",
            "_model_name": "FloatProgressModel",
            "_view_count": null,
            "_view_module": "@jupyter-widgets/controls",
            "_view_module_version": "1.5.0",
            "_view_name": "ProgressView",
            "bar_style": "success",
            "description": "",
            "description_tooltip": null,
            "layout": "IPY_MODEL_f540708d3118407aafbd8daf939094e9",
            "max": 48,
            "min": 0,
            "orientation": "horizontal",
            "style": "IPY_MODEL_0f950933778c4f0289aa5336df8b6c09",
            "value": 48
          }
        },
        "bd8db9e4344247baaa8abf34afd928c3": {
          "model_module": "@jupyter-widgets/controls",
          "model_name": "HTMLModel",
          "model_module_version": "1.5.0",
          "state": {
            "_dom_classes": [],
            "_model_module": "@jupyter-widgets/controls",
            "_model_module_version": "1.5.0",
            "_model_name": "HTMLModel",
            "_view_count": null,
            "_view_module": "@jupyter-widgets/controls",
            "_view_module_version": "1.5.0",
            "_view_name": "HTMLView",
            "description": "",
            "description_tooltip": null,
            "layout": "IPY_MODEL_884e335a9a7d4ef5b2423b73a15c97af",
            "placeholder": "​",
            "style": "IPY_MODEL_4c75567c9e98431586dd92c6fbaec0ce",
            "value": " 48.0/48.0 [00:00&lt;00:00, 3.30kB/s]"
          }
        },
        "22b65dcc5b6f4f8d83ee4eb2d032a5ad": {
          "model_module": "@jupyter-widgets/base",
          "model_name": "LayoutModel",
          "model_module_version": "1.2.0",
          "state": {
            "_model_module": "@jupyter-widgets/base",
            "_model_module_version": "1.2.0",
            "_model_name": "LayoutModel",
            "_view_count": null,
            "_view_module": "@jupyter-widgets/base",
            "_view_module_version": "1.2.0",
            "_view_name": "LayoutView",
            "align_content": null,
            "align_items": null,
            "align_self": null,
            "border": null,
            "bottom": null,
            "display": null,
            "flex": null,
            "flex_flow": null,
            "grid_area": null,
            "grid_auto_columns": null,
            "grid_auto_flow": null,
            "grid_auto_rows": null,
            "grid_column": null,
            "grid_gap": null,
            "grid_row": null,
            "grid_template_areas": null,
            "grid_template_columns": null,
            "grid_template_rows": null,
            "height": null,
            "justify_content": null,
            "justify_items": null,
            "left": null,
            "margin": null,
            "max_height": null,
            "max_width": null,
            "min_height": null,
            "min_width": null,
            "object_fit": null,
            "object_position": null,
            "order": null,
            "overflow": null,
            "overflow_x": null,
            "overflow_y": null,
            "padding": null,
            "right": null,
            "top": null,
            "visibility": null,
            "width": null
          }
        },
        "bc291c6bc2354bb1925ed6e72eedae4c": {
          "model_module": "@jupyter-widgets/base",
          "model_name": "LayoutModel",
          "model_module_version": "1.2.0",
          "state": {
            "_model_module": "@jupyter-widgets/base",
            "_model_module_version": "1.2.0",
            "_model_name": "LayoutModel",
            "_view_count": null,
            "_view_module": "@jupyter-widgets/base",
            "_view_module_version": "1.2.0",
            "_view_name": "LayoutView",
            "align_content": null,
            "align_items": null,
            "align_self": null,
            "border": null,
            "bottom": null,
            "display": null,
            "flex": null,
            "flex_flow": null,
            "grid_area": null,
            "grid_auto_columns": null,
            "grid_auto_flow": null,
            "grid_auto_rows": null,
            "grid_column": null,
            "grid_gap": null,
            "grid_row": null,
            "grid_template_areas": null,
            "grid_template_columns": null,
            "grid_template_rows": null,
            "height": null,
            "justify_content": null,
            "justify_items": null,
            "left": null,
            "margin": null,
            "max_height": null,
            "max_width": null,
            "min_height": null,
            "min_width": null,
            "object_fit": null,
            "object_position": null,
            "order": null,
            "overflow": null,
            "overflow_x": null,
            "overflow_y": null,
            "padding": null,
            "right": null,
            "top": null,
            "visibility": null,
            "width": null
          }
        },
        "397fbd52a77d45e781dc7c0b9afcfec9": {
          "model_module": "@jupyter-widgets/controls",
          "model_name": "DescriptionStyleModel",
          "model_module_version": "1.5.0",
          "state": {
            "_model_module": "@jupyter-widgets/controls",
            "_model_module_version": "1.5.0",
            "_model_name": "DescriptionStyleModel",
            "_view_count": null,
            "_view_module": "@jupyter-widgets/base",
            "_view_module_version": "1.2.0",
            "_view_name": "StyleView",
            "description_width": ""
          }
        },
        "f540708d3118407aafbd8daf939094e9": {
          "model_module": "@jupyter-widgets/base",
          "model_name": "LayoutModel",
          "model_module_version": "1.2.0",
          "state": {
            "_model_module": "@jupyter-widgets/base",
            "_model_module_version": "1.2.0",
            "_model_name": "LayoutModel",
            "_view_count": null,
            "_view_module": "@jupyter-widgets/base",
            "_view_module_version": "1.2.0",
            "_view_name": "LayoutView",
            "align_content": null,
            "align_items": null,
            "align_self": null,
            "border": null,
            "bottom": null,
            "display": null,
            "flex": null,
            "flex_flow": null,
            "grid_area": null,
            "grid_auto_columns": null,
            "grid_auto_flow": null,
            "grid_auto_rows": null,
            "grid_column": null,
            "grid_gap": null,
            "grid_row": null,
            "grid_template_areas": null,
            "grid_template_columns": null,
            "grid_template_rows": null,
            "height": null,
            "justify_content": null,
            "justify_items": null,
            "left": null,
            "margin": null,
            "max_height": null,
            "max_width": null,
            "min_height": null,
            "min_width": null,
            "object_fit": null,
            "object_position": null,
            "order": null,
            "overflow": null,
            "overflow_x": null,
            "overflow_y": null,
            "padding": null,
            "right": null,
            "top": null,
            "visibility": null,
            "width": null
          }
        },
        "0f950933778c4f0289aa5336df8b6c09": {
          "model_module": "@jupyter-widgets/controls",
          "model_name": "ProgressStyleModel",
          "model_module_version": "1.5.0",
          "state": {
            "_model_module": "@jupyter-widgets/controls",
            "_model_module_version": "1.5.0",
            "_model_name": "ProgressStyleModel",
            "_view_count": null,
            "_view_module": "@jupyter-widgets/base",
            "_view_module_version": "1.2.0",
            "_view_name": "StyleView",
            "bar_color": null,
            "description_width": ""
          }
        },
        "884e335a9a7d4ef5b2423b73a15c97af": {
          "model_module": "@jupyter-widgets/base",
          "model_name": "LayoutModel",
          "model_module_version": "1.2.0",
          "state": {
            "_model_module": "@jupyter-widgets/base",
            "_model_module_version": "1.2.0",
            "_model_name": "LayoutModel",
            "_view_count": null,
            "_view_module": "@jupyter-widgets/base",
            "_view_module_version": "1.2.0",
            "_view_name": "LayoutView",
            "align_content": null,
            "align_items": null,
            "align_self": null,
            "border": null,
            "bottom": null,
            "display": null,
            "flex": null,
            "flex_flow": null,
            "grid_area": null,
            "grid_auto_columns": null,
            "grid_auto_flow": null,
            "grid_auto_rows": null,
            "grid_column": null,
            "grid_gap": null,
            "grid_row": null,
            "grid_template_areas": null,
            "grid_template_columns": null,
            "grid_template_rows": null,
            "height": null,
            "justify_content": null,
            "justify_items": null,
            "left": null,
            "margin": null,
            "max_height": null,
            "max_width": null,
            "min_height": null,
            "min_width": null,
            "object_fit": null,
            "object_position": null,
            "order": null,
            "overflow": null,
            "overflow_x": null,
            "overflow_y": null,
            "padding": null,
            "right": null,
            "top": null,
            "visibility": null,
            "width": null
          }
        },
        "4c75567c9e98431586dd92c6fbaec0ce": {
          "model_module": "@jupyter-widgets/controls",
          "model_name": "DescriptionStyleModel",
          "model_module_version": "1.5.0",
          "state": {
            "_model_module": "@jupyter-widgets/controls",
            "_model_module_version": "1.5.0",
            "_model_name": "DescriptionStyleModel",
            "_view_count": null,
            "_view_module": "@jupyter-widgets/base",
            "_view_module_version": "1.2.0",
            "_view_name": "StyleView",
            "description_width": ""
          }
        },
        "7824a52594c1477bb4edb8122d675583": {
          "model_module": "@jupyter-widgets/controls",
          "model_name": "HBoxModel",
          "model_module_version": "1.5.0",
          "state": {
            "_dom_classes": [],
            "_model_module": "@jupyter-widgets/controls",
            "_model_module_version": "1.5.0",
            "_model_name": "HBoxModel",
            "_view_count": null,
            "_view_module": "@jupyter-widgets/controls",
            "_view_module_version": "1.5.0",
            "_view_name": "HBoxView",
            "box_style": "",
            "children": [
              "IPY_MODEL_9f708d723d91449db65fc55b14992a1e",
              "IPY_MODEL_53fe44e16bd94d199dc8f436368588fc",
              "IPY_MODEL_56d5bf777614450182d471a868d37601"
            ],
            "layout": "IPY_MODEL_b8e7c53bbe7c49d2b5b75d85b6efd4b3"
          }
        },
        "9f708d723d91449db65fc55b14992a1e": {
          "model_module": "@jupyter-widgets/controls",
          "model_name": "HTMLModel",
          "model_module_version": "1.5.0",
          "state": {
            "_dom_classes": [],
            "_model_module": "@jupyter-widgets/controls",
            "_model_module_version": "1.5.0",
            "_model_name": "HTMLModel",
            "_view_count": null,
            "_view_module": "@jupyter-widgets/controls",
            "_view_module_version": "1.5.0",
            "_view_name": "HTMLView",
            "description": "",
            "description_tooltip": null,
            "layout": "IPY_MODEL_d1b53902a6f34abe882b834b5e7c8f64",
            "placeholder": "​",
            "style": "IPY_MODEL_c0e7de876a694785aa9d8aa1187e47a8",
            "value": "vocab.txt: 100%"
          }
        },
        "53fe44e16bd94d199dc8f436368588fc": {
          "model_module": "@jupyter-widgets/controls",
          "model_name": "FloatProgressModel",
          "model_module_version": "1.5.0",
          "state": {
            "_dom_classes": [],
            "_model_module": "@jupyter-widgets/controls",
            "_model_module_version": "1.5.0",
            "_model_name": "FloatProgressModel",
            "_view_count": null,
            "_view_module": "@jupyter-widgets/controls",
            "_view_module_version": "1.5.0",
            "_view_name": "ProgressView",
            "bar_style": "success",
            "description": "",
            "description_tooltip": null,
            "layout": "IPY_MODEL_3b52c773ea3e47ff9242f40e6edc355d",
            "max": 231508,
            "min": 0,
            "orientation": "horizontal",
            "style": "IPY_MODEL_a43c0aeb191249e18b7c651e7b0f24dc",
            "value": 231508
          }
        },
        "56d5bf777614450182d471a868d37601": {
          "model_module": "@jupyter-widgets/controls",
          "model_name": "HTMLModel",
          "model_module_version": "1.5.0",
          "state": {
            "_dom_classes": [],
            "_model_module": "@jupyter-widgets/controls",
            "_model_module_version": "1.5.0",
            "_model_name": "HTMLModel",
            "_view_count": null,
            "_view_module": "@jupyter-widgets/controls",
            "_view_module_version": "1.5.0",
            "_view_name": "HTMLView",
            "description": "",
            "description_tooltip": null,
            "layout": "IPY_MODEL_32c6163d20c94f2fad2cefee5759c5b4",
            "placeholder": "​",
            "style": "IPY_MODEL_ff7c5cbc35ab4eafaab31e3ebf5cc20a",
            "value": " 232k/232k [00:00&lt;00:00, 4.97MB/s]"
          }
        },
        "b8e7c53bbe7c49d2b5b75d85b6efd4b3": {
          "model_module": "@jupyter-widgets/base",
          "model_name": "LayoutModel",
          "model_module_version": "1.2.0",
          "state": {
            "_model_module": "@jupyter-widgets/base",
            "_model_module_version": "1.2.0",
            "_model_name": "LayoutModel",
            "_view_count": null,
            "_view_module": "@jupyter-widgets/base",
            "_view_module_version": "1.2.0",
            "_view_name": "LayoutView",
            "align_content": null,
            "align_items": null,
            "align_self": null,
            "border": null,
            "bottom": null,
            "display": null,
            "flex": null,
            "flex_flow": null,
            "grid_area": null,
            "grid_auto_columns": null,
            "grid_auto_flow": null,
            "grid_auto_rows": null,
            "grid_column": null,
            "grid_gap": null,
            "grid_row": null,
            "grid_template_areas": null,
            "grid_template_columns": null,
            "grid_template_rows": null,
            "height": null,
            "justify_content": null,
            "justify_items": null,
            "left": null,
            "margin": null,
            "max_height": null,
            "max_width": null,
            "min_height": null,
            "min_width": null,
            "object_fit": null,
            "object_position": null,
            "order": null,
            "overflow": null,
            "overflow_x": null,
            "overflow_y": null,
            "padding": null,
            "right": null,
            "top": null,
            "visibility": null,
            "width": null
          }
        },
        "d1b53902a6f34abe882b834b5e7c8f64": {
          "model_module": "@jupyter-widgets/base",
          "model_name": "LayoutModel",
          "model_module_version": "1.2.0",
          "state": {
            "_model_module": "@jupyter-widgets/base",
            "_model_module_version": "1.2.0",
            "_model_name": "LayoutModel",
            "_view_count": null,
            "_view_module": "@jupyter-widgets/base",
            "_view_module_version": "1.2.0",
            "_view_name": "LayoutView",
            "align_content": null,
            "align_items": null,
            "align_self": null,
            "border": null,
            "bottom": null,
            "display": null,
            "flex": null,
            "flex_flow": null,
            "grid_area": null,
            "grid_auto_columns": null,
            "grid_auto_flow": null,
            "grid_auto_rows": null,
            "grid_column": null,
            "grid_gap": null,
            "grid_row": null,
            "grid_template_areas": null,
            "grid_template_columns": null,
            "grid_template_rows": null,
            "height": null,
            "justify_content": null,
            "justify_items": null,
            "left": null,
            "margin": null,
            "max_height": null,
            "max_width": null,
            "min_height": null,
            "min_width": null,
            "object_fit": null,
            "object_position": null,
            "order": null,
            "overflow": null,
            "overflow_x": null,
            "overflow_y": null,
            "padding": null,
            "right": null,
            "top": null,
            "visibility": null,
            "width": null
          }
        },
        "c0e7de876a694785aa9d8aa1187e47a8": {
          "model_module": "@jupyter-widgets/controls",
          "model_name": "DescriptionStyleModel",
          "model_module_version": "1.5.0",
          "state": {
            "_model_module": "@jupyter-widgets/controls",
            "_model_module_version": "1.5.0",
            "_model_name": "DescriptionStyleModel",
            "_view_count": null,
            "_view_module": "@jupyter-widgets/base",
            "_view_module_version": "1.2.0",
            "_view_name": "StyleView",
            "description_width": ""
          }
        },
        "3b52c773ea3e47ff9242f40e6edc355d": {
          "model_module": "@jupyter-widgets/base",
          "model_name": "LayoutModel",
          "model_module_version": "1.2.0",
          "state": {
            "_model_module": "@jupyter-widgets/base",
            "_model_module_version": "1.2.0",
            "_model_name": "LayoutModel",
            "_view_count": null,
            "_view_module": "@jupyter-widgets/base",
            "_view_module_version": "1.2.0",
            "_view_name": "LayoutView",
            "align_content": null,
            "align_items": null,
            "align_self": null,
            "border": null,
            "bottom": null,
            "display": null,
            "flex": null,
            "flex_flow": null,
            "grid_area": null,
            "grid_auto_columns": null,
            "grid_auto_flow": null,
            "grid_auto_rows": null,
            "grid_column": null,
            "grid_gap": null,
            "grid_row": null,
            "grid_template_areas": null,
            "grid_template_columns": null,
            "grid_template_rows": null,
            "height": null,
            "justify_content": null,
            "justify_items": null,
            "left": null,
            "margin": null,
            "max_height": null,
            "max_width": null,
            "min_height": null,
            "min_width": null,
            "object_fit": null,
            "object_position": null,
            "order": null,
            "overflow": null,
            "overflow_x": null,
            "overflow_y": null,
            "padding": null,
            "right": null,
            "top": null,
            "visibility": null,
            "width": null
          }
        },
        "a43c0aeb191249e18b7c651e7b0f24dc": {
          "model_module": "@jupyter-widgets/controls",
          "model_name": "ProgressStyleModel",
          "model_module_version": "1.5.0",
          "state": {
            "_model_module": "@jupyter-widgets/controls",
            "_model_module_version": "1.5.0",
            "_model_name": "ProgressStyleModel",
            "_view_count": null,
            "_view_module": "@jupyter-widgets/base",
            "_view_module_version": "1.2.0",
            "_view_name": "StyleView",
            "bar_color": null,
            "description_width": ""
          }
        },
        "32c6163d20c94f2fad2cefee5759c5b4": {
          "model_module": "@jupyter-widgets/base",
          "model_name": "LayoutModel",
          "model_module_version": "1.2.0",
          "state": {
            "_model_module": "@jupyter-widgets/base",
            "_model_module_version": "1.2.0",
            "_model_name": "LayoutModel",
            "_view_count": null,
            "_view_module": "@jupyter-widgets/base",
            "_view_module_version": "1.2.0",
            "_view_name": "LayoutView",
            "align_content": null,
            "align_items": null,
            "align_self": null,
            "border": null,
            "bottom": null,
            "display": null,
            "flex": null,
            "flex_flow": null,
            "grid_area": null,
            "grid_auto_columns": null,
            "grid_auto_flow": null,
            "grid_auto_rows": null,
            "grid_column": null,
            "grid_gap": null,
            "grid_row": null,
            "grid_template_areas": null,
            "grid_template_columns": null,
            "grid_template_rows": null,
            "height": null,
            "justify_content": null,
            "justify_items": null,
            "left": null,
            "margin": null,
            "max_height": null,
            "max_width": null,
            "min_height": null,
            "min_width": null,
            "object_fit": null,
            "object_position": null,
            "order": null,
            "overflow": null,
            "overflow_x": null,
            "overflow_y": null,
            "padding": null,
            "right": null,
            "top": null,
            "visibility": null,
            "width": null
          }
        },
        "ff7c5cbc35ab4eafaab31e3ebf5cc20a": {
          "model_module": "@jupyter-widgets/controls",
          "model_name": "DescriptionStyleModel",
          "model_module_version": "1.5.0",
          "state": {
            "_model_module": "@jupyter-widgets/controls",
            "_model_module_version": "1.5.0",
            "_model_name": "DescriptionStyleModel",
            "_view_count": null,
            "_view_module": "@jupyter-widgets/base",
            "_view_module_version": "1.2.0",
            "_view_name": "StyleView",
            "description_width": ""
          }
        },
        "b95bf4ac93f34833ba251d21c18299d6": {
          "model_module": "@jupyter-widgets/controls",
          "model_name": "HBoxModel",
          "model_module_version": "1.5.0",
          "state": {
            "_dom_classes": [],
            "_model_module": "@jupyter-widgets/controls",
            "_model_module_version": "1.5.0",
            "_model_name": "HBoxModel",
            "_view_count": null,
            "_view_module": "@jupyter-widgets/controls",
            "_view_module_version": "1.5.0",
            "_view_name": "HBoxView",
            "box_style": "",
            "children": [
              "IPY_MODEL_b73b638fd5d24596b1a725d44c2fc7aa",
              "IPY_MODEL_6b2d66048ff74ec3a8fe60402c55e4bc",
              "IPY_MODEL_dab75fa226e94f7cb5c3579c59648c7f"
            ],
            "layout": "IPY_MODEL_c071d2e178d14c5196339f821cd1568d"
          }
        },
        "b73b638fd5d24596b1a725d44c2fc7aa": {
          "model_module": "@jupyter-widgets/controls",
          "model_name": "HTMLModel",
          "model_module_version": "1.5.0",
          "state": {
            "_dom_classes": [],
            "_model_module": "@jupyter-widgets/controls",
            "_model_module_version": "1.5.0",
            "_model_name": "HTMLModel",
            "_view_count": null,
            "_view_module": "@jupyter-widgets/controls",
            "_view_module_version": "1.5.0",
            "_view_name": "HTMLView",
            "description": "",
            "description_tooltip": null,
            "layout": "IPY_MODEL_244c5a9bd8c04c6faba143add9d9387d",
            "placeholder": "​",
            "style": "IPY_MODEL_bad6ec5958654e7d8c6c2cc051959f3a",
            "value": "tokenizer.json: 100%"
          }
        },
        "6b2d66048ff74ec3a8fe60402c55e4bc": {
          "model_module": "@jupyter-widgets/controls",
          "model_name": "FloatProgressModel",
          "model_module_version": "1.5.0",
          "state": {
            "_dom_classes": [],
            "_model_module": "@jupyter-widgets/controls",
            "_model_module_version": "1.5.0",
            "_model_name": "FloatProgressModel",
            "_view_count": null,
            "_view_module": "@jupyter-widgets/controls",
            "_view_module_version": "1.5.0",
            "_view_name": "ProgressView",
            "bar_style": "success",
            "description": "",
            "description_tooltip": null,
            "layout": "IPY_MODEL_8ee8689d14a24e92a206a63db797717a",
            "max": 466062,
            "min": 0,
            "orientation": "horizontal",
            "style": "IPY_MODEL_cdf211c544a14de495be94f7802e2f3f",
            "value": 466062
          }
        },
        "dab75fa226e94f7cb5c3579c59648c7f": {
          "model_module": "@jupyter-widgets/controls",
          "model_name": "HTMLModel",
          "model_module_version": "1.5.0",
          "state": {
            "_dom_classes": [],
            "_model_module": "@jupyter-widgets/controls",
            "_model_module_version": "1.5.0",
            "_model_name": "HTMLModel",
            "_view_count": null,
            "_view_module": "@jupyter-widgets/controls",
            "_view_module_version": "1.5.0",
            "_view_name": "HTMLView",
            "description": "",
            "description_tooltip": null,
            "layout": "IPY_MODEL_f056d24d7c0e46a2a13c3d8be1fa488f",
            "placeholder": "​",
            "style": "IPY_MODEL_cc14751224cd406fbc4fc21d779863fa",
            "value": " 466k/466k [00:00&lt;00:00, 9.60MB/s]"
          }
        },
        "c071d2e178d14c5196339f821cd1568d": {
          "model_module": "@jupyter-widgets/base",
          "model_name": "LayoutModel",
          "model_module_version": "1.2.0",
          "state": {
            "_model_module": "@jupyter-widgets/base",
            "_model_module_version": "1.2.0",
            "_model_name": "LayoutModel",
            "_view_count": null,
            "_view_module": "@jupyter-widgets/base",
            "_view_module_version": "1.2.0",
            "_view_name": "LayoutView",
            "align_content": null,
            "align_items": null,
            "align_self": null,
            "border": null,
            "bottom": null,
            "display": null,
            "flex": null,
            "flex_flow": null,
            "grid_area": null,
            "grid_auto_columns": null,
            "grid_auto_flow": null,
            "grid_auto_rows": null,
            "grid_column": null,
            "grid_gap": null,
            "grid_row": null,
            "grid_template_areas": null,
            "grid_template_columns": null,
            "grid_template_rows": null,
            "height": null,
            "justify_content": null,
            "justify_items": null,
            "left": null,
            "margin": null,
            "max_height": null,
            "max_width": null,
            "min_height": null,
            "min_width": null,
            "object_fit": null,
            "object_position": null,
            "order": null,
            "overflow": null,
            "overflow_x": null,
            "overflow_y": null,
            "padding": null,
            "right": null,
            "top": null,
            "visibility": null,
            "width": null
          }
        },
        "244c5a9bd8c04c6faba143add9d9387d": {
          "model_module": "@jupyter-widgets/base",
          "model_name": "LayoutModel",
          "model_module_version": "1.2.0",
          "state": {
            "_model_module": "@jupyter-widgets/base",
            "_model_module_version": "1.2.0",
            "_model_name": "LayoutModel",
            "_view_count": null,
            "_view_module": "@jupyter-widgets/base",
            "_view_module_version": "1.2.0",
            "_view_name": "LayoutView",
            "align_content": null,
            "align_items": null,
            "align_self": null,
            "border": null,
            "bottom": null,
            "display": null,
            "flex": null,
            "flex_flow": null,
            "grid_area": null,
            "grid_auto_columns": null,
            "grid_auto_flow": null,
            "grid_auto_rows": null,
            "grid_column": null,
            "grid_gap": null,
            "grid_row": null,
            "grid_template_areas": null,
            "grid_template_columns": null,
            "grid_template_rows": null,
            "height": null,
            "justify_content": null,
            "justify_items": null,
            "left": null,
            "margin": null,
            "max_height": null,
            "max_width": null,
            "min_height": null,
            "min_width": null,
            "object_fit": null,
            "object_position": null,
            "order": null,
            "overflow": null,
            "overflow_x": null,
            "overflow_y": null,
            "padding": null,
            "right": null,
            "top": null,
            "visibility": null,
            "width": null
          }
        },
        "bad6ec5958654e7d8c6c2cc051959f3a": {
          "model_module": "@jupyter-widgets/controls",
          "model_name": "DescriptionStyleModel",
          "model_module_version": "1.5.0",
          "state": {
            "_model_module": "@jupyter-widgets/controls",
            "_model_module_version": "1.5.0",
            "_model_name": "DescriptionStyleModel",
            "_view_count": null,
            "_view_module": "@jupyter-widgets/base",
            "_view_module_version": "1.2.0",
            "_view_name": "StyleView",
            "description_width": ""
          }
        },
        "8ee8689d14a24e92a206a63db797717a": {
          "model_module": "@jupyter-widgets/base",
          "model_name": "LayoutModel",
          "model_module_version": "1.2.0",
          "state": {
            "_model_module": "@jupyter-widgets/base",
            "_model_module_version": "1.2.0",
            "_model_name": "LayoutModel",
            "_view_count": null,
            "_view_module": "@jupyter-widgets/base",
            "_view_module_version": "1.2.0",
            "_view_name": "LayoutView",
            "align_content": null,
            "align_items": null,
            "align_self": null,
            "border": null,
            "bottom": null,
            "display": null,
            "flex": null,
            "flex_flow": null,
            "grid_area": null,
            "grid_auto_columns": null,
            "grid_auto_flow": null,
            "grid_auto_rows": null,
            "grid_column": null,
            "grid_gap": null,
            "grid_row": null,
            "grid_template_areas": null,
            "grid_template_columns": null,
            "grid_template_rows": null,
            "height": null,
            "justify_content": null,
            "justify_items": null,
            "left": null,
            "margin": null,
            "max_height": null,
            "max_width": null,
            "min_height": null,
            "min_width": null,
            "object_fit": null,
            "object_position": null,
            "order": null,
            "overflow": null,
            "overflow_x": null,
            "overflow_y": null,
            "padding": null,
            "right": null,
            "top": null,
            "visibility": null,
            "width": null
          }
        },
        "cdf211c544a14de495be94f7802e2f3f": {
          "model_module": "@jupyter-widgets/controls",
          "model_name": "ProgressStyleModel",
          "model_module_version": "1.5.0",
          "state": {
            "_model_module": "@jupyter-widgets/controls",
            "_model_module_version": "1.5.0",
            "_model_name": "ProgressStyleModel",
            "_view_count": null,
            "_view_module": "@jupyter-widgets/base",
            "_view_module_version": "1.2.0",
            "_view_name": "StyleView",
            "bar_color": null,
            "description_width": ""
          }
        },
        "f056d24d7c0e46a2a13c3d8be1fa488f": {
          "model_module": "@jupyter-widgets/base",
          "model_name": "LayoutModel",
          "model_module_version": "1.2.0",
          "state": {
            "_model_module": "@jupyter-widgets/base",
            "_model_module_version": "1.2.0",
            "_model_name": "LayoutModel",
            "_view_count": null,
            "_view_module": "@jupyter-widgets/base",
            "_view_module_version": "1.2.0",
            "_view_name": "LayoutView",
            "align_content": null,
            "align_items": null,
            "align_self": null,
            "border": null,
            "bottom": null,
            "display": null,
            "flex": null,
            "flex_flow": null,
            "grid_area": null,
            "grid_auto_columns": null,
            "grid_auto_flow": null,
            "grid_auto_rows": null,
            "grid_column": null,
            "grid_gap": null,
            "grid_row": null,
            "grid_template_areas": null,
            "grid_template_columns": null,
            "grid_template_rows": null,
            "height": null,
            "justify_content": null,
            "justify_items": null,
            "left": null,
            "margin": null,
            "max_height": null,
            "max_width": null,
            "min_height": null,
            "min_width": null,
            "object_fit": null,
            "object_position": null,
            "order": null,
            "overflow": null,
            "overflow_x": null,
            "overflow_y": null,
            "padding": null,
            "right": null,
            "top": null,
            "visibility": null,
            "width": null
          }
        },
        "cc14751224cd406fbc4fc21d779863fa": {
          "model_module": "@jupyter-widgets/controls",
          "model_name": "DescriptionStyleModel",
          "model_module_version": "1.5.0",
          "state": {
            "_model_module": "@jupyter-widgets/controls",
            "_model_module_version": "1.5.0",
            "_model_name": "DescriptionStyleModel",
            "_view_count": null,
            "_view_module": "@jupyter-widgets/base",
            "_view_module_version": "1.2.0",
            "_view_name": "StyleView",
            "description_width": ""
          }
        },
        "52a755bbbce04bdaa2a4f98957d3aa97": {
          "model_module": "@jupyter-widgets/controls",
          "model_name": "HBoxModel",
          "model_module_version": "1.5.0",
          "state": {
            "_dom_classes": [],
            "_model_module": "@jupyter-widgets/controls",
            "_model_module_version": "1.5.0",
            "_model_name": "HBoxModel",
            "_view_count": null,
            "_view_module": "@jupyter-widgets/controls",
            "_view_module_version": "1.5.0",
            "_view_name": "HBoxView",
            "box_style": "",
            "children": [
              "IPY_MODEL_09b585f8a69842df90a461434660cc94",
              "IPY_MODEL_5a83fbcfc5ee460db3a3445fbea0f90a",
              "IPY_MODEL_8f2d7ced099b484a9c50e7fc8aa1e585"
            ],
            "layout": "IPY_MODEL_6da075ce0a8248b0b1accfeccdf6ca7f"
          }
        },
        "09b585f8a69842df90a461434660cc94": {
          "model_module": "@jupyter-widgets/controls",
          "model_name": "HTMLModel",
          "model_module_version": "1.5.0",
          "state": {
            "_dom_classes": [],
            "_model_module": "@jupyter-widgets/controls",
            "_model_module_version": "1.5.0",
            "_model_name": "HTMLModel",
            "_view_count": null,
            "_view_module": "@jupyter-widgets/controls",
            "_view_module_version": "1.5.0",
            "_view_name": "HTMLView",
            "description": "",
            "description_tooltip": null,
            "layout": "IPY_MODEL_f2eed3456bec4c468fbf8df434719ce6",
            "placeholder": "​",
            "style": "IPY_MODEL_21575d4344af4184be61c3ee50343501",
            "value": "config.json: 100%"
          }
        },
        "5a83fbcfc5ee460db3a3445fbea0f90a": {
          "model_module": "@jupyter-widgets/controls",
          "model_name": "FloatProgressModel",
          "model_module_version": "1.5.0",
          "state": {
            "_dom_classes": [],
            "_model_module": "@jupyter-widgets/controls",
            "_model_module_version": "1.5.0",
            "_model_name": "FloatProgressModel",
            "_view_count": null,
            "_view_module": "@jupyter-widgets/controls",
            "_view_module_version": "1.5.0",
            "_view_name": "ProgressView",
            "bar_style": "success",
            "description": "",
            "description_tooltip": null,
            "layout": "IPY_MODEL_b30c1941f6604e5dad948015b3bc26b7",
            "max": 570,
            "min": 0,
            "orientation": "horizontal",
            "style": "IPY_MODEL_d011ab606c9b46d2918d41f419998a4b",
            "value": 570
          }
        },
        "8f2d7ced099b484a9c50e7fc8aa1e585": {
          "model_module": "@jupyter-widgets/controls",
          "model_name": "HTMLModel",
          "model_module_version": "1.5.0",
          "state": {
            "_dom_classes": [],
            "_model_module": "@jupyter-widgets/controls",
            "_model_module_version": "1.5.0",
            "_model_name": "HTMLModel",
            "_view_count": null,
            "_view_module": "@jupyter-widgets/controls",
            "_view_module_version": "1.5.0",
            "_view_name": "HTMLView",
            "description": "",
            "description_tooltip": null,
            "layout": "IPY_MODEL_f7fb4b55627446b1a5c5092887d3bf4c",
            "placeholder": "​",
            "style": "IPY_MODEL_3026dbbb341d417aade0f4f8c7c8edbc",
            "value": " 570/570 [00:00&lt;00:00, 21.3kB/s]"
          }
        },
        "6da075ce0a8248b0b1accfeccdf6ca7f": {
          "model_module": "@jupyter-widgets/base",
          "model_name": "LayoutModel",
          "model_module_version": "1.2.0",
          "state": {
            "_model_module": "@jupyter-widgets/base",
            "_model_module_version": "1.2.0",
            "_model_name": "LayoutModel",
            "_view_count": null,
            "_view_module": "@jupyter-widgets/base",
            "_view_module_version": "1.2.0",
            "_view_name": "LayoutView",
            "align_content": null,
            "align_items": null,
            "align_self": null,
            "border": null,
            "bottom": null,
            "display": null,
            "flex": null,
            "flex_flow": null,
            "grid_area": null,
            "grid_auto_columns": null,
            "grid_auto_flow": null,
            "grid_auto_rows": null,
            "grid_column": null,
            "grid_gap": null,
            "grid_row": null,
            "grid_template_areas": null,
            "grid_template_columns": null,
            "grid_template_rows": null,
            "height": null,
            "justify_content": null,
            "justify_items": null,
            "left": null,
            "margin": null,
            "max_height": null,
            "max_width": null,
            "min_height": null,
            "min_width": null,
            "object_fit": null,
            "object_position": null,
            "order": null,
            "overflow": null,
            "overflow_x": null,
            "overflow_y": null,
            "padding": null,
            "right": null,
            "top": null,
            "visibility": null,
            "width": null
          }
        },
        "f2eed3456bec4c468fbf8df434719ce6": {
          "model_module": "@jupyter-widgets/base",
          "model_name": "LayoutModel",
          "model_module_version": "1.2.0",
          "state": {
            "_model_module": "@jupyter-widgets/base",
            "_model_module_version": "1.2.0",
            "_model_name": "LayoutModel",
            "_view_count": null,
            "_view_module": "@jupyter-widgets/base",
            "_view_module_version": "1.2.0",
            "_view_name": "LayoutView",
            "align_content": null,
            "align_items": null,
            "align_self": null,
            "border": null,
            "bottom": null,
            "display": null,
            "flex": null,
            "flex_flow": null,
            "grid_area": null,
            "grid_auto_columns": null,
            "grid_auto_flow": null,
            "grid_auto_rows": null,
            "grid_column": null,
            "grid_gap": null,
            "grid_row": null,
            "grid_template_areas": null,
            "grid_template_columns": null,
            "grid_template_rows": null,
            "height": null,
            "justify_content": null,
            "justify_items": null,
            "left": null,
            "margin": null,
            "max_height": null,
            "max_width": null,
            "min_height": null,
            "min_width": null,
            "object_fit": null,
            "object_position": null,
            "order": null,
            "overflow": null,
            "overflow_x": null,
            "overflow_y": null,
            "padding": null,
            "right": null,
            "top": null,
            "visibility": null,
            "width": null
          }
        },
        "21575d4344af4184be61c3ee50343501": {
          "model_module": "@jupyter-widgets/controls",
          "model_name": "DescriptionStyleModel",
          "model_module_version": "1.5.0",
          "state": {
            "_model_module": "@jupyter-widgets/controls",
            "_model_module_version": "1.5.0",
            "_model_name": "DescriptionStyleModel",
            "_view_count": null,
            "_view_module": "@jupyter-widgets/base",
            "_view_module_version": "1.2.0",
            "_view_name": "StyleView",
            "description_width": ""
          }
        },
        "b30c1941f6604e5dad948015b3bc26b7": {
          "model_module": "@jupyter-widgets/base",
          "model_name": "LayoutModel",
          "model_module_version": "1.2.0",
          "state": {
            "_model_module": "@jupyter-widgets/base",
            "_model_module_version": "1.2.0",
            "_model_name": "LayoutModel",
            "_view_count": null,
            "_view_module": "@jupyter-widgets/base",
            "_view_module_version": "1.2.0",
            "_view_name": "LayoutView",
            "align_content": null,
            "align_items": null,
            "align_self": null,
            "border": null,
            "bottom": null,
            "display": null,
            "flex": null,
            "flex_flow": null,
            "grid_area": null,
            "grid_auto_columns": null,
            "grid_auto_flow": null,
            "grid_auto_rows": null,
            "grid_column": null,
            "grid_gap": null,
            "grid_row": null,
            "grid_template_areas": null,
            "grid_template_columns": null,
            "grid_template_rows": null,
            "height": null,
            "justify_content": null,
            "justify_items": null,
            "left": null,
            "margin": null,
            "max_height": null,
            "max_width": null,
            "min_height": null,
            "min_width": null,
            "object_fit": null,
            "object_position": null,
            "order": null,
            "overflow": null,
            "overflow_x": null,
            "overflow_y": null,
            "padding": null,
            "right": null,
            "top": null,
            "visibility": null,
            "width": null
          }
        },
        "d011ab606c9b46d2918d41f419998a4b": {
          "model_module": "@jupyter-widgets/controls",
          "model_name": "ProgressStyleModel",
          "model_module_version": "1.5.0",
          "state": {
            "_model_module": "@jupyter-widgets/controls",
            "_model_module_version": "1.5.0",
            "_model_name": "ProgressStyleModel",
            "_view_count": null,
            "_view_module": "@jupyter-widgets/base",
            "_view_module_version": "1.2.0",
            "_view_name": "StyleView",
            "bar_color": null,
            "description_width": ""
          }
        },
        "f7fb4b55627446b1a5c5092887d3bf4c": {
          "model_module": "@jupyter-widgets/base",
          "model_name": "LayoutModel",
          "model_module_version": "1.2.0",
          "state": {
            "_model_module": "@jupyter-widgets/base",
            "_model_module_version": "1.2.0",
            "_model_name": "LayoutModel",
            "_view_count": null,
            "_view_module": "@jupyter-widgets/base",
            "_view_module_version": "1.2.0",
            "_view_name": "LayoutView",
            "align_content": null,
            "align_items": null,
            "align_self": null,
            "border": null,
            "bottom": null,
            "display": null,
            "flex": null,
            "flex_flow": null,
            "grid_area": null,
            "grid_auto_columns": null,
            "grid_auto_flow": null,
            "grid_auto_rows": null,
            "grid_column": null,
            "grid_gap": null,
            "grid_row": null,
            "grid_template_areas": null,
            "grid_template_columns": null,
            "grid_template_rows": null,
            "height": null,
            "justify_content": null,
            "justify_items": null,
            "left": null,
            "margin": null,
            "max_height": null,
            "max_width": null,
            "min_height": null,
            "min_width": null,
            "object_fit": null,
            "object_position": null,
            "order": null,
            "overflow": null,
            "overflow_x": null,
            "overflow_y": null,
            "padding": null,
            "right": null,
            "top": null,
            "visibility": null,
            "width": null
          }
        },
        "3026dbbb341d417aade0f4f8c7c8edbc": {
          "model_module": "@jupyter-widgets/controls",
          "model_name": "DescriptionStyleModel",
          "model_module_version": "1.5.0",
          "state": {
            "_model_module": "@jupyter-widgets/controls",
            "_model_module_version": "1.5.0",
            "_model_name": "DescriptionStyleModel",
            "_view_count": null,
            "_view_module": "@jupyter-widgets/base",
            "_view_module_version": "1.2.0",
            "_view_name": "StyleView",
            "description_width": ""
          }
        },
        "b85ec9ccbf5d4253b2a1daab48c248e5": {
          "model_module": "@jupyter-widgets/controls",
          "model_name": "HBoxModel",
          "model_module_version": "1.5.0",
          "state": {
            "_dom_classes": [],
            "_model_module": "@jupyter-widgets/controls",
            "_model_module_version": "1.5.0",
            "_model_name": "HBoxModel",
            "_view_count": null,
            "_view_module": "@jupyter-widgets/controls",
            "_view_module_version": "1.5.0",
            "_view_name": "HBoxView",
            "box_style": "",
            "children": [
              "IPY_MODEL_c61d3727d15148ddad3ce33175dd3ff7",
              "IPY_MODEL_36d1e452eaed4595aae39a6bfe414ba0",
              "IPY_MODEL_ff448c89f23b4cc0affbaf16d679cd1b"
            ],
            "layout": "IPY_MODEL_2527c6a941cc4f80af068667514f6e20"
          }
        },
        "c61d3727d15148ddad3ce33175dd3ff7": {
          "model_module": "@jupyter-widgets/controls",
          "model_name": "HTMLModel",
          "model_module_version": "1.5.0",
          "state": {
            "_dom_classes": [],
            "_model_module": "@jupyter-widgets/controls",
            "_model_module_version": "1.5.0",
            "_model_name": "HTMLModel",
            "_view_count": null,
            "_view_module": "@jupyter-widgets/controls",
            "_view_module_version": "1.5.0",
            "_view_name": "HTMLView",
            "description": "",
            "description_tooltip": null,
            "layout": "IPY_MODEL_db8d80ba9375415d95a9fc6186cb51a9",
            "placeholder": "​",
            "style": "IPY_MODEL_90879c6cfecb4ea6bf1d790c32d48649",
            "value": "model.safetensors: 100%"
          }
        },
        "36d1e452eaed4595aae39a6bfe414ba0": {
          "model_module": "@jupyter-widgets/controls",
          "model_name": "FloatProgressModel",
          "model_module_version": "1.5.0",
          "state": {
            "_dom_classes": [],
            "_model_module": "@jupyter-widgets/controls",
            "_model_module_version": "1.5.0",
            "_model_name": "FloatProgressModel",
            "_view_count": null,
            "_view_module": "@jupyter-widgets/controls",
            "_view_module_version": "1.5.0",
            "_view_name": "ProgressView",
            "bar_style": "success",
            "description": "",
            "description_tooltip": null,
            "layout": "IPY_MODEL_12ae0c7121634559801d712b069f46fe",
            "max": 440449768,
            "min": 0,
            "orientation": "horizontal",
            "style": "IPY_MODEL_1b803f446f6541368920c074cb3d34fb",
            "value": 440449768
          }
        },
        "ff448c89f23b4cc0affbaf16d679cd1b": {
          "model_module": "@jupyter-widgets/controls",
          "model_name": "HTMLModel",
          "model_module_version": "1.5.0",
          "state": {
            "_dom_classes": [],
            "_model_module": "@jupyter-widgets/controls",
            "_model_module_version": "1.5.0",
            "_model_name": "HTMLModel",
            "_view_count": null,
            "_view_module": "@jupyter-widgets/controls",
            "_view_module_version": "1.5.0",
            "_view_name": "HTMLView",
            "description": "",
            "description_tooltip": null,
            "layout": "IPY_MODEL_4417bab40ea343c8a367afdf3c5c6020",
            "placeholder": "​",
            "style": "IPY_MODEL_c49d820d493040bc8016113cb0c236d1",
            "value": " 440M/440M [00:05&lt;00:00, 34.3MB/s]"
          }
        },
        "2527c6a941cc4f80af068667514f6e20": {
          "model_module": "@jupyter-widgets/base",
          "model_name": "LayoutModel",
          "model_module_version": "1.2.0",
          "state": {
            "_model_module": "@jupyter-widgets/base",
            "_model_module_version": "1.2.0",
            "_model_name": "LayoutModel",
            "_view_count": null,
            "_view_module": "@jupyter-widgets/base",
            "_view_module_version": "1.2.0",
            "_view_name": "LayoutView",
            "align_content": null,
            "align_items": null,
            "align_self": null,
            "border": null,
            "bottom": null,
            "display": null,
            "flex": null,
            "flex_flow": null,
            "grid_area": null,
            "grid_auto_columns": null,
            "grid_auto_flow": null,
            "grid_auto_rows": null,
            "grid_column": null,
            "grid_gap": null,
            "grid_row": null,
            "grid_template_areas": null,
            "grid_template_columns": null,
            "grid_template_rows": null,
            "height": null,
            "justify_content": null,
            "justify_items": null,
            "left": null,
            "margin": null,
            "max_height": null,
            "max_width": null,
            "min_height": null,
            "min_width": null,
            "object_fit": null,
            "object_position": null,
            "order": null,
            "overflow": null,
            "overflow_x": null,
            "overflow_y": null,
            "padding": null,
            "right": null,
            "top": null,
            "visibility": null,
            "width": null
          }
        },
        "db8d80ba9375415d95a9fc6186cb51a9": {
          "model_module": "@jupyter-widgets/base",
          "model_name": "LayoutModel",
          "model_module_version": "1.2.0",
          "state": {
            "_model_module": "@jupyter-widgets/base",
            "_model_module_version": "1.2.0",
            "_model_name": "LayoutModel",
            "_view_count": null,
            "_view_module": "@jupyter-widgets/base",
            "_view_module_version": "1.2.0",
            "_view_name": "LayoutView",
            "align_content": null,
            "align_items": null,
            "align_self": null,
            "border": null,
            "bottom": null,
            "display": null,
            "flex": null,
            "flex_flow": null,
            "grid_area": null,
            "grid_auto_columns": null,
            "grid_auto_flow": null,
            "grid_auto_rows": null,
            "grid_column": null,
            "grid_gap": null,
            "grid_row": null,
            "grid_template_areas": null,
            "grid_template_columns": null,
            "grid_template_rows": null,
            "height": null,
            "justify_content": null,
            "justify_items": null,
            "left": null,
            "margin": null,
            "max_height": null,
            "max_width": null,
            "min_height": null,
            "min_width": null,
            "object_fit": null,
            "object_position": null,
            "order": null,
            "overflow": null,
            "overflow_x": null,
            "overflow_y": null,
            "padding": null,
            "right": null,
            "top": null,
            "visibility": null,
            "width": null
          }
        },
        "90879c6cfecb4ea6bf1d790c32d48649": {
          "model_module": "@jupyter-widgets/controls",
          "model_name": "DescriptionStyleModel",
          "model_module_version": "1.5.0",
          "state": {
            "_model_module": "@jupyter-widgets/controls",
            "_model_module_version": "1.5.0",
            "_model_name": "DescriptionStyleModel",
            "_view_count": null,
            "_view_module": "@jupyter-widgets/base",
            "_view_module_version": "1.2.0",
            "_view_name": "StyleView",
            "description_width": ""
          }
        },
        "12ae0c7121634559801d712b069f46fe": {
          "model_module": "@jupyter-widgets/base",
          "model_name": "LayoutModel",
          "model_module_version": "1.2.0",
          "state": {
            "_model_module": "@jupyter-widgets/base",
            "_model_module_version": "1.2.0",
            "_model_name": "LayoutModel",
            "_view_count": null,
            "_view_module": "@jupyter-widgets/base",
            "_view_module_version": "1.2.0",
            "_view_name": "LayoutView",
            "align_content": null,
            "align_items": null,
            "align_self": null,
            "border": null,
            "bottom": null,
            "display": null,
            "flex": null,
            "flex_flow": null,
            "grid_area": null,
            "grid_auto_columns": null,
            "grid_auto_flow": null,
            "grid_auto_rows": null,
            "grid_column": null,
            "grid_gap": null,
            "grid_row": null,
            "grid_template_areas": null,
            "grid_template_columns": null,
            "grid_template_rows": null,
            "height": null,
            "justify_content": null,
            "justify_items": null,
            "left": null,
            "margin": null,
            "max_height": null,
            "max_width": null,
            "min_height": null,
            "min_width": null,
            "object_fit": null,
            "object_position": null,
            "order": null,
            "overflow": null,
            "overflow_x": null,
            "overflow_y": null,
            "padding": null,
            "right": null,
            "top": null,
            "visibility": null,
            "width": null
          }
        },
        "1b803f446f6541368920c074cb3d34fb": {
          "model_module": "@jupyter-widgets/controls",
          "model_name": "ProgressStyleModel",
          "model_module_version": "1.5.0",
          "state": {
            "_model_module": "@jupyter-widgets/controls",
            "_model_module_version": "1.5.0",
            "_model_name": "ProgressStyleModel",
            "_view_count": null,
            "_view_module": "@jupyter-widgets/base",
            "_view_module_version": "1.2.0",
            "_view_name": "StyleView",
            "bar_color": null,
            "description_width": ""
          }
        },
        "4417bab40ea343c8a367afdf3c5c6020": {
          "model_module": "@jupyter-widgets/base",
          "model_name": "LayoutModel",
          "model_module_version": "1.2.0",
          "state": {
            "_model_module": "@jupyter-widgets/base",
            "_model_module_version": "1.2.0",
            "_model_name": "LayoutModel",
            "_view_count": null,
            "_view_module": "@jupyter-widgets/base",
            "_view_module_version": "1.2.0",
            "_view_name": "LayoutView",
            "align_content": null,
            "align_items": null,
            "align_self": null,
            "border": null,
            "bottom": null,
            "display": null,
            "flex": null,
            "flex_flow": null,
            "grid_area": null,
            "grid_auto_columns": null,
            "grid_auto_flow": null,
            "grid_auto_rows": null,
            "grid_column": null,
            "grid_gap": null,
            "grid_row": null,
            "grid_template_areas": null,
            "grid_template_columns": null,
            "grid_template_rows": null,
            "height": null,
            "justify_content": null,
            "justify_items": null,
            "left": null,
            "margin": null,
            "max_height": null,
            "max_width": null,
            "min_height": null,
            "min_width": null,
            "object_fit": null,
            "object_position": null,
            "order": null,
            "overflow": null,
            "overflow_x": null,
            "overflow_y": null,
            "padding": null,
            "right": null,
            "top": null,
            "visibility": null,
            "width": null
          }
        },
        "c49d820d493040bc8016113cb0c236d1": {
          "model_module": "@jupyter-widgets/controls",
          "model_name": "DescriptionStyleModel",
          "model_module_version": "1.5.0",
          "state": {
            "_model_module": "@jupyter-widgets/controls",
            "_model_module_version": "1.5.0",
            "_model_name": "DescriptionStyleModel",
            "_view_count": null,
            "_view_module": "@jupyter-widgets/base",
            "_view_module_version": "1.2.0",
            "_view_name": "StyleView",
            "description_width": ""
          }
        }
      }
    }
  },
  "nbformat": 4,
  "nbformat_minor": 0
}